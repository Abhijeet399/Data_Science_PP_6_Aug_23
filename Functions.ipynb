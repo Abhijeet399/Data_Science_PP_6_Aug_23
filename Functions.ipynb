{
  "nbformat": 4,
  "nbformat_minor": 0,
  "metadata": {
    "colab": {
      "provenance": []
    },
    "kernelspec": {
      "name": "python3",
      "display_name": "Python 3"
    },
    "language_info": {
      "name": "python"
    }
  },
  "cells": [
    {
      "cell_type": "code",
      "execution_count": 7,
      "metadata": {
        "id": "cMyQWGLy4JJU"
      },
      "outputs": [],
      "source": [
        "def adder(a,b):\n",
        "  c = a + b\n",
        "  return c"
      ]
    },
    {
      "cell_type": "code",
      "source": [
        "a = 2\n",
        "b = 3\n",
        "adder(a,b)"
      ],
      "metadata": {
        "colab": {
          "base_uri": "https://localhost:8080/"
        },
        "id": "5sDJcDbO5dWp",
        "outputId": "0959b078-50f1-48ef-fb3f-7d656750c929"
      },
      "execution_count": 9,
      "outputs": [
        {
          "output_type": "execute_result",
          "data": {
            "text/plain": [
              "5"
            ]
          },
          "metadata": {},
          "execution_count": 9
        }
      ]
    },
    {
      "cell_type": "code",
      "source": [
        "def subtraction(a,b):\n",
        "  print(a-b)"
      ],
      "metadata": {
        "id": "8AyGMmmZ5o5v"
      },
      "execution_count": 5,
      "outputs": []
    },
    {
      "cell_type": "code",
      "source": [
        "subtraction(a,b)"
      ],
      "metadata": {
        "colab": {
          "base_uri": "https://localhost:8080/"
        },
        "id": "h-bHxoJK53aB",
        "outputId": "f3522732-39b5-4a0a-88de-a287d504b0dc"
      },
      "execution_count": 6,
      "outputs": [
        {
          "output_type": "stream",
          "name": "stdout",
          "text": [
            "-1\n"
          ]
        }
      ]
    },
    {
      "cell_type": "code",
      "source": [
        "def calculator(a,b,c,d,e,f,g,h):\n",
        "  return (a+b),(c-d),(e*f),(g/h)"
      ],
      "metadata": {
        "id": "aJmE5eqi56xF"
      },
      "execution_count": 13,
      "outputs": []
    },
    {
      "cell_type": "code",
      "source": [
        "calculator(5,2,6,8,2,5,6,10)"
      ],
      "metadata": {
        "colab": {
          "base_uri": "https://localhost:8080/"
        },
        "id": "IH3UplIw6W9V",
        "outputId": "0b8d4326-b9ae-49e9-99b0-defb75799e83"
      },
      "execution_count": 14,
      "outputs": [
        {
          "output_type": "execute_result",
          "data": {
            "text/plain": [
              "(7, -2, 10, 0.6)"
            ]
          },
          "metadata": {},
          "execution_count": 14
        }
      ]
    },
    {
      "cell_type": "code",
      "source": [
        "# default arguments\n",
        "\n",
        "def fav_country( country= \"Paris\"):\n",
        "  print( \"i love this country\" + country)\n",
        "\n",
        "\n",
        "fav_country()\n",
        "fav_country(\"india\")\n",
        "\n",
        "\n"
      ],
      "metadata": {
        "colab": {
          "base_uri": "https://localhost:8080/"
        },
        "id": "vPgd33t36cMa",
        "outputId": "6ff89594-a4a7-4263-df08-fc18c01eebb6"
      },
      "execution_count": 16,
      "outputs": [
        {
          "output_type": "stream",
          "name": "stdout",
          "text": [
            "i love this countryParis\n",
            "i love this countryindia\n"
          ]
        }
      ]
    },
    {
      "cell_type": "code",
      "source": [
        "# Loops introduction\n",
        "# i < 10, 20\n",
        "\n",
        "for i in range(2,11):\n",
        "  print(\"2 x\" , i , \"=\" , 2*i )\n",
        "  # print(i)"
      ],
      "metadata": {
        "colab": {
          "base_uri": "https://localhost:8080/"
        },
        "id": "KqtPXLdD7js2",
        "outputId": "91590fb9-7372-4d86-c2dd-5550ee949009"
      },
      "execution_count": 29,
      "outputs": [
        {
          "output_type": "stream",
          "name": "stdout",
          "text": [
            "2 x 2 = 4\n",
            "2 x 3 = 6\n",
            "2 x 4 = 8\n",
            "2 x 5 = 10\n",
            "2 x 6 = 12\n",
            "2 x 7 = 14\n",
            "2 x 8 = 16\n",
            "2 x 9 = 18\n",
            "2 x 10 = 20\n"
          ]
        }
      ]
    },
    {
      "cell_type": "code",
      "source": [
        "fruits = [\"apple\", \"mango\", \"kiwi\"]\n"
      ],
      "metadata": {
        "id": "nbPHUgbV9EOB"
      },
      "execution_count": 30,
      "outputs": []
    },
    {
      "cell_type": "code",
      "source": [
        "fruits"
      ],
      "metadata": {
        "colab": {
          "base_uri": "https://localhost:8080/"
        },
        "id": "82Tzo77l-zHB",
        "outputId": "af08160e-3c8e-487b-f069-af83c3f4745f"
      },
      "execution_count": 31,
      "outputs": [
        {
          "output_type": "execute_result",
          "data": {
            "text/plain": [
              "['apple', 'mango', 'kiwi']"
            ]
          },
          "metadata": {},
          "execution_count": 31
        }
      ]
    },
    {
      "cell_type": "code",
      "source": [
        "fruits.append(\"banana\")"
      ],
      "metadata": {
        "id": "p7bxvl32-1f6"
      },
      "execution_count": 32,
      "outputs": []
    },
    {
      "cell_type": "code",
      "source": [
        "fruits"
      ],
      "metadata": {
        "colab": {
          "base_uri": "https://localhost:8080/"
        },
        "id": "s4JYIVPK_BuD",
        "outputId": "c3ee9c30-0e9c-4b3d-dfea-200e51e9a295"
      },
      "execution_count": 33,
      "outputs": [
        {
          "output_type": "execute_result",
          "data": {
            "text/plain": [
              "['apple', 'mango', 'kiwi', 'banana']"
            ]
          },
          "metadata": {},
          "execution_count": 33
        }
      ]
    },
    {
      "cell_type": "code",
      "source": [
        "def fruit_basket(fruits):\n",
        "  for i in fruits:\n",
        "    print(i)"
      ],
      "metadata": {
        "id": "lssCasfM_C-q"
      },
      "execution_count": 34,
      "outputs": []
    },
    {
      "cell_type": "code",
      "source": [
        "print(fruit_basket)"
      ],
      "metadata": {
        "colab": {
          "base_uri": "https://localhost:8080/"
        },
        "id": "JVzxThQz_QTW",
        "outputId": "3f840637-7068-4794-c604-870dc4208085"
      },
      "execution_count": 36,
      "outputs": [
        {
          "output_type": "stream",
          "name": "stdout",
          "text": [
            "<function fruit_basket at 0x7fafbd0ee950>\n"
          ]
        }
      ]
    },
    {
      "cell_type": "code",
      "source": [
        "fruit_basket(fruits)"
      ],
      "metadata": {
        "colab": {
          "base_uri": "https://localhost:8080/"
        },
        "id": "qGSTVMHH_R9p",
        "outputId": "b725c357-04b0-49f7-803a-671b2fd3d60b"
      },
      "execution_count": 38,
      "outputs": [
        {
          "output_type": "stream",
          "name": "stdout",
          "text": [
            "apple\n",
            "mango\n",
            "kiwi\n",
            "banana\n"
          ]
        }
      ]
    },
    {
      "cell_type": "code",
      "source": [
        "def empty():\n",
        "  pass\n"
      ],
      "metadata": {
        "id": "6nEbsSxm_eUr"
      },
      "execution_count": 40,
      "outputs": []
    },
    {
      "cell_type": "code",
      "source": [
        "def return_func(a,b):\n",
        "  return a+b"
      ],
      "metadata": {
        "id": "YsRIetYR_pIK"
      },
      "execution_count": 41,
      "outputs": []
    },
    {
      "cell_type": "code",
      "source": [
        "return_func(6,7)"
      ],
      "metadata": {
        "colab": {
          "base_uri": "https://localhost:8080/"
        },
        "id": "bWUS8MCi_66j",
        "outputId": "12294a7d-974a-4c14-fcb0-df8f7975e203"
      },
      "execution_count": 42,
      "outputs": [
        {
          "output_type": "execute_result",
          "data": {
            "text/plain": [
              "13"
            ]
          },
          "metadata": {},
          "execution_count": 42
        }
      ]
    },
    {
      "cell_type": "code",
      "source": [
        "# Args and Kwargs\n",
        "# Arbitatry Arguments => *args\n",
        "# Arbitary Key-Words Arguments => **kwargs"
      ],
      "metadata": {
        "id": "0sLd6jpa_9U4"
      },
      "execution_count": 43,
      "outputs": []
    },
    {
      "cell_type": "code",
      "source": [
        "def Args_function(a,b,*args):\n",
        "  print(a+b)\n",
        "  print(args)"
      ],
      "metadata": {
        "id": "CYuZT5wCARPB"
      },
      "execution_count": 45,
      "outputs": []
    },
    {
      "cell_type": "code",
      "source": [
        "Args_function(3,4,5,6,7,8)"
      ],
      "metadata": {
        "colab": {
          "base_uri": "https://localhost:8080/"
        },
        "id": "3NC8N_vfAjz0",
        "outputId": "a0912dcb-d188-4887-fe5e-bbfb365e2b1f"
      },
      "execution_count": 48,
      "outputs": [
        {
          "output_type": "stream",
          "name": "stdout",
          "text": [
            "7\n",
            "(5, 6, 7, 8)\n"
          ]
        }
      ]
    },
    {
      "cell_type": "code",
      "source": [
        "dictonary = {\"1\":\"sarvesh\",\"2\":\"coding_blocks\"}"
      ],
      "metadata": {
        "id": "LpQu-hnlAqFy"
      },
      "execution_count": 56,
      "outputs": []
    },
    {
      "cell_type": "code",
      "source": [
        "dictonary"
      ],
      "metadata": {
        "colab": {
          "base_uri": "https://localhost:8080/"
        },
        "id": "5O-xAkOLBRtW",
        "outputId": "7e18d56d-8917-4ea4-eecc-0712bfbff2cc"
      },
      "execution_count": 57,
      "outputs": [
        {
          "output_type": "execute_result",
          "data": {
            "text/plain": [
              "{'1': 'sarvesh', '2': 'coding_blocks'}"
            ]
          },
          "metadata": {},
          "execution_count": 57
        }
      ]
    },
    {
      "cell_type": "code",
      "source": [
        "# define a list with your name , age , hobbies, school name and define a function to print the list\n",
        "\n",
        "# define a function to print tables of 4 ,6 ,9\n",
        "\n",
        "# define a function to calculate area of a circle and return the area using the return function.\n",
        "\n",
        "# write a function to swap two numbers.\n",
        "\n",
        "# write a function to sum and multiply all numbers in a list\n",
        "\n",
        "# write a function to calculate the parabola equation"
      ],
      "metadata": {
        "id": "h2MBP86KBXaL"
      },
      "execution_count": 58,
      "outputs": []
    },
    {
      "cell_type": "code",
      "source": [
        "# define a list with your name , age , hobbies, school name and define a function to print the list\n",
        "my_self = [\"sarvesh\", 20 , \"cricket\", \"Ryan\"]\n",
        "\n",
        "def about_myself(my_self):\n",
        "  for i in my_self:\n",
        "    print(i)"
      ],
      "metadata": {
        "id": "6huSPevoBiDZ"
      },
      "execution_count": 65,
      "outputs": []
    },
    {
      "cell_type": "code",
      "source": [
        "about_myself(my_self)"
      ],
      "metadata": {
        "colab": {
          "base_uri": "https://localhost:8080/"
        },
        "id": "cgFSfL8MCKfJ",
        "outputId": "1841d567-0c57-43f2-f270-454f8d5098a6"
      },
      "execution_count": 67,
      "outputs": [
        {
          "output_type": "stream",
          "name": "stdout",
          "text": [
            "sarvesh\n",
            "20\n",
            "cricket\n",
            "Ryan\n"
          ]
        }
      ]
    },
    {
      "cell_type": "code",
      "source": [
        "# define a function to print tables of 4 ,6 ,9\n",
        "\n",
        "def tables(a):\n",
        "  for i in range(1,11):\n",
        "    print(\"4 x \", i ,\" = \",4*i)\n",
        "\n",
        "tables(4)"
      ],
      "metadata": {
        "colab": {
          "base_uri": "https://localhost:8080/"
        },
        "id": "1452S9ZrKO0X",
        "outputId": "eeab79e2-ecc9-4074-8316-c6b2424fd7d0"
      },
      "execution_count": 68,
      "outputs": [
        {
          "output_type": "stream",
          "name": "stdout",
          "text": [
            "4 x  1  =  4\n",
            "4 x  2  =  8\n",
            "4 x  3  =  12\n",
            "4 x  4  =  16\n",
            "4 x  5  =  20\n",
            "4 x  6  =  24\n",
            "4 x  7  =  28\n",
            "4 x  8  =  32\n",
            "4 x  9  =  36\n",
            "4 x  10  =  40\n"
          ]
        }
      ]
    },
    {
      "cell_type": "code",
      "source": [
        "def tables(a):\n",
        "  for i in range(1,11):\n",
        "    print(\"6 x \", i ,\" = \",6*i)\n",
        "\n",
        "tables(6)\n"
      ],
      "metadata": {
        "colab": {
          "base_uri": "https://localhost:8080/"
        },
        "id": "lSs9GVqAKyIU",
        "outputId": "35df6583-1448-4065-c06b-98f263036fde"
      },
      "execution_count": 69,
      "outputs": [
        {
          "output_type": "stream",
          "name": "stdout",
          "text": [
            "6 x  1  =  6\n",
            "6 x  2  =  12\n",
            "6 x  3  =  18\n",
            "6 x  4  =  24\n",
            "6 x  5  =  30\n",
            "6 x  6  =  36\n",
            "6 x  7  =  42\n",
            "6 x  8  =  48\n",
            "6 x  9  =  54\n",
            "6 x  10  =  60\n"
          ]
        }
      ]
    },
    {
      "cell_type": "code",
      "source": [
        "def tables(a):\n",
        "  for i in range(1,11):\n",
        "    print(\"9 x \", i ,\" = \",9*i)\n",
        "\n",
        "tables(9)"
      ],
      "metadata": {
        "colab": {
          "base_uri": "https://localhost:8080/"
        },
        "id": "1plnA7lDK6ZU",
        "outputId": "fbe3e18e-5de4-489c-d176-43af4b930b0b"
      },
      "execution_count": 70,
      "outputs": [
        {
          "output_type": "stream",
          "name": "stdout",
          "text": [
            "9 x  1  =  9\n",
            "9 x  2  =  18\n",
            "9 x  3  =  27\n",
            "9 x  4  =  36\n",
            "9 x  5  =  45\n",
            "9 x  6  =  54\n",
            "9 x  7  =  63\n",
            "9 x  8  =  72\n",
            "9 x  9  =  81\n",
            "9 x  10  =  90\n"
          ]
        }
      ]
    },
    {
      "cell_type": "code",
      "source": [
        "# define a function to calculate area of a circle and return the area using the return function.\n",
        "\n",
        "def area_circle(radius):\n",
        "  return 3.14*(radius**2)\n",
        "\n",
        "area_circle(5)"
      ],
      "metadata": {
        "colab": {
          "base_uri": "https://localhost:8080/"
        },
        "id": "yBfS5xiMK9B2",
        "outputId": "dfc0a0e1-194a-46fb-afec-cf4d6889083c"
      },
      "execution_count": 72,
      "outputs": [
        {
          "output_type": "execute_result",
          "data": {
            "text/plain": [
              "78.5"
            ]
          },
          "metadata": {},
          "execution_count": 72
        }
      ]
    },
    {
      "cell_type": "code",
      "source": [
        "# write a function to swap two numbers.\n",
        "\n",
        "def swap(a,b):\n",
        "  temp = a\n",
        "  a = b\n",
        "  b = temp\n",
        "  return a,b\n",
        "\n",
        "a = 8\n",
        "b = 10\n",
        "\n",
        "swap(a,b)"
      ],
      "metadata": {
        "colab": {
          "base_uri": "https://localhost:8080/"
        },
        "id": "XP1RsWPhLPTl",
        "outputId": "e2c9d1b1-23b2-48e3-d0cf-a483d644b8bf"
      },
      "execution_count": 74,
      "outputs": [
        {
          "output_type": "execute_result",
          "data": {
            "text/plain": [
              "(10, 8)"
            ]
          },
          "metadata": {},
          "execution_count": 74
        }
      ]
    },
    {
      "cell_type": "code",
      "source": [
        "# write a function to sum and multiply all numbers in a list\n",
        "\n",
        "numbers = [ 2,6,-8,45,10]\n",
        "\n",
        "def sum_mul(nos):\n",
        "  sum = 0\n",
        "  product = 1\n",
        "  for i in nos:\n",
        "    sum = sum + i\n",
        "    product = product*i\n",
        "  return sum, product\n",
        "\n",
        "sum_mul(numbers)\n"
      ],
      "metadata": {
        "colab": {
          "base_uri": "https://localhost:8080/"
        },
        "id": "1kRrsUijLpT-",
        "outputId": "2b2f635d-203a-4215-e7ae-e20bafeb1d78"
      },
      "execution_count": 77,
      "outputs": [
        {
          "output_type": "execute_result",
          "data": {
            "text/plain": [
              "(55, -43200)"
            ]
          },
          "metadata": {},
          "execution_count": 77
        }
      ]
    },
    {
      "cell_type": "code",
      "source": [
        "# write a function to calculate the parabola equation\n",
        "\n",
        "def parabola(x,y):\n",
        "  return x**2+y**2\n",
        "\n",
        "parabola(4,5)"
      ],
      "metadata": {
        "colab": {
          "base_uri": "https://localhost:8080/"
        },
        "id": "isfbjUPPMVge",
        "outputId": "0fca4552-7057-4ceb-d866-6652ef747f93"
      },
      "execution_count": 78,
      "outputs": [
        {
          "output_type": "execute_result",
          "data": {
            "text/plain": [
              "41"
            ]
          },
          "metadata": {},
          "execution_count": 78
        }
      ]
    },
    {
      "cell_type": "code",
      "source": [],
      "metadata": {
        "id": "MTjFS0lbMtMY"
      },
      "execution_count": null,
      "outputs": []
    }
  ]
}