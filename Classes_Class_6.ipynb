{
 "cells": [
  {
   "cell_type": "code",
   "execution_count": 1,
   "id": "1248c44e",
   "metadata": {},
   "outputs": [],
   "source": [
    "a = [1, 2, '3', print, 5]"
   ]
  },
  {
   "cell_type": "code",
   "execution_count": 2,
   "id": "19f7b391",
   "metadata": {},
   "outputs": [
    {
     "name": "stdout",
     "output_type": "stream",
     "text": [
      "<class 'list'>\n"
     ]
    }
   ],
   "source": [
    "print(type(a))"
   ]
  },
  {
   "cell_type": "code",
   "execution_count": 4,
   "id": "c0aa8932",
   "metadata": {},
   "outputs": [
    {
     "name": "stdout",
     "output_type": "stream",
     "text": [
      "<class 'builtin_function_or_method'>\n"
     ]
    }
   ],
   "source": [
    "print(type(a[-2]))"
   ]
  },
  {
   "cell_type": "code",
   "execution_count": 5,
   "id": "248171d0",
   "metadata": {},
   "outputs": [
    {
     "ename": "TypeError",
     "evalue": "'list' object is not callable",
     "output_type": "error",
     "traceback": [
      "\u001b[1;31m---------------------------------------------------------------------------\u001b[0m",
      "\u001b[1;31mTypeError\u001b[0m                                 Traceback (most recent call last)",
      "Cell \u001b[1;32mIn[5], line 1\u001b[0m\n\u001b[1;32m----> 1\u001b[0m \u001b[43ma\u001b[49m\u001b[43m(\u001b[49m\u001b[43m)\u001b[49m\n",
      "\u001b[1;31mTypeError\u001b[0m: 'list' object is not callable"
     ]
    }
   ],
   "source": [
    "a()"
   ]
  },
  {
   "cell_type": "code",
   "execution_count": 24,
   "id": "191cac7a",
   "metadata": {},
   "outputs": [],
   "source": [
    "def temp():\n",
    "    a = input('Enter name')\n",
    "    b = int(input('Enter age'))\n",
    "    print(a, b)\n",
    "#     return a, b"
   ]
  },
  {
   "cell_type": "code",
   "execution_count": 25,
   "id": "62971721",
   "metadata": {},
   "outputs": [
    {
     "name": "stdout",
     "output_type": "stream",
     "text": [
      "Enter nameAbhijeet\n",
      "Enter age23\n",
      "Abhijeet 23\n"
     ]
    }
   ],
   "source": [
    "temp()"
   ]
  },
  {
   "cell_type": "code",
   "execution_count": 10,
   "id": "753ab4fb",
   "metadata": {},
   "outputs": [],
   "source": [
    "name = 'Abhijeet'\n",
    "age = 23"
   ]
  },
  {
   "cell_type": "code",
   "execution_count": 13,
   "id": "a5f65cda",
   "metadata": {},
   "outputs": [
    {
     "name": "stdout",
     "output_type": "stream",
     "text": [
      "<class 'int'>\n"
     ]
    }
   ],
   "source": [
    "print(type(age))"
   ]
  },
  {
   "cell_type": "code",
   "execution_count": 43,
   "id": "390a59de",
   "metadata": {},
   "outputs": [
    {
     "name": "stdout",
     "output_type": "stream",
     "text": [
      "True\n"
     ]
    }
   ],
   "source": [
    "print(isinstance(Students, object))"
   ]
  },
  {
   "cell_type": "code",
   "execution_count": 22,
   "id": "436be0b8",
   "metadata": {},
   "outputs": [],
   "source": [
    "for i in range(5):\n",
    "    pass"
   ]
  },
  {
   "cell_type": "code",
   "execution_count": 27,
   "id": "3678600b",
   "metadata": {},
   "outputs": [
    {
     "ename": "NameError",
     "evalue": "name 'b' is not defined",
     "output_type": "error",
     "traceback": [
      "\u001b[1;31m---------------------------------------------------------------------------\u001b[0m",
      "\u001b[1;31mNameError\u001b[0m                                 Traceback (most recent call last)",
      "Cell \u001b[1;32mIn[27], line 1\u001b[0m\n\u001b[1;32m----> 1\u001b[0m \u001b[43mb\u001b[49m\n",
      "\u001b[1;31mNameError\u001b[0m: name 'b' is not defined"
     ]
    }
   ],
   "source": [
    "b"
   ]
  },
  {
   "cell_type": "code",
   "execution_count": 28,
   "id": "08d3e779",
   "metadata": {},
   "outputs": [],
   "source": [
    "class Students:\n",
    "    \n",
    "    course_name = 'Data_Science'\n",
    "    mentor = 'Abhijeet'"
   ]
  },
  {
   "cell_type": "code",
   "execution_count": 32,
   "id": "c2d184b8",
   "metadata": {},
   "outputs": [
    {
     "data": {
      "text/plain": [
       "'Data_Science'"
      ]
     },
     "execution_count": 32,
     "metadata": {},
     "output_type": "execute_result"
    }
   ],
   "source": [
    "Students.course_name"
   ]
  },
  {
   "cell_type": "code",
   "execution_count": 33,
   "id": "c323ffde",
   "metadata": {},
   "outputs": [
    {
     "data": {
      "text/plain": [
       "'Abhijeet'"
      ]
     },
     "execution_count": 33,
     "metadata": {},
     "output_type": "execute_result"
    }
   ],
   "source": [
    "Students.mentor"
   ]
  },
  {
   "cell_type": "code",
   "execution_count": 34,
   "id": "1ab7eb6c",
   "metadata": {},
   "outputs": [],
   "source": [
    "stu = Students()"
   ]
  },
  {
   "cell_type": "code",
   "execution_count": 44,
   "id": "2f0f1264",
   "metadata": {},
   "outputs": [
    {
     "data": {
      "text/plain": [
       "'Data_Science'"
      ]
     },
     "execution_count": 44,
     "metadata": {},
     "output_type": "execute_result"
    }
   ],
   "source": [
    "stu.course_name"
   ]
  },
  {
   "cell_type": "code",
   "execution_count": 45,
   "id": "e62564cb",
   "metadata": {},
   "outputs": [
    {
     "data": {
      "text/plain": [
       "'Abhijeet'"
      ]
     },
     "execution_count": 45,
     "metadata": {},
     "output_type": "execute_result"
    }
   ],
   "source": [
    "stu.mentor"
   ]
  },
  {
   "cell_type": "code",
   "execution_count": 47,
   "id": "2b42e430",
   "metadata": {},
   "outputs": [
    {
     "name": "stdout",
     "output_type": "stream",
     "text": [
      "1851174379248 1851202953120\n"
     ]
    }
   ],
   "source": [
    "print(id(Students), id(stu))"
   ]
  },
  {
   "cell_type": "code",
   "execution_count": 79,
   "id": "5ededaad",
   "metadata": {},
   "outputs": [],
   "source": [
    "class Students:\n",
    "    \n",
    "    course_name = 'Data_Science'\n",
    "    mentor = 'Abhijeet'\n",
    "    \n",
    "    def hello():\n",
    "        print('Hello my name is Abhijeet')\n",
    "    \n",
    "    def hi():\n",
    "        print('Hello World!')"
   ]
  },
  {
   "cell_type": "code",
   "execution_count": 80,
   "id": "7143c6cb",
   "metadata": {},
   "outputs": [
    {
     "name": "stdout",
     "output_type": "stream",
     "text": [
      "Data_Science\n"
     ]
    }
   ],
   "source": [
    "print(Students.course_name)"
   ]
  },
  {
   "cell_type": "code",
   "execution_count": 81,
   "id": "db35f8e4",
   "metadata": {},
   "outputs": [
    {
     "name": "stdout",
     "output_type": "stream",
     "text": [
      "Hello World!\n",
      "None\n"
     ]
    }
   ],
   "source": [
    "print(Students.hi())"
   ]
  },
  {
   "cell_type": "code",
   "execution_count": 82,
   "id": "fd2cbb2d",
   "metadata": {},
   "outputs": [],
   "source": [
    "stu = Students()"
   ]
  },
  {
   "cell_type": "code",
   "execution_count": 83,
   "id": "868eab66",
   "metadata": {},
   "outputs": [
    {
     "name": "stdout",
     "output_type": "stream",
     "text": [
      "Data_Science\n",
      "Abhijeet\n"
     ]
    }
   ],
   "source": [
    "print(stu.course_name)\n",
    "print(stu.mentor)"
   ]
  },
  {
   "cell_type": "code",
   "execution_count": 84,
   "id": "7b9575ac",
   "metadata": {},
   "outputs": [
    {
     "ename": "TypeError",
     "evalue": "hello() takes 0 positional arguments but 1 was given",
     "output_type": "error",
     "traceback": [
      "\u001b[1;31m---------------------------------------------------------------------------\u001b[0m",
      "\u001b[1;31mTypeError\u001b[0m                                 Traceback (most recent call last)",
      "Cell \u001b[1;32mIn[84], line 1\u001b[0m\n\u001b[1;32m----> 1\u001b[0m \u001b[38;5;28mprint\u001b[39m(\u001b[43mstu\u001b[49m\u001b[38;5;241;43m.\u001b[39;49m\u001b[43mhello\u001b[49m\u001b[43m(\u001b[49m\u001b[43m)\u001b[49m)\n",
      "\u001b[1;31mTypeError\u001b[0m: hello() takes 0 positional arguments but 1 was given"
     ]
    }
   ],
   "source": [
    "print(stu.hello())"
   ]
  },
  {
   "cell_type": "code",
   "execution_count": 85,
   "id": "79fe3507",
   "metadata": {},
   "outputs": [
    {
     "data": {
      "text/plain": [
       "<__main__.Students at 0x1af040a5ac0>"
      ]
     },
     "execution_count": 85,
     "metadata": {},
     "output_type": "execute_result"
    }
   ],
   "source": [
    "stu"
   ]
  },
  {
   "cell_type": "code",
   "execution_count": null,
   "id": "ecf2c046",
   "metadata": {},
   "outputs": [],
   "source": []
  }
 ],
 "metadata": {
  "kernelspec": {
   "display_name": "Python 3 (ipykernel)",
   "language": "python",
   "name": "python3"
  },
  "language_info": {
   "codemirror_mode": {
    "name": "ipython",
    "version": 3
   },
   "file_extension": ".py",
   "mimetype": "text/x-python",
   "name": "python",
   "nbconvert_exporter": "python",
   "pygments_lexer": "ipython3",
   "version": "3.8.10"
  }
 },
 "nbformat": 4,
 "nbformat_minor": 5
}
