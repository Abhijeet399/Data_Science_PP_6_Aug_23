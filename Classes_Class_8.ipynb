{
 "cells": [
  {
   "cell_type": "code",
   "execution_count": 1,
   "id": "3885cc51",
   "metadata": {},
   "outputs": [],
   "source": [
    "a = [1, 2, '3', print, 5]"
   ]
  },
  {
   "cell_type": "code",
   "execution_count": 2,
   "id": "3253d687",
   "metadata": {},
   "outputs": [
    {
     "name": "stdout",
     "output_type": "stream",
     "text": [
      "<class 'list'>\n"
     ]
    }
   ],
   "source": [
    "print(type(a))"
   ]
  },
  {
   "cell_type": "code",
   "execution_count": 4,
   "id": "c571d5dc",
   "metadata": {},
   "outputs": [
    {
     "name": "stdout",
     "output_type": "stream",
     "text": [
      "<class 'builtin_function_or_method'>\n"
     ]
    }
   ],
   "source": [
    "print(type(a[-2]))"
   ]
  },
  {
   "cell_type": "code",
   "execution_count": 5,
   "id": "f8c918ca",
   "metadata": {},
   "outputs": [
    {
     "ename": "TypeError",
     "evalue": "'list' object is not callable",
     "output_type": "error",
     "traceback": [
      "\u001b[1;31m---------------------------------------------------------------------------\u001b[0m",
      "\u001b[1;31mTypeError\u001b[0m                                 Traceback (most recent call last)",
      "Cell \u001b[1;32mIn[5], line 1\u001b[0m\n\u001b[1;32m----> 1\u001b[0m \u001b[43ma\u001b[49m\u001b[43m(\u001b[49m\u001b[43m)\u001b[49m\n",
      "\u001b[1;31mTypeError\u001b[0m: 'list' object is not callable"
     ]
    }
   ],
   "source": [
    "a()"
   ]
  },
  {
   "cell_type": "code",
   "execution_count": 24,
   "id": "fc692d53",
   "metadata": {},
   "outputs": [],
   "source": [
    "def temp():\n",
    "    a = input('Enter name')\n",
    "    b = int(input('Enter age'))\n",
    "    print(a, b)\n",
    "#     return a, b"
   ]
  },
  {
   "cell_type": "code",
   "execution_count": 25,
   "id": "9d9b0061",
   "metadata": {},
   "outputs": [
    {
     "name": "stdout",
     "output_type": "stream",
     "text": [
      "Enter nameAbhijeet\n",
      "Enter age23\n",
      "Abhijeet 23\n"
     ]
    }
   ],
   "source": [
    "temp()"
   ]
  },
  {
   "cell_type": "code",
   "execution_count": 10,
   "id": "c2dea7b1",
   "metadata": {},
   "outputs": [],
   "source": [
    "name = 'Abhijeet'\n",
    "age = 23"
   ]
  },
  {
   "cell_type": "code",
   "execution_count": 13,
   "id": "ed5dfd67",
   "metadata": {},
   "outputs": [
    {
     "name": "stdout",
     "output_type": "stream",
     "text": [
      "<class 'int'>\n"
     ]
    }
   ],
   "source": [
    "print(type(age))"
   ]
  },
  {
   "cell_type": "code",
   "execution_count": 43,
   "id": "9bcad54c",
   "metadata": {},
   "outputs": [
    {
     "name": "stdout",
     "output_type": "stream",
     "text": [
      "True\n"
     ]
    }
   ],
   "source": [
    "print(isinstance(Students, object))"
   ]
  },
  {
   "cell_type": "code",
   "execution_count": 22,
   "id": "ace14919",
   "metadata": {},
   "outputs": [],
   "source": [
    "for i in range(5):\n",
    "    pass"
   ]
  },
  {
   "cell_type": "code",
   "execution_count": 27,
   "id": "14adb960",
   "metadata": {},
   "outputs": [
    {
     "ename": "NameError",
     "evalue": "name 'b' is not defined",
     "output_type": "error",
     "traceback": [
      "\u001b[1;31m---------------------------------------------------------------------------\u001b[0m",
      "\u001b[1;31mNameError\u001b[0m                                 Traceback (most recent call last)",
      "Cell \u001b[1;32mIn[27], line 1\u001b[0m\n\u001b[1;32m----> 1\u001b[0m \u001b[43mb\u001b[49m\n",
      "\u001b[1;31mNameError\u001b[0m: name 'b' is not defined"
     ]
    }
   ],
   "source": [
    "b"
   ]
  },
  {
   "cell_type": "code",
   "execution_count": 28,
   "id": "f4161933",
   "metadata": {},
   "outputs": [],
   "source": [
    "class Students:\n",
    "    \n",
    "    course_name = 'Data_Science'\n",
    "    mentor = 'Abhijeet'"
   ]
  },
  {
   "cell_type": "code",
   "execution_count": 32,
   "id": "e9c353f5",
   "metadata": {},
   "outputs": [
    {
     "data": {
      "text/plain": [
       "'Data_Science'"
      ]
     },
     "execution_count": 32,
     "metadata": {},
     "output_type": "execute_result"
    }
   ],
   "source": [
    "Students.course_name"
   ]
  },
  {
   "cell_type": "code",
   "execution_count": 33,
   "id": "7fe64bff",
   "metadata": {},
   "outputs": [
    {
     "data": {
      "text/plain": [
       "'Abhijeet'"
      ]
     },
     "execution_count": 33,
     "metadata": {},
     "output_type": "execute_result"
    }
   ],
   "source": [
    "Students.mentor"
   ]
  },
  {
   "cell_type": "code",
   "execution_count": 34,
   "id": "146aabcc",
   "metadata": {},
   "outputs": [],
   "source": [
    "stu = Students()"
   ]
  },
  {
   "cell_type": "code",
   "execution_count": 44,
   "id": "23ff629f",
   "metadata": {},
   "outputs": [
    {
     "data": {
      "text/plain": [
       "'Data_Science'"
      ]
     },
     "execution_count": 44,
     "metadata": {},
     "output_type": "execute_result"
    }
   ],
   "source": [
    "stu.course_name"
   ]
  },
  {
   "cell_type": "code",
   "execution_count": 45,
   "id": "2186c459",
   "metadata": {},
   "outputs": [
    {
     "data": {
      "text/plain": [
       "'Abhijeet'"
      ]
     },
     "execution_count": 45,
     "metadata": {},
     "output_type": "execute_result"
    }
   ],
   "source": [
    "stu.mentor"
   ]
  },
  {
   "cell_type": "code",
   "execution_count": 47,
   "id": "5ba596db",
   "metadata": {},
   "outputs": [
    {
     "name": "stdout",
     "output_type": "stream",
     "text": [
      "1851174379248 1851202953120\n"
     ]
    }
   ],
   "source": [
    "print(id(Students), id(stu))"
   ]
  },
  {
   "cell_type": "code",
   "execution_count": 121,
   "id": "eaca6451",
   "metadata": {},
   "outputs": [],
   "source": [
    "class Students:\n",
    "    \n",
    "    course_name = 'Data_Science'\n",
    "    mentor = 'Abhijeet'\n",
    "    \n",
    "    def hello(Students):\n",
    "        print('Hello my name is Abhijeet')\n",
    "    \n",
    "    def hi(self):\n",
    "        print('Hello World!')\n",
    "        return self"
   ]
  },
  {
   "cell_type": "code",
   "execution_count": 122,
   "id": "1a53cdb3",
   "metadata": {},
   "outputs": [
    {
     "name": "stdout",
     "output_type": "stream",
     "text": [
      "Data_Science\n"
     ]
    }
   ],
   "source": [
    "print(Students.course_name)"
   ]
  },
  {
   "cell_type": "code",
   "execution_count": 123,
   "id": "1c75db5f",
   "metadata": {},
   "outputs": [
    {
     "name": "stdout",
     "output_type": "stream",
     "text": [
      "Hello World!\n",
      "123\n"
     ]
    }
   ],
   "source": [
    "print(Students.hi(123))"
   ]
  },
  {
   "cell_type": "code",
   "execution_count": 124,
   "id": "3fd60243",
   "metadata": {},
   "outputs": [],
   "source": [
    "stu = Students()"
   ]
  },
  {
   "cell_type": "code",
   "execution_count": 125,
   "id": "90865576",
   "metadata": {},
   "outputs": [
    {
     "name": "stdout",
     "output_type": "stream",
     "text": [
      "Data_Science\n",
      "Abhijeet\n"
     ]
    }
   ],
   "source": [
    "print(stu.course_name)\n",
    "print(stu.mentor)"
   ]
  },
  {
   "cell_type": "code",
   "execution_count": 126,
   "id": "98b01698",
   "metadata": {},
   "outputs": [
    {
     "name": "stdout",
     "output_type": "stream",
     "text": [
      "Hello my name is Abhijeet\n",
      "None\n",
      "Hello World!\n",
      "<__main__.Students object at 0x000001AF0457B460>\n"
     ]
    }
   ],
   "source": [
    "print(stu.hello())\n",
    "print(stu.hi())"
   ]
  },
  {
   "cell_type": "code",
   "execution_count": 119,
   "id": "b600992b",
   "metadata": {},
   "outputs": [
    {
     "data": {
      "text/plain": [
       "'0x1af04551460'"
      ]
     },
     "execution_count": 119,
     "metadata": {},
     "output_type": "execute_result"
    }
   ],
   "source": [
    "hex(id(stu))"
   ]
  },
  {
   "cell_type": "code",
   "execution_count": 118,
   "id": "ca045103",
   "metadata": {},
   "outputs": [
    {
     "data": {
      "text/plain": [
       "'0x1af029778c0'"
      ]
     },
     "execution_count": 118,
     "metadata": {},
     "output_type": "execute_result"
    }
   ],
   "source": [
    "hex(id(Students))"
   ]
  },
  {
   "cell_type": "code",
   "execution_count": 131,
   "id": "02081812",
   "metadata": {},
   "outputs": [
    {
     "data": {
      "text/plain": [
       "'0b1'"
      ]
     },
     "execution_count": 131,
     "metadata": {},
     "output_type": "execute_result"
    }
   ],
   "source": [
    "bin(1)"
   ]
  },
  {
   "cell_type": "code",
   "execution_count": 142,
   "id": "e5899f69",
   "metadata": {},
   "outputs": [],
   "source": [
    "class Students:\n",
    "    \n",
    "    course_name = 'Data_Science'\n",
    "    mentor = 'Abhijeet'\n",
    "    \n",
    "    def hello(self):\n",
    "        print('Hello my name is Abhijeet')\n",
    "        print('My course name is', self.course_name)\n",
    "    \n",
    "    def hi(self):\n",
    "        print('Hello World!')\n",
    "        return self"
   ]
  },
  {
   "cell_type": "code",
   "execution_count": 143,
   "id": "7a679e74",
   "metadata": {},
   "outputs": [],
   "source": [
    "stu = Students()"
   ]
  },
  {
   "cell_type": "code",
   "execution_count": 144,
   "id": "37ec92a6",
   "metadata": {},
   "outputs": [
    {
     "data": {
      "text/plain": [
       "'Data_Science'"
      ]
     },
     "execution_count": 144,
     "metadata": {},
     "output_type": "execute_result"
    }
   ],
   "source": [
    "stu.course_name"
   ]
  },
  {
   "cell_type": "code",
   "execution_count": 145,
   "id": "189153c5",
   "metadata": {},
   "outputs": [
    {
     "name": "stdout",
     "output_type": "stream",
     "text": [
      "Hello my name is Abhijeet\n",
      "My course name is Data_Science\n"
     ]
    }
   ],
   "source": [
    "stu.hello()"
   ]
  },
  {
   "cell_type": "code",
   "execution_count": 166,
   "id": "a6bb24d3",
   "metadata": {},
   "outputs": [],
   "source": [
    "class Person:\n",
    "    \n",
    "    name = 'Abhijeet'\n",
    "    age = 23\n",
    "    \n",
    "    def reveal(self):\n",
    "        print(f'Name is: {self.name} and age is {self.age}')\n",
    "        \n",
    "    def update(self, name):\n",
    "        self.name = name\n",
    "        print(f'Name is: {self.name} and age is {self.age}')"
   ]
  },
  {
   "cell_type": "code",
   "execution_count": 167,
   "id": "0d6a1ddd",
   "metadata": {},
   "outputs": [],
   "source": [
    "p = Person()"
   ]
  },
  {
   "cell_type": "code",
   "execution_count": 168,
   "id": "11f671ee",
   "metadata": {},
   "outputs": [
    {
     "name": "stdout",
     "output_type": "stream",
     "text": [
      "Name is: Abhijeet and age is 23\n"
     ]
    }
   ],
   "source": [
    "p.reveal()"
   ]
  },
  {
   "cell_type": "code",
   "execution_count": 169,
   "id": "4bb57a3c",
   "metadata": {},
   "outputs": [],
   "source": [
    "p1 = Person()"
   ]
  },
  {
   "cell_type": "code",
   "execution_count": 170,
   "id": "0919bf60",
   "metadata": {},
   "outputs": [
    {
     "name": "stdout",
     "output_type": "stream",
     "text": [
      "Name is: Ravi and age is 23\n"
     ]
    }
   ],
   "source": [
    "p1.update('Ravi')"
   ]
  },
  {
   "cell_type": "code",
   "execution_count": 206,
   "id": "ab28e11b",
   "metadata": {},
   "outputs": [],
   "source": [
    "class Person:\n",
    "    \n",
    "    living = True\n",
    "    \n",
    "    def __init__(self, name, age):\n",
    "        self.name = name\n",
    "        self.age = age\n",
    "        print('Init Chala gya')\n",
    "    \n",
    "    def reveal(self):\n",
    "        print(f'Name is: {self.name} and age is {self.age}')\n",
    "        \n",
    "    def update(self, name):\n",
    "        self.name = name\n",
    "        print(f'Name is: {self.name} and age is {self.age}')"
   ]
  },
  {
   "cell_type": "code",
   "execution_count": 207,
   "id": "850ebacb",
   "metadata": {},
   "outputs": [
    {
     "name": "stdout",
     "output_type": "stream",
     "text": [
      "Init Chala gya\n"
     ]
    }
   ],
   "source": [
    "p1 = Person('Ravi', 23)"
   ]
  },
  {
   "cell_type": "code",
   "execution_count": 208,
   "id": "efe8f074",
   "metadata": {},
   "outputs": [
    {
     "name": "stdout",
     "output_type": "stream",
     "text": [
      "Name is: Ravi and age is 23\n"
     ]
    }
   ],
   "source": [
    "p1.reveal()"
   ]
  },
  {
   "cell_type": "code",
   "execution_count": 209,
   "id": "5fb13330",
   "metadata": {},
   "outputs": [
    {
     "name": "stdout",
     "output_type": "stream",
     "text": [
      "Init Chala gya\n"
     ]
    }
   ],
   "source": [
    "p2 = Person('Mohit', 23)"
   ]
  },
  {
   "cell_type": "code",
   "execution_count": 210,
   "id": "61d51f0c",
   "metadata": {},
   "outputs": [
    {
     "data": {
      "text/plain": [
       "('Mohit', 'Ravi')"
      ]
     },
     "execution_count": 210,
     "metadata": {},
     "output_type": "execute_result"
    }
   ],
   "source": [
    "p2.name, p1.name"
   ]
  },
  {
   "cell_type": "code",
   "execution_count": 211,
   "id": "31e2cd5f",
   "metadata": {},
   "outputs": [
    {
     "data": {
      "text/plain": [
       "True"
      ]
     },
     "execution_count": 211,
     "metadata": {},
     "output_type": "execute_result"
    }
   ],
   "source": [
    "p2.living"
   ]
  },
  {
   "cell_type": "code",
   "execution_count": 201,
   "id": "8d79c6fa",
   "metadata": {},
   "outputs": [],
   "source": [
    "p1.living = True"
   ]
  },
  {
   "cell_type": "code",
   "execution_count": 212,
   "id": "33ffaaef",
   "metadata": {},
   "outputs": [
    {
     "data": {
      "text/plain": [
       "(140712896895440, 140712896895440)"
      ]
     },
     "execution_count": 212,
     "metadata": {},
     "output_type": "execute_result"
    }
   ],
   "source": [
    "id(p1.age), id(p2.age)"
   ]
  },
  {
   "cell_type": "code",
   "execution_count": 202,
   "id": "724b195c",
   "metadata": {},
   "outputs": [
    {
     "data": {
      "text/plain": [
       "(140712896616272, 140712896616272)"
      ]
     },
     "execution_count": 202,
     "metadata": {},
     "output_type": "execute_result"
    }
   ],
   "source": [
    "id(p1.living), id(p2.living)"
   ]
  },
  {
   "cell_type": "code",
   "execution_count": 203,
   "id": "1e09a377",
   "metadata": {},
   "outputs": [
    {
     "data": {
      "text/plain": [
       "(1851197773616, 1851198519664)"
      ]
     },
     "execution_count": 203,
     "metadata": {},
     "output_type": "execute_result"
    }
   ],
   "source": [
    "id(p1.name), id(p2.name)"
   ]
  },
  {
   "cell_type": "code",
   "execution_count": 204,
   "id": "6f7fb276",
   "metadata": {},
   "outputs": [
    {
     "name": "stdout",
     "output_type": "stream",
     "text": [
      "True\n"
     ]
    }
   ],
   "source": [
    "print(p2.living)"
   ]
  },
  {
   "cell_type": "code",
   "execution_count": 205,
   "id": "f138605c",
   "metadata": {},
   "outputs": [
    {
     "name": "stdout",
     "output_type": "stream",
     "text": [
      "True\n"
     ]
    }
   ],
   "source": [
    "print(p1.living)"
   ]
  },
  {
   "cell_type": "code",
   "execution_count": 219,
   "id": "32fe3a9c",
   "metadata": {},
   "outputs": [],
   "source": [
    "a = 257\n",
    "b = 257"
   ]
  },
  {
   "cell_type": "code",
   "execution_count": 220,
   "id": "0d5aa8a5",
   "metadata": {},
   "outputs": [
    {
     "data": {
      "text/plain": [
       "False"
      ]
     },
     "execution_count": 220,
     "metadata": {},
     "output_type": "execute_result"
    }
   ],
   "source": [
    "id(a) == id(b)"
   ]
  },
  {
   "cell_type": "code",
   "execution_count": 321,
   "id": "7d4d8b0c",
   "metadata": {},
   "outputs": [],
   "source": [
    "class Abhijeet:\n",
    "    \n",
    "    authen = '123456789'\n",
    "    \n",
    "    def __init__(self, email, password, name):\n",
    "        self._email = email\n",
    "        self.__password = password\n",
    "        self.name = name\n",
    "        \n",
    "    def change_mail(self, mail):\n",
    "        self._email = mail\n",
    "        \n",
    "    def change_pass(self, authen, new_password):\n",
    "        if authen == self.authen:\n",
    "            self.__password = new_password\n",
    "    \n",
    "    def see_password(self, authen):\n",
    "        if authen == self.authen:\n",
    "            print(self.__password)\n",
    "            \n",
    "    def __change_authen(self, new_authen):\n",
    "        self.authen = new_authen"
   ]
  },
  {
   "cell_type": "code",
   "execution_count": 322,
   "id": "52a83b31",
   "metadata": {},
   "outputs": [],
   "source": [
    "a = Abhijeet('abc@gmail.com', 123456, 'Abhijeet')"
   ]
  },
  {
   "cell_type": "code",
   "execution_count": 323,
   "id": "ad74e7b8",
   "metadata": {},
   "outputs": [
    {
     "data": {
      "text/plain": [
       "('abc@gmail.com', 'Abhijeet')"
      ]
     },
     "execution_count": 323,
     "metadata": {},
     "output_type": "execute_result"
    }
   ],
   "source": [
    "a._email, a.name"
   ]
  },
  {
   "cell_type": "code",
   "execution_count": 324,
   "id": "321e33f7",
   "metadata": {},
   "outputs": [],
   "source": [
    "a._email = 'hello@world'"
   ]
  },
  {
   "cell_type": "code",
   "execution_count": 325,
   "id": "d4c65815",
   "metadata": {},
   "outputs": [],
   "source": [
    "a.change_mail('123@gmail.com')"
   ]
  },
  {
   "cell_type": "code",
   "execution_count": 326,
   "id": "7a95d624",
   "metadata": {},
   "outputs": [
    {
     "data": {
      "text/plain": [
       "'123@gmail.com'"
      ]
     },
     "execution_count": 326,
     "metadata": {},
     "output_type": "execute_result"
    }
   ],
   "source": [
    "a._email"
   ]
  },
  {
   "cell_type": "code",
   "execution_count": 327,
   "id": "a8130273",
   "metadata": {},
   "outputs": [
    {
     "name": "stdout",
     "output_type": "stream",
     "text": [
      "123456\n"
     ]
    }
   ],
   "source": [
    "a.see_password('123456789')"
   ]
  },
  {
   "cell_type": "code",
   "execution_count": 329,
   "id": "037b76b8",
   "metadata": {},
   "outputs": [],
   "source": [
    "a.change_pass('123456789', 'Hello World')"
   ]
  },
  {
   "cell_type": "code",
   "execution_count": 330,
   "id": "b236b27c",
   "metadata": {},
   "outputs": [
    {
     "name": "stdout",
     "output_type": "stream",
     "text": [
      "Hello World\n"
     ]
    }
   ],
   "source": [
    "a.see_password('123456789')"
   ]
  },
  {
   "cell_type": "code",
   "execution_count": 331,
   "id": "76a0e496",
   "metadata": {},
   "outputs": [
    {
     "ename": "AttributeError",
     "evalue": "'Abhijeet' object has no attribute '__change_authen'",
     "output_type": "error",
     "traceback": [
      "\u001b[1;31m---------------------------------------------------------------------------\u001b[0m",
      "\u001b[1;31mAttributeError\u001b[0m                            Traceback (most recent call last)",
      "Cell \u001b[1;32mIn[331], line 1\u001b[0m\n\u001b[1;32m----> 1\u001b[0m \u001b[43ma\u001b[49m\u001b[38;5;241;43m.\u001b[39;49m\u001b[43m__change_authen\u001b[49m()\n",
      "\u001b[1;31mAttributeError\u001b[0m: 'Abhijeet' object has no attribute '__change_authen'"
     ]
    }
   ],
   "source": [
    "a.__change_authen()"
   ]
  },
  {
   "cell_type": "code",
   "execution_count": 335,
   "id": "6d16b6da",
   "metadata": {},
   "outputs": [],
   "source": [
    "class Dogs:\n",
    "    \n",
    "    total_tricks = []\n",
    "    \n",
    "    def __init__(self, name, breed):\n",
    "        self.name = name\n",
    "        self.breed= breed\n",
    "        \n",
    "    def update_tricks(self, trick):\n",
    "        self.total_tricks.append(trick)\n",
    "        \n",
    "    def display(self):\n",
    "        print(self.total_tricks)"
   ]
  },
  {
   "cell_type": "code",
   "execution_count": 339,
   "id": "951b9ad2",
   "metadata": {},
   "outputs": [],
   "source": [
    "a = Dogs('Oreo', 'labra')\n",
    "b = Dogs('Tuffy', 'geraman shephard')"
   ]
  },
  {
   "cell_type": "code",
   "execution_count": 340,
   "id": "6e5d398f",
   "metadata": {},
   "outputs": [],
   "source": [
    "a.update_tricks('sit')\n",
    "a.update_tricks('fetch')\n",
    "a.update_tricks('dance')"
   ]
  },
  {
   "cell_type": "code",
   "execution_count": 341,
   "id": "cfb68563",
   "metadata": {},
   "outputs": [],
   "source": [
    "b.update_tricks('sing')"
   ]
  },
  {
   "cell_type": "code",
   "execution_count": 355,
   "id": "5f83688e",
   "metadata": {},
   "outputs": [
    {
     "name": "stdout",
     "output_type": "stream",
     "text": [
      "['sit', 'fetch', 'dance', 'sing']\n",
      "['sit', 'fetch', 'dance', 'sing']\n",
      "None None ['sit', 'fetch', 'dance', 'sing']\n"
     ]
    }
   ],
   "source": [
    "print(b.display(), a.display(), Dogs.total_tricks)"
   ]
  },
  {
   "cell_type": "code",
   "execution_count": 344,
   "id": "d68cacd4",
   "metadata": {},
   "outputs": [
    {
     "name": "stdout",
     "output_type": "stream",
     "text": [
      "1851205646848 1851205646848 1851205646848\n"
     ]
    }
   ],
   "source": [
    "print(id(a.total_tricks), id(b.total_tricks), id(Dogs.total_tricks))"
   ]
  },
  {
   "cell_type": "code",
   "execution_count": 345,
   "id": "9bbe9781",
   "metadata": {},
   "outputs": [],
   "source": [
    "var = 10"
   ]
  },
  {
   "cell_type": "code",
   "execution_count": 346,
   "id": "cae9b5de",
   "metadata": {},
   "outputs": [
    {
     "data": {
      "text/plain": [
       "140712896895024"
      ]
     },
     "execution_count": 346,
     "metadata": {},
     "output_type": "execute_result"
    }
   ],
   "source": [
    "id(var)"
   ]
  },
  {
   "cell_type": "code",
   "execution_count": 347,
   "id": "30fae78d",
   "metadata": {},
   "outputs": [],
   "source": [
    "var = 20"
   ]
  },
  {
   "cell_type": "code",
   "execution_count": 348,
   "id": "3cab537a",
   "metadata": {},
   "outputs": [
    {
     "data": {
      "text/plain": [
       "140712896895344"
      ]
     },
     "execution_count": 348,
     "metadata": {},
     "output_type": "execute_result"
    }
   ],
   "source": [
    "id(var)"
   ]
  },
  {
   "cell_type": "code",
   "execution_count": 349,
   "id": "93150a52",
   "metadata": {},
   "outputs": [],
   "source": [
    "random_list = [1, 2, 3]"
   ]
  },
  {
   "cell_type": "code",
   "execution_count": 350,
   "id": "b47340ea",
   "metadata": {},
   "outputs": [
    {
     "data": {
      "text/plain": [
       "1851203873600"
      ]
     },
     "execution_count": 350,
     "metadata": {},
     "output_type": "execute_result"
    }
   ],
   "source": [
    "id(random_list)"
   ]
  },
  {
   "cell_type": "code",
   "execution_count": 351,
   "id": "b1014b16",
   "metadata": {},
   "outputs": [],
   "source": [
    "random_list.append('hello')"
   ]
  },
  {
   "cell_type": "code",
   "execution_count": 352,
   "id": "22a7015b",
   "metadata": {},
   "outputs": [
    {
     "data": {
      "text/plain": [
       "1851203873600"
      ]
     },
     "execution_count": 352,
     "metadata": {},
     "output_type": "execute_result"
    }
   ],
   "source": [
    "id(random_list)"
   ]
  },
  {
   "cell_type": "code",
   "execution_count": 356,
   "id": "5721e738",
   "metadata": {},
   "outputs": [],
   "source": [
    "c = Dogs('animal', 'street_dog')"
   ]
  },
  {
   "cell_type": "code",
   "execution_count": 357,
   "id": "4e0b3e4c",
   "metadata": {},
   "outputs": [
    {
     "name": "stdout",
     "output_type": "stream",
     "text": [
      "['sit', 'fetch', 'dance', 'sing']\n"
     ]
    }
   ],
   "source": [
    "c.display()"
   ]
  },
  {
   "cell_type": "code",
   "execution_count": 358,
   "id": "d9bcb93c",
   "metadata": {},
   "outputs": [],
   "source": [
    "c.update_tricks('handshake')"
   ]
  },
  {
   "cell_type": "code",
   "execution_count": 361,
   "id": "2dc78116",
   "metadata": {},
   "outputs": [
    {
     "name": "stdout",
     "output_type": "stream",
     "text": [
      "['sit', 'fetch', 'dance', 'sing', 'handshake']\n",
      "['sit', 'fetch', 'dance', 'sing', 'handshake']\n",
      "['sit', 'fetch', 'dance', 'sing', 'handshake']\n",
      "None None None ['sit', 'fetch', 'dance', 'sing', 'handshake']\n"
     ]
    }
   ],
   "source": [
    "print(a.display(), b.display(), c.display(), Dogs.total_tricks)"
   ]
  },
  {
   "cell_type": "code",
   "execution_count": 1,
   "id": "7bd3b30f",
   "metadata": {},
   "outputs": [],
   "source": [
    "class Dogs:\n",
    "    \n",
    "#     total_tricks = []\n",
    "    \n",
    "    def __init__(self, name, breed, tricks = []):\n",
    "        self.name = name\n",
    "        self.breed= breed\n",
    "        self.total_tricks = tricks\n",
    "        \n",
    "    def update_tricks(self, trick):\n",
    "        self.total_tricks.append(trick)\n",
    "        \n",
    "    def display(self):\n",
    "        print(self.total_tricks)"
   ]
  },
  {
   "cell_type": "code",
   "execution_count": 2,
   "id": "afb0f164",
   "metadata": {},
   "outputs": [],
   "source": [
    "a = Dogs('Oreo', 'labra', tricks=[])\n",
    "b = Dogs('Tuffy', 'german_shephard')"
   ]
  },
  {
   "cell_type": "code",
   "execution_count": 3,
   "id": "afd754d5",
   "metadata": {},
   "outputs": [],
   "source": [
    "a.update_tricks('sing')\n",
    "a.update_tricks('dance')\n",
    "a.update_tricks('hand shake')"
   ]
  },
  {
   "cell_type": "code",
   "execution_count": 4,
   "id": "70915ab2",
   "metadata": {},
   "outputs": [],
   "source": [
    "b.update_tricks('sit')"
   ]
  },
  {
   "cell_type": "code",
   "execution_count": 5,
   "id": "ff902f08",
   "metadata": {},
   "outputs": [
    {
     "name": "stdout",
     "output_type": "stream",
     "text": [
      "['sit']\n",
      "None\n"
     ]
    }
   ],
   "source": [
    "print(b.display())"
   ]
  },
  {
   "cell_type": "code",
   "execution_count": 6,
   "id": "749b1d38",
   "metadata": {},
   "outputs": [
    {
     "name": "stdout",
     "output_type": "stream",
     "text": [
      "['sing', 'dance', 'hand shake']\n"
     ]
    }
   ],
   "source": [
    "a.display()"
   ]
  },
  {
   "cell_type": "code",
   "execution_count": 7,
   "id": "32b2876c",
   "metadata": {},
   "outputs": [
    {
     "name": "stdout",
     "output_type": "stream",
     "text": [
      "['sit']\n",
      "['sit']\n",
      "None None\n"
     ]
    }
   ],
   "source": [
    "print(b.display(), Dogs('a', 'b').display())"
   ]
  },
  {
   "cell_type": "code",
   "execution_count": 38,
   "id": "2b67ad93",
   "metadata": {},
   "outputs": [],
   "source": [
    "class Dogs:\n",
    "    \n",
    "#     total_tricks = []\n",
    "    \n",
    "    def __init__(self, name, breed):\n",
    "        self.name = name\n",
    "        self.breed= breed\n",
    "        self.total_tricks = []\n",
    "        \n",
    "    def update_tricks(self, trick):\n",
    "        self.total_tricks.append(trick)\n",
    "        \n",
    "    def display(self):\n",
    "        print(self.total_tricks)"
   ]
  },
  {
   "cell_type": "code",
   "execution_count": 374,
   "id": "116d4ad0",
   "metadata": {},
   "outputs": [],
   "source": [
    "a = Dogs('Oreo', 'labra')\n",
    "b = Dogs('Tuffy', 'german_shephard')"
   ]
  },
  {
   "cell_type": "code",
   "execution_count": 375,
   "id": "694e5b68",
   "metadata": {},
   "outputs": [],
   "source": [
    "a.update_tricks('sing')\n",
    "a.update_tricks('dance')\n",
    "a.update_tricks('hand shake')"
   ]
  },
  {
   "cell_type": "code",
   "execution_count": 376,
   "id": "a20af56c",
   "metadata": {},
   "outputs": [
    {
     "name": "stdout",
     "output_type": "stream",
     "text": [
      "['sing', 'dance', 'hand shake']\n"
     ]
    }
   ],
   "source": [
    "a.display()"
   ]
  },
  {
   "cell_type": "code",
   "execution_count": 377,
   "id": "b333b599",
   "metadata": {},
   "outputs": [
    {
     "name": "stdout",
     "output_type": "stream",
     "text": [
      "[]\n"
     ]
    }
   ],
   "source": [
    "b.display()"
   ]
  },
  {
   "cell_type": "code",
   "execution_count": 22,
   "id": "46f8f422",
   "metadata": {},
   "outputs": [],
   "source": [
    "class Car:\n",
    "    \n",
    "    def __init__(self, name, mileage):\n",
    "        self.name = name\n",
    "        self.mileage = mileage\n",
    "        \n",
    "    def __add__(self, other):\n",
    "        return self.mileage + other.mileage\n",
    "    \n",
    "    def __eq__(self, other):\n",
    "        return self.mileage == other.mileage\n",
    "    \n",
    "    def __str__(self):\n",
    "        return f'{self.name} and {self.mileage}'"
   ]
  },
  {
   "cell_type": "code",
   "execution_count": 23,
   "id": "b86b4935",
   "metadata": {},
   "outputs": [],
   "source": [
    "c1 = Car('BMW', 10)\n",
    "c2 = Car('City', 15)\n",
    "c3 = Car('abc', 20)"
   ]
  },
  {
   "cell_type": "code",
   "execution_count": 26,
   "id": "78c169f3",
   "metadata": {},
   "outputs": [
    {
     "data": {
      "text/plain": [
       "25"
      ]
     },
     "execution_count": 26,
     "metadata": {},
     "output_type": "execute_result"
    }
   ],
   "source": [
    "c1 + c2"
   ]
  },
  {
   "cell_type": "code",
   "execution_count": 27,
   "id": "a50b214e",
   "metadata": {},
   "outputs": [
    {
     "data": {
      "text/plain": [
       "False"
      ]
     },
     "execution_count": 27,
     "metadata": {},
     "output_type": "execute_result"
    }
   ],
   "source": [
    "c1 == c2"
   ]
  },
  {
   "cell_type": "code",
   "execution_count": 29,
   "id": "0f5eddec",
   "metadata": {},
   "outputs": [
    {
     "data": {
      "text/plain": [
       "'BMW and 10'"
      ]
     },
     "execution_count": 29,
     "metadata": {},
     "output_type": "execute_result"
    }
   ],
   "source": [
    "str(c1)"
   ]
  },
  {
   "cell_type": "markdown",
   "id": "bf4b7b74",
   "metadata": {},
   "source": [
    "# Inheritance"
   ]
  },
  {
   "cell_type": "code",
   "execution_count": 34,
   "id": "35d4a626",
   "metadata": {},
   "outputs": [],
   "source": [
    "class School_Members:\n",
    "    def __init__(self, name, age):\n",
    "        self.name = name\n",
    "        self.age = age\n",
    "        print(f'Initialised School Member whose name is: {self.name}')\n",
    "    \n",
    "    def display(self):\n",
    "        print(f'Name is {self.name} and age is {self.age}')"
   ]
  },
  {
   "cell_type": "code",
   "execution_count": 40,
   "id": "b7da9bbb",
   "metadata": {},
   "outputs": [],
   "source": [
    "class Teachers(School_Members):\n",
    "    \n",
    "    def __init__(self, name, age, salary):\n",
    "        School_Members.__init__(self, name, age)\n",
    "        self.salary = salary\n",
    "        print(f'Initialised Teacher name: {self.name}')\n",
    "    \n",
    "    def display(self):\n",
    "        School_Members.display(self)\n",
    "        print(f'Salary: {self.salary}')"
   ]
  },
  {
   "cell_type": "code",
   "execution_count": 44,
   "id": "e74617f8",
   "metadata": {},
   "outputs": [
    {
     "name": "stdout",
     "output_type": "stream",
     "text": [
      "Initialised School Member whose name is: Abhijeet\n",
      "Initialised Teacher name: Abhijeet\n"
     ]
    }
   ],
   "source": [
    "t = Teachers('Abhijeet', 23, 500)"
   ]
  },
  {
   "cell_type": "code",
   "execution_count": 45,
   "id": "5c9f2c61",
   "metadata": {},
   "outputs": [
    {
     "name": "stdout",
     "output_type": "stream",
     "text": [
      "Name is Abhijeet and age is 23\n",
      "Salary: 500\n"
     ]
    }
   ],
   "source": [
    "t.display()"
   ]
  },
  {
   "cell_type": "code",
   "execution_count": 46,
   "id": "6fda7258",
   "metadata": {},
   "outputs": [],
   "source": [
    "class Student(School_Members):\n",
    "    \n",
    "    def __init__(self, name, age, marks, roll, attendance):\n",
    "        School_Members.__init__(self, name, age)\n",
    "        self.roll = roll\n",
    "        self.marks = marks\n",
    "        self.attendance = attendance\n",
    "        print(f'Initialised student name: {self.name}')\n",
    "        \n",
    "    def display(self):\n",
    "        School_Members.display(self)\n",
    "        print(f'Marks {self.marks} Roll {self.roll}')"
   ]
  },
  {
   "cell_type": "code",
   "execution_count": 47,
   "id": "283eb7df",
   "metadata": {},
   "outputs": [
    {
     "name": "stdout",
     "output_type": "stream",
     "text": [
      "Initialised School Member whose name is: Hello\n",
      "Initialised student name: Hello\n"
     ]
    }
   ],
   "source": [
    "s1 = Student('Hello', 20, 25, 1, 1)"
   ]
  },
  {
   "cell_type": "code",
   "execution_count": 48,
   "id": "7a1a26d8",
   "metadata": {},
   "outputs": [
    {
     "name": "stdout",
     "output_type": "stream",
     "text": [
      "Name is Hello and age is 20\n",
      "Marks 25 Roll 1\n"
     ]
    }
   ],
   "source": [
    "s1.display()"
   ]
  },
  {
   "cell_type": "code",
   "execution_count": 49,
   "id": "9b03569c",
   "metadata": {},
   "outputs": [
    {
     "name": "stdout",
     "output_type": "stream",
     "text": [
      "Initialised School Member whose name is: Abhijeet\n"
     ]
    }
   ],
   "source": [
    "sm = School_Members('Abhijeet', 23)"
   ]
  },
  {
   "cell_type": "code",
   "execution_count": 50,
   "id": "cb48793b",
   "metadata": {},
   "outputs": [
    {
     "name": "stdout",
     "output_type": "stream",
     "text": [
      "Abhijeet 23\n"
     ]
    }
   ],
   "source": [
    "print(sm.name, sm.age)"
   ]
  },
  {
   "cell_type": "code",
   "execution_count": 18,
   "id": "dae917f5",
   "metadata": {},
   "outputs": [],
   "source": [
    "class School_Members:\n",
    "    def __init__(self, name, age):\n",
    "        self.name = name\n",
    "        self.age = age\n",
    "        print(f'Initialised School Member whose name is: {self.name}')\n",
    "    \n",
    "    def display(self):\n",
    "        print(f'Name is {self.name} and age is {self.age}')"
   ]
  },
  {
   "cell_type": "code",
   "execution_count": 19,
   "id": "bbd62d22",
   "metadata": {},
   "outputs": [],
   "source": [
    "class Teachers(School_Members):\n",
    "    \n",
    "    def __init__(self, name, age, salary):\n",
    "        super().__init__(name, age)\n",
    "        self.salary = salary\n",
    "        print(f'Initialised Teacher name: {self.name}')\n",
    "    \n",
    "    def display(self):\n",
    "        super().display()\n",
    "        print(f'Salary: {self.salary}')"
   ]
  },
  {
   "cell_type": "code",
   "execution_count": 44,
   "id": "89ff0c6a",
   "metadata": {},
   "outputs": [],
   "source": [
    "class Student(School_Members):\n",
    "    \n",
    "    def __init__(self, name, age, marks, roll, attendance):\n",
    "        super().__init__(name, age)\n",
    "        self.roll = roll\n",
    "        self.marks = marks\n",
    "        self.attendance = attendance\n",
    "        print(f'Initialised student name: {self.name}')\n",
    "        \n",
    "    def display(self):\n",
    "        super().display()\n",
    "        print(f'Marks {self.marks} Roll {self.roll}')"
   ]
  },
  {
   "cell_type": "code",
   "execution_count": 45,
   "id": "f5811b04",
   "metadata": {},
   "outputs": [
    {
     "name": "stdout",
     "output_type": "stream",
     "text": [
      "Initialised School Member whose name is: Abhijeet\n",
      "Initialised Teacher name: Abhijeet\n"
     ]
    }
   ],
   "source": [
    "t = Teachers('Abhijeet', 23, 500)"
   ]
  },
  {
   "cell_type": "code",
   "execution_count": 46,
   "id": "1375d6c6",
   "metadata": {},
   "outputs": [
    {
     "name": "stdout",
     "output_type": "stream",
     "text": [
      "Name is Abhijeet and age is 23\n",
      "Salary: 500\n"
     ]
    }
   ],
   "source": [
    "t.display()"
   ]
  },
  {
   "cell_type": "code",
   "execution_count": 47,
   "id": "00632da7",
   "metadata": {},
   "outputs": [
    {
     "name": "stdout",
     "output_type": "stream",
     "text": [
      "Initialised School Member whose name is: Hello\n",
      "Initialised student name: Hello\n"
     ]
    }
   ],
   "source": [
    "s1 = Student('Hello', 20, 25, 1, 1)"
   ]
  },
  {
   "cell_type": "code",
   "execution_count": 48,
   "id": "cac05667",
   "metadata": {},
   "outputs": [
    {
     "name": "stdout",
     "output_type": "stream",
     "text": [
      "Name is Hello and age is 20\n",
      "Marks 25 Roll 1\n"
     ]
    }
   ],
   "source": [
    "s1.display()"
   ]
  },
  {
   "cell_type": "code",
   "execution_count": 66,
   "id": "5a0620ba",
   "metadata": {},
   "outputs": [],
   "source": [
    "class Person:\n",
    "    \n",
    "    name = 'Abhijeet'\n",
    "    \n",
    "    def display(Person):\n",
    "        print(Person.name)\n",
    "        \n",
    "    def update(self, name):\n",
    "        self.name = name"
   ]
  },
  {
   "cell_type": "code",
   "execution_count": 67,
   "id": "073e8596",
   "metadata": {},
   "outputs": [
    {
     "name": "stdout",
     "output_type": "stream",
     "text": [
      "Abhijeet\n"
     ]
    }
   ],
   "source": [
    "Person.display(Person())"
   ]
  },
  {
   "cell_type": "code",
   "execution_count": 68,
   "id": "3989cf35",
   "metadata": {},
   "outputs": [
    {
     "name": "stdout",
     "output_type": "stream",
     "text": [
      "Abhijeet\n"
     ]
    }
   ],
   "source": [
    "Person().display()"
   ]
  },
  {
   "cell_type": "code",
   "execution_count": 69,
   "id": "1c081d67",
   "metadata": {},
   "outputs": [],
   "source": [
    "p1 = Person()"
   ]
  },
  {
   "cell_type": "code",
   "execution_count": 70,
   "id": "5219d888",
   "metadata": {},
   "outputs": [],
   "source": [
    "p2 = Person()"
   ]
  },
  {
   "cell_type": "code",
   "execution_count": 71,
   "id": "ccab78f1",
   "metadata": {},
   "outputs": [],
   "source": [
    "p2.update('Hello')"
   ]
  },
  {
   "cell_type": "code",
   "execution_count": 72,
   "id": "200c3230",
   "metadata": {},
   "outputs": [
    {
     "name": "stdout",
     "output_type": "stream",
     "text": [
      "Abhijeet Hello\n"
     ]
    }
   ],
   "source": [
    "print(p1.name, p2.name)"
   ]
  },
  {
   "cell_type": "code",
   "execution_count": 83,
   "id": "f40b4f76",
   "metadata": {},
   "outputs": [
    {
     "name": "stdout",
     "output_type": "stream",
     "text": [
      "2607517789296 2607517659952 2607517789296\n"
     ]
    }
   ],
   "source": [
    "print(id(p1.name), id(p2.name), id(Person.name))"
   ]
  },
  {
   "cell_type": "code",
   "execution_count": 73,
   "id": "9df56360",
   "metadata": {},
   "outputs": [],
   "source": [
    "class Dogs:\n",
    "    \n",
    "    total_tricks = []\n",
    "    \n",
    "    def __init__(self, name, breed):\n",
    "        self.name = name\n",
    "        self.breed= breed\n",
    "        \n",
    "    def update_tricks(self, trick):\n",
    "        self.total_tricks.append(trick)\n",
    "        \n",
    "    def display(self):\n",
    "        print(self.total_tricks)"
   ]
  },
  {
   "cell_type": "code",
   "execution_count": 74,
   "id": "7b3b366e",
   "metadata": {},
   "outputs": [],
   "source": [
    "d1 = Dogs('abc', 'labra')\n",
    "d2 = Dogs('xyz', 'G S')"
   ]
  },
  {
   "cell_type": "code",
   "execution_count": 75,
   "id": "16794df9",
   "metadata": {},
   "outputs": [],
   "source": [
    "d1.update_tricks('sit')\n",
    "d1.update_tricks('dance')"
   ]
  },
  {
   "cell_type": "code",
   "execution_count": 77,
   "id": "3a128f38",
   "metadata": {},
   "outputs": [
    {
     "name": "stdout",
     "output_type": "stream",
     "text": [
      "['sit', 'dance'] ['sit', 'dance']\n"
     ]
    }
   ],
   "source": [
    "print(d1.total_tricks, d2.total_tricks)"
   ]
  },
  {
   "cell_type": "code",
   "execution_count": 78,
   "id": "b1ac0feb",
   "metadata": {},
   "outputs": [
    {
     "data": {
      "text/plain": [
       "140719057868560"
      ]
     },
     "execution_count": 78,
     "metadata": {},
     "output_type": "execute_result"
    }
   ],
   "source": [
    "var = 1\n",
    "id(var)"
   ]
  },
  {
   "cell_type": "code",
   "execution_count": 79,
   "id": "972bdc4a",
   "metadata": {},
   "outputs": [
    {
     "data": {
      "text/plain": [
       "140719057868592"
      ]
     },
     "execution_count": 79,
     "metadata": {},
     "output_type": "execute_result"
    }
   ],
   "source": [
    "var = 2\n",
    "id(var)"
   ]
  },
  {
   "cell_type": "code",
   "execution_count": 81,
   "id": "4234303c",
   "metadata": {},
   "outputs": [
    {
     "name": "stdout",
     "output_type": "stream",
     "text": [
      "2607531509056\n"
     ]
    }
   ],
   "source": [
    "l = [1, 2, 3]\n",
    "print(id(l))"
   ]
  },
  {
   "cell_type": "code",
   "execution_count": 82,
   "id": "121b35c5",
   "metadata": {},
   "outputs": [
    {
     "name": "stdout",
     "output_type": "stream",
     "text": [
      "2607531509056\n"
     ]
    }
   ],
   "source": [
    "l.append(4)\n",
    "print(id(l))"
   ]
  },
  {
   "cell_type": "code",
   "execution_count": 86,
   "id": "90751739",
   "metadata": {},
   "outputs": [
    {
     "name": "stdout",
     "output_type": "stream",
     "text": [
      "<function temp at 0x0000025F1C2A6B80>\n"
     ]
    }
   ],
   "source": [
    "print(temp)"
   ]
  },
  {
   "cell_type": "code",
   "execution_count": null,
   "id": "732f58c5",
   "metadata": {},
   "outputs": [],
   "source": []
  }
 ],
 "metadata": {
  "kernelspec": {
   "display_name": "Python 3 (ipykernel)",
   "language": "python",
   "name": "python3"
  },
  "language_info": {
   "codemirror_mode": {
    "name": "ipython",
    "version": 3
   },
   "file_extension": ".py",
   "mimetype": "text/x-python",
   "name": "python",
   "nbconvert_exporter": "python",
   "pygments_lexer": "ipython3",
   "version": "3.8.10"
  }
 },
 "nbformat": 4,
 "nbformat_minor": 5
}
