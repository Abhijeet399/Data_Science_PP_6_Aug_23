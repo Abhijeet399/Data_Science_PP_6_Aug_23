{
 "cells": [
  {
   "cell_type": "code",
   "execution_count": 7,
   "id": "3af9e86b",
   "metadata": {},
   "outputs": [],
   "source": [
    "var = 1 # initialise var"
   ]
  },
  {
   "cell_type": "code",
   "execution_count": 8,
   "id": "1c4cd32c",
   "metadata": {},
   "outputs": [
    {
     "data": {
      "text/plain": [
       "1"
      ]
     },
     "execution_count": 8,
     "metadata": {},
     "output_type": "execute_result"
    }
   ],
   "source": [
    "var"
   ]
  },
  {
   "cell_type": "code",
   "execution_count": 15,
   "id": "afbe9cae",
   "metadata": {},
   "outputs": [
    {
     "data": {
      "text/plain": [
       "-1"
      ]
     },
     "execution_count": 15,
     "metadata": {},
     "output_type": "execute_result"
    }
   ],
   "source": [
    "x"
   ]
  },
  {
   "cell_type": "code",
   "execution_count": 9,
   "id": "b28438a2",
   "metadata": {},
   "outputs": [],
   "source": [
    "var = 100 # update var"
   ]
  },
  {
   "cell_type": "code",
   "execution_count": 10,
   "id": "0275a110",
   "metadata": {},
   "outputs": [
    {
     "data": {
      "text/plain": [
       "100"
      ]
     },
     "execution_count": 10,
     "metadata": {},
     "output_type": "execute_result"
    }
   ],
   "source": [
    "var"
   ]
  },
  {
   "cell_type": "code",
   "execution_count": 11,
   "id": "05bce31f",
   "metadata": {},
   "outputs": [],
   "source": [
    "x = -1"
   ]
  },
  {
   "cell_type": "code",
   "execution_count": 12,
   "id": "fcc0f4fa",
   "metadata": {},
   "outputs": [
    {
     "data": {
      "text/plain": [
       "-1"
      ]
     },
     "execution_count": 12,
     "metadata": {},
     "output_type": "execute_result"
    }
   ],
   "source": [
    "x"
   ]
  },
  {
   "cell_type": "code",
   "execution_count": 14,
   "id": "5813069a",
   "metadata": {},
   "outputs": [
    {
     "data": {
      "text/plain": [
       "-1"
      ]
     },
     "execution_count": 14,
     "metadata": {},
     "output_type": "execute_result"
    }
   ],
   "source": [
    "x"
   ]
  },
  {
   "cell_type": "code",
   "execution_count": 16,
   "id": "924638f3",
   "metadata": {},
   "outputs": [],
   "source": [
    "pi = 3.14"
   ]
  },
  {
   "cell_type": "code",
   "execution_count": 17,
   "id": "141263c0",
   "metadata": {},
   "outputs": [],
   "source": [
    "weight = 90.00"
   ]
  },
  {
   "cell_type": "code",
   "execution_count": 18,
   "id": "14f81781",
   "metadata": {},
   "outputs": [],
   "source": [
    "name = 'Abhijeet'"
   ]
  },
  {
   "cell_type": "code",
   "execution_count": 19,
   "id": "df10ef3f",
   "metadata": {},
   "outputs": [
    {
     "data": {
      "text/plain": [
       "'Abhijeet'"
      ]
     },
     "execution_count": 19,
     "metadata": {},
     "output_type": "execute_result"
    }
   ],
   "source": [
    "name"
   ]
  },
  {
   "cell_type": "code",
   "execution_count": 31,
   "id": "cd9b935b",
   "metadata": {},
   "outputs": [],
   "source": [
    "how_is_the_day = \"It's a good day\""
   ]
  },
  {
   "cell_type": "code",
   "execution_count": 32,
   "id": "42942954",
   "metadata": {},
   "outputs": [
    {
     "data": {
      "text/plain": [
       "\"It's a good day\""
      ]
     },
     "execution_count": 32,
     "metadata": {},
     "output_type": "execute_result"
    }
   ],
   "source": [
    "name"
   ]
  },
  {
   "cell_type": "code",
   "execution_count": 40,
   "id": "18c54aa8",
   "metadata": {},
   "outputs": [],
   "source": [
    "name = 'Abhijeet'"
   ]
  },
  {
   "cell_type": "code",
   "execution_count": 44,
   "id": "94bc98c6",
   "metadata": {},
   "outputs": [],
   "source": [
    "del var"
   ]
  },
  {
   "cell_type": "code",
   "execution_count": 46,
   "id": "948554b1",
   "metadata": {},
   "outputs": [
    {
     "data": {
      "text/plain": [
       "'Abhijeet'"
      ]
     },
     "execution_count": 46,
     "metadata": {},
     "output_type": "execute_result"
    }
   ],
   "source": [
    "name"
   ]
  },
  {
   "cell_type": "code",
   "execution_count": 53,
   "id": "f0e954ef",
   "metadata": {},
   "outputs": [],
   "source": [
    "boolean = True"
   ]
  },
  {
   "cell_type": "code",
   "execution_count": 54,
   "id": "9d7342df",
   "metadata": {},
   "outputs": [
    {
     "data": {
      "text/plain": [
       "True"
      ]
     },
     "execution_count": 54,
     "metadata": {},
     "output_type": "execute_result"
    }
   ],
   "source": [
    "boolean"
   ]
  },
  {
   "cell_type": "markdown",
   "id": "12bbb1fd",
   "metadata": {},
   "source": [
    "# Functions"
   ]
  },
  {
   "cell_type": "code",
   "execution_count": 57,
   "id": "03c3e4b6",
   "metadata": {},
   "outputs": [
    {
     "name": "stdout",
     "output_type": "stream",
     "text": [
      "Hello World!\n"
     ]
    }
   ],
   "source": [
    "print('Hello World!')"
   ]
  },
  {
   "cell_type": "code",
   "execution_count": 56,
   "id": "ec3f0de6",
   "metadata": {},
   "outputs": [],
   "source": [
    "print?"
   ]
  },
  {
   "cell_type": "code",
   "execution_count": 81,
   "id": "7a318eab",
   "metadata": {},
   "outputs": [
    {
     "name": "stdout",
     "output_type": "stream",
     "text": [
      "Hello bhai kya haal hai-->mast bhai tu bta?-->mai bdia tu kidhar hai?BYE BYEMai bhai ghumne aya hu?-->Tu kaha hai?\n"
     ]
    }
   ],
   "source": [
    "print('Hello bhai kya haal hai', 'mast bhai tu bta?', 'mai bdia tu kidhar hai?', end='BYE BYE', sep='-->')\n",
    "print('Mai bhai ghumne aya hu?', 'Tu kaha hai?',sep='-->')"
   ]
  },
  {
   "cell_type": "code",
   "execution_count": 71,
   "id": "11f5d9b6",
   "metadata": {},
   "outputs": [
    {
     "name": "stdout",
     "output_type": "stream",
     "text": [
      "684385455435 3541345 -2145521 1.2525\n"
     ]
    }
   ],
   "source": [
    "print(684385455435, 3541345, -2145521, 1.2525)"
   ]
  },
  {
   "cell_type": "code",
   "execution_count": 77,
   "id": "3d384f41",
   "metadata": {},
   "outputs": [
    {
     "name": "stdout",
     "output_type": "stream",
     "text": [
      "var\n"
     ]
    }
   ],
   "source": [
    "print('var')"
   ]
  },
  {
   "cell_type": "code",
   "execution_count": 83,
   "id": "450fe936",
   "metadata": {},
   "outputs": [
    {
     "name": "stdout",
     "output_type": "stream",
     "text": [
      "Abhijeet\n"
     ]
    }
   ],
   "source": [
    "print(name)"
   ]
  },
  {
   "cell_type": "code",
   "execution_count": 88,
   "id": "ad22148d",
   "metadata": {},
   "outputs": [
    {
     "data": {
      "text/plain": [
       "bool"
      ]
     },
     "execution_count": 88,
     "metadata": {},
     "output_type": "execute_result"
    }
   ],
   "source": [
    "type(boolean)"
   ]
  },
  {
   "cell_type": "markdown",
   "id": "9c0e668e",
   "metadata": {},
   "source": [
    "Callability\n",
    " - helps in calling a function"
   ]
  },
  {
   "cell_type": "code",
   "execution_count": 120,
   "id": "c707daeb",
   "metadata": {},
   "outputs": [],
   "source": [
    "def temp():\n",
    "    print('Hello world')"
   ]
  },
  {
   "cell_type": "code",
   "execution_count": 121,
   "id": "df5fa281",
   "metadata": {},
   "outputs": [
    {
     "name": "stdout",
     "output_type": "stream",
     "text": [
      "<function temp at 0x000002156E40EF70>\n"
     ]
    }
   ],
   "source": [
    "print(temp)"
   ]
  },
  {
   "cell_type": "code",
   "execution_count": 122,
   "id": "16003030",
   "metadata": {},
   "outputs": [],
   "source": [
    "var = temp"
   ]
  },
  {
   "cell_type": "code",
   "execution_count": 123,
   "id": "829ca720",
   "metadata": {},
   "outputs": [
    {
     "name": "stdout",
     "output_type": "stream",
     "text": [
      "Hello world\n"
     ]
    }
   ],
   "source": [
    "var()"
   ]
  },
  {
   "cell_type": "code",
   "execution_count": 129,
   "id": "4adef02b",
   "metadata": {},
   "outputs": [],
   "source": [
    "var = '2.5'"
   ]
  },
  {
   "cell_type": "code",
   "execution_count": 131,
   "id": "a56a3882",
   "metadata": {},
   "outputs": [
    {
     "name": "stdout",
     "output_type": "stream",
     "text": [
      "2.5\n"
     ]
    }
   ],
   "source": [
    "print(var)"
   ]
  },
  {
   "cell_type": "code",
   "execution_count": 133,
   "id": "681843b0",
   "metadata": {},
   "outputs": [
    {
     "data": {
      "text/plain": [
       "str"
      ]
     },
     "execution_count": 133,
     "metadata": {},
     "output_type": "execute_result"
    }
   ],
   "source": [
    "type(var)"
   ]
  },
  {
   "cell_type": "code",
   "execution_count": 134,
   "id": "f4add182",
   "metadata": {},
   "outputs": [],
   "source": [
    "var = temp"
   ]
  },
  {
   "cell_type": "code",
   "execution_count": 135,
   "id": "4d4573e9",
   "metadata": {},
   "outputs": [
    {
     "data": {
      "text/plain": [
       "function"
      ]
     },
     "execution_count": 135,
     "metadata": {},
     "output_type": "execute_result"
    }
   ],
   "source": [
    "type(var)"
   ]
  },
  {
   "cell_type": "code",
   "execution_count": 136,
   "id": "3ee3a1aa",
   "metadata": {},
   "outputs": [
    {
     "name": "stdout",
     "output_type": "stream",
     "text": [
      "<function temp at 0x000002156E40EF70>\n"
     ]
    }
   ],
   "source": [
    "print(var)"
   ]
  },
  {
   "cell_type": "code",
   "execution_count": null,
   "id": "8a2ee67d",
   "metadata": {},
   "outputs": [],
   "source": []
  }
 ],
 "metadata": {
  "kernelspec": {
   "display_name": "Python 3 (ipykernel)",
   "language": "python",
   "name": "python3"
  },
  "language_info": {
   "codemirror_mode": {
    "name": "ipython",
    "version": 3
   },
   "file_extension": ".py",
   "mimetype": "text/x-python",
   "name": "python",
   "nbconvert_exporter": "python",
   "pygments_lexer": "ipython3",
   "version": "3.8.10"
  }
 },
 "nbformat": 4,
 "nbformat_minor": 5
}
