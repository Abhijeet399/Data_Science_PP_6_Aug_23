{
 "cells": [
  {
   "cell_type": "code",
   "execution_count": 1,
   "id": "5a351da0",
   "metadata": {},
   "outputs": [],
   "source": [
    "from calculator import *"
   ]
  },
  {
   "cell_type": "code",
   "execution_count": 2,
   "id": "ab422bad",
   "metadata": {},
   "outputs": [],
   "source": [
    "# add?"
   ]
  },
  {
   "cell_type": "code",
   "execution_count": 3,
   "id": "c500906d",
   "metadata": {},
   "outputs": [
    {
     "data": {
      "text/plain": [
       "3"
      ]
     },
     "execution_count": 3,
     "metadata": {},
     "output_type": "execute_result"
    }
   ],
   "source": [
    "add(1, 2)"
   ]
  },
  {
   "cell_type": "code",
   "execution_count": 4,
   "id": "304d16a5",
   "metadata": {},
   "outputs": [
    {
     "data": {
      "text/plain": [
       "5"
      ]
     },
     "execution_count": 4,
     "metadata": {},
     "output_type": "execute_result"
    }
   ],
   "source": [
    "subtract(10, 5)"
   ]
  },
  {
   "cell_type": "code",
   "execution_count": 5,
   "id": "0d4814b9",
   "metadata": {},
   "outputs": [
    {
     "data": {
      "text/plain": [
       "2"
      ]
     },
     "execution_count": 5,
     "metadata": {},
     "output_type": "execute_result"
    }
   ],
   "source": [
    "multiply(1, 2)"
   ]
  },
  {
   "cell_type": "code",
   "execution_count": 6,
   "id": "8a6780c1",
   "metadata": {},
   "outputs": [
    {
     "data": {
      "text/plain": [
       "6.666666666666667"
      ]
     },
     "execution_count": 6,
     "metadata": {},
     "output_type": "execute_result"
    }
   ],
   "source": [
    "divide(20, 3)"
   ]
  },
  {
   "cell_type": "code",
   "execution_count": 7,
   "id": "c8a25dfa",
   "metadata": {},
   "outputs": [
    {
     "data": {
      "text/plain": [
       "0"
      ]
     },
     "execution_count": 7,
     "metadata": {},
     "output_type": "execute_result"
    }
   ],
   "source": [
    "modulo(10)"
   ]
  },
  {
   "cell_type": "code",
   "execution_count": 8,
   "id": "6f0201ec",
   "metadata": {},
   "outputs": [],
   "source": [
    "from complex import exponential"
   ]
  },
  {
   "cell_type": "code",
   "execution_count": 9,
   "id": "7c9dafce",
   "metadata": {},
   "outputs": [
    {
     "data": {
      "text/plain": [
       "4"
      ]
     },
     "execution_count": 9,
     "metadata": {},
     "output_type": "execute_result"
    }
   ],
   "source": [
    "exponential(2, 2)"
   ]
  },
  {
   "cell_type": "code",
   "execution_count": null,
   "id": "6f16b0b8",
   "metadata": {},
   "outputs": [],
   "source": []
  }
 ],
 "metadata": {
  "kernelspec": {
   "display_name": "Python 3 (ipykernel)",
   "language": "python",
   "name": "python3"
  },
  "language_info": {
   "codemirror_mode": {
    "name": "ipython",
    "version": 3
   },
   "file_extension": ".py",
   "mimetype": "text/x-python",
   "name": "python",
   "nbconvert_exporter": "python",
   "pygments_lexer": "ipython3",
   "version": "3.8.10"
  }
 },
 "nbformat": 4,
 "nbformat_minor": 5
}
