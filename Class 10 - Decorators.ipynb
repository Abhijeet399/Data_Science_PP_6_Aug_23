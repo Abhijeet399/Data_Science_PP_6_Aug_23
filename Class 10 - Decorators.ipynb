{
 "cells": [
  {
   "cell_type": "code",
   "execution_count": 1,
   "id": "614bd0c4",
   "metadata": {},
   "outputs": [],
   "source": [
    "def temp(a, b):\n",
    "    print(c)\n",
    "    print(a, b)"
   ]
  },
  {
   "cell_type": "code",
   "execution_count": 2,
   "id": "e51c2a9c",
   "metadata": {},
   "outputs": [
    {
     "name": "stdout",
     "output_type": "stream",
     "text": [
      "<function temp at 0x000001951AAB9550>\n"
     ]
    }
   ],
   "source": [
    "print(temp)"
   ]
  },
  {
   "cell_type": "code",
   "execution_count": 3,
   "id": "b2c9926b",
   "metadata": {},
   "outputs": [
    {
     "name": "stdout",
     "output_type": "stream",
     "text": [
      "10\n",
      "1 2\n"
     ]
    }
   ],
   "source": [
    "c = 10\n",
    "temp('1', 2)"
   ]
  },
  {
   "cell_type": "code",
   "execution_count": 4,
   "id": "a04ec89c",
   "metadata": {},
   "outputs": [],
   "source": [
    "def adder(a, b, *args, **kwargs):\n",
    "    print(a+b)\n",
    "    print(args)\n",
    "    print(kwargs)\n",
    "    a += b\n",
    "    for i in args:\n",
    "        a+=i\n",
    "    print(a)"
   ]
  },
  {
   "cell_type": "code",
   "execution_count": 5,
   "id": "d6c5dbf4",
   "metadata": {},
   "outputs": [
    {
     "name": "stdout",
     "output_type": "stream",
     "text": [
      "3\n",
      "(3, 2, 3, 4, 6, 99)\n",
      "{'name': 'adder', 'func': 'add'}\n",
      "120\n"
     ]
    }
   ],
   "source": [
    "adder(1, 2, 3, 2, 3, 4, 6, 99, name = 'adder', func = 'add')"
   ]
  },
  {
   "cell_type": "code",
   "execution_count": null,
   "id": "ed6988bf",
   "metadata": {},
   "outputs": [],
   "source": []
  },
  {
   "cell_type": "code",
   "execution_count": null,
   "id": "8908aadd",
   "metadata": {},
   "outputs": [],
   "source": []
  },
  {
   "cell_type": "code",
   "execution_count": null,
   "id": "56f3fdcf",
   "metadata": {},
   "outputs": [],
   "source": []
  },
  {
   "cell_type": "code",
   "execution_count": null,
   "id": "75590d42",
   "metadata": {},
   "outputs": [],
   "source": []
  },
  {
   "cell_type": "code",
   "execution_count": null,
   "id": "43244acc",
   "metadata": {},
   "outputs": [],
   "source": []
  },
  {
   "cell_type": "code",
   "execution_count": null,
   "id": "9920acc2",
   "metadata": {},
   "outputs": [],
   "source": []
  },
  {
   "cell_type": "code",
   "execution_count": null,
   "id": "9f58b5b0",
   "metadata": {},
   "outputs": [],
   "source": []
  },
  {
   "cell_type": "markdown",
   "id": "222b8b91",
   "metadata": {},
   "source": [
    "# Decorators"
   ]
  },
  {
   "cell_type": "code",
   "execution_count": 6,
   "id": "4c701b2e",
   "metadata": {},
   "outputs": [],
   "source": [
    "users = {\n",
    "    'Abhijeet': 'password',\n",
    "    'Mohit': '12345678'\n",
    "}"
   ]
  },
  {
   "cell_type": "code",
   "execution_count": 7,
   "id": "1172a183",
   "metadata": {},
   "outputs": [],
   "source": [
    "# print('\"Abhijeet\"')"
   ]
  },
  {
   "cell_type": "code",
   "execution_count": 8,
   "id": "0abf1d8f",
   "metadata": {},
   "outputs": [
    {
     "data": {
      "text/plain": [
       "'password'"
      ]
     },
     "execution_count": 8,
     "metadata": {},
     "output_type": "execute_result"
    }
   ],
   "source": [
    "users['Abhijeet']"
   ]
  },
  {
   "cell_type": "code",
   "execution_count": 9,
   "id": "1beecb1d",
   "metadata": {},
   "outputs": [],
   "source": [
    "def show(username, password, a, b):\n",
    "    if username in users and users[username] == password:\n",
    "        print('Authenticated')\n",
    "        print(add(a, b))\n",
    "    else:\n",
    "        print('Not Authenticated')"
   ]
  },
  {
   "cell_type": "code",
   "execution_count": 11,
   "id": "9ed455ae",
   "metadata": {},
   "outputs": [],
   "source": [
    "def add(a, b):\n",
    "    return a+b"
   ]
  },
  {
   "cell_type": "code",
   "execution_count": 12,
   "id": "36856318",
   "metadata": {},
   "outputs": [
    {
     "name": "stdout",
     "output_type": "stream",
     "text": [
      "Authenticated\n",
      "3\n"
     ]
    }
   ],
   "source": [
    "show('Mohit', '12345678', 1, 2)"
   ]
  },
  {
   "cell_type": "code",
   "execution_count": 13,
   "id": "9a7b8174",
   "metadata": {},
   "outputs": [],
   "source": [
    "def add(username, password, a, b):\n",
    "    if username in users and users[username] == password:\n",
    "        print('Authenticated')\n",
    "        return a+b\n",
    "    else:\n",
    "        print('Not Authenticated')"
   ]
  },
  {
   "cell_type": "code",
   "execution_count": 14,
   "id": "3fa9ff95",
   "metadata": {},
   "outputs": [
    {
     "name": "stdout",
     "output_type": "stream",
     "text": [
      "Authenticated\n"
     ]
    },
    {
     "data": {
      "text/plain": [
       "3"
      ]
     },
     "execution_count": 14,
     "metadata": {},
     "output_type": "execute_result"
    }
   ],
   "source": [
    "add('Abhijeet','password', 1, 2)"
   ]
  },
  {
   "cell_type": "code",
   "execution_count": 15,
   "id": "54305ec9",
   "metadata": {},
   "outputs": [],
   "source": [
    "def add(a, b):\n",
    "    return a+b"
   ]
  },
  {
   "cell_type": "code",
   "execution_count": 16,
   "id": "2afca142",
   "metadata": {},
   "outputs": [
    {
     "name": "stdout",
     "output_type": "stream",
     "text": [
      "Authenticated\n",
      "3\n"
     ]
    }
   ],
   "source": [
    "show('Abhijeet','password', 1, 2)"
   ]
  },
  {
   "cell_type": "code",
   "execution_count": 17,
   "id": "62dabb9b",
   "metadata": {},
   "outputs": [
    {
     "data": {
      "text/plain": [
       "4"
      ]
     },
     "execution_count": 17,
     "metadata": {},
     "output_type": "execute_result"
    }
   ],
   "source": [
    "add(1, 3)          # By adding add to show doesnt changes property of add its is still callable without username and pass"
   ]
  },
  {
   "cell_type": "code",
   "execution_count": 18,
   "id": "161f3eeb",
   "metadata": {},
   "outputs": [],
   "source": [
    "def login_requ(f):\n",
    "    def wrapper(username, password, *args, **kwargs):\n",
    "        if username in users and users[username] == password:\n",
    "            f(*args, **kwargs)\n",
    "                \n",
    "        else:\n",
    "            print('Not Authenticated')\n",
    "            \n",
    "    return wrapper"
   ]
  },
  {
   "cell_type": "code",
   "execution_count": 19,
   "id": "4510a6a4",
   "metadata": {},
   "outputs": [],
   "source": [
    "def add(a, b):\n",
    "    print(a+b) "
   ]
  },
  {
   "cell_type": "code",
   "execution_count": 20,
   "id": "b87310fc",
   "metadata": {},
   "outputs": [],
   "source": [
    "prot_add = login_requ(add)"
   ]
  },
  {
   "cell_type": "code",
   "execution_count": 21,
   "id": "9a9aa6fc",
   "metadata": {},
   "outputs": [
    {
     "name": "stdout",
     "output_type": "stream",
     "text": [
      "55\n"
     ]
    }
   ],
   "source": [
    "prot_add('Abhijeet', 'password', 22, 33)"
   ]
  },
  {
   "cell_type": "code",
   "execution_count": 22,
   "id": "47a2b6fa",
   "metadata": {},
   "outputs": [
    {
     "name": "stdout",
     "output_type": "stream",
     "text": [
      "<function login_requ.<locals>.wrapper at 0x000001951B139820>\n"
     ]
    }
   ],
   "source": [
    "print(prot_add)"
   ]
  },
  {
   "cell_type": "code",
   "execution_count": 23,
   "id": "0239a94c",
   "metadata": {},
   "outputs": [
    {
     "name": "stdout",
     "output_type": "stream",
     "text": [
      "3\n"
     ]
    }
   ],
   "source": [
    "add(1, 2)"
   ]
  },
  {
   "cell_type": "code",
   "execution_count": 24,
   "id": "647bd8d9",
   "metadata": {},
   "outputs": [],
   "source": [
    "add = login_requ(add)"
   ]
  },
  {
   "cell_type": "code",
   "execution_count": null,
   "id": "5e0c6510",
   "metadata": {},
   "outputs": [],
   "source": []
  }
 ],
 "metadata": {
  "kernelspec": {
   "display_name": "Python 3 (ipykernel)",
   "language": "python",
   "name": "python3"
  },
  "language_info": {
   "codemirror_mode": {
    "name": "ipython",
    "version": 3
   },
   "file_extension": ".py",
   "mimetype": "text/x-python",
   "name": "python",
   "nbconvert_exporter": "python",
   "pygments_lexer": "ipython3",
   "version": "3.8.10"
  }
 },
 "nbformat": 4,
 "nbformat_minor": 5
}
