{
 "cells": [
  {
   "cell_type": "code",
   "execution_count": 1,
   "id": "91da8665",
   "metadata": {},
   "outputs": [],
   "source": [
    "def temp(a, b):\n",
    "    print(c)\n",
    "    print(a, b)"
   ]
  },
  {
   "cell_type": "code",
   "execution_count": 2,
   "id": "09eb64f2",
   "metadata": {},
   "outputs": [
    {
     "name": "stdout",
     "output_type": "stream",
     "text": [
      "<function temp at 0x000001951AAB9550>\n"
     ]
    }
   ],
   "source": [
    "print(temp)"
   ]
  },
  {
   "cell_type": "code",
   "execution_count": 3,
   "id": "f82b2d74",
   "metadata": {},
   "outputs": [
    {
     "name": "stdout",
     "output_type": "stream",
     "text": [
      "10\n",
      "1 2\n"
     ]
    }
   ],
   "source": [
    "c = 10\n",
    "temp('1', 2)"
   ]
  },
  {
   "cell_type": "code",
   "execution_count": 4,
   "id": "7fc42eba",
   "metadata": {},
   "outputs": [],
   "source": [
    "def adder(a, b, *args, **kwargs):\n",
    "    print(a+b)\n",
    "    print(args)\n",
    "    print(kwargs)\n",
    "    a += b\n",
    "    for i in args:\n",
    "        a+=i\n",
    "    print(a)"
   ]
  },
  {
   "cell_type": "code",
   "execution_count": 5,
   "id": "a4543298",
   "metadata": {},
   "outputs": [
    {
     "name": "stdout",
     "output_type": "stream",
     "text": [
      "3\n",
      "(3, 2, 3, 4, 6, 99)\n",
      "{'name': 'adder', 'func': 'add'}\n",
      "120\n"
     ]
    }
   ],
   "source": [
    "adder(1, 2, 3, 2, 3, 4, 6, 99, name = 'adder', func = 'add')"
   ]
  },
  {
   "cell_type": "code",
   "execution_count": null,
   "id": "f308e635",
   "metadata": {},
   "outputs": [],
   "source": []
  },
  {
   "cell_type": "code",
   "execution_count": null,
   "id": "a6d4e7bf",
   "metadata": {},
   "outputs": [],
   "source": []
  },
  {
   "cell_type": "code",
   "execution_count": null,
   "id": "7bb54b5b",
   "metadata": {},
   "outputs": [],
   "source": []
  },
  {
   "cell_type": "code",
   "execution_count": null,
   "id": "3233d16a",
   "metadata": {},
   "outputs": [],
   "source": []
  },
  {
   "cell_type": "code",
   "execution_count": null,
   "id": "607ec7f0",
   "metadata": {},
   "outputs": [],
   "source": []
  },
  {
   "cell_type": "code",
   "execution_count": null,
   "id": "94e28143",
   "metadata": {},
   "outputs": [],
   "source": []
  },
  {
   "cell_type": "code",
   "execution_count": null,
   "id": "0c53b763",
   "metadata": {},
   "outputs": [],
   "source": []
  },
  {
   "cell_type": "markdown",
   "id": "3b79f2eb",
   "metadata": {},
   "source": [
    "# Decorators"
   ]
  },
  {
   "cell_type": "code",
   "execution_count": 6,
   "id": "6144ae28",
   "metadata": {},
   "outputs": [],
   "source": [
    "users = {\n",
    "    'Abhijeet': 'password',\n",
    "    'Mohit': '12345678'\n",
    "}"
   ]
  },
  {
   "cell_type": "code",
   "execution_count": 7,
   "id": "ad10bcaf",
   "metadata": {},
   "outputs": [],
   "source": [
    "# print('\"Abhijeet\"')"
   ]
  },
  {
   "cell_type": "code",
   "execution_count": 8,
   "id": "09522dbd",
   "metadata": {},
   "outputs": [
    {
     "data": {
      "text/plain": [
       "'password'"
      ]
     },
     "execution_count": 8,
     "metadata": {},
     "output_type": "execute_result"
    }
   ],
   "source": [
    "users['Abhijeet']"
   ]
  },
  {
   "cell_type": "code",
   "execution_count": 9,
   "id": "6e72f78e",
   "metadata": {},
   "outputs": [],
   "source": [
    "def show(username, password, a, b):\n",
    "    if username in users and users[username] == password:\n",
    "        print('Authenticated')\n",
    "        print(add(a, b))\n",
    "    else:\n",
    "        print('Not Authenticated')"
   ]
  },
  {
   "cell_type": "code",
   "execution_count": 11,
   "id": "9d036a43",
   "metadata": {},
   "outputs": [],
   "source": [
    "def add(a, b):\n",
    "    return a+b"
   ]
  },
  {
   "cell_type": "code",
   "execution_count": 12,
   "id": "25e4a62f",
   "metadata": {},
   "outputs": [
    {
     "name": "stdout",
     "output_type": "stream",
     "text": [
      "Authenticated\n",
      "3\n"
     ]
    }
   ],
   "source": [
    "show('Mohit', '12345678', 1, 2)"
   ]
  },
  {
   "cell_type": "code",
   "execution_count": 13,
   "id": "2c4b3c5f",
   "metadata": {},
   "outputs": [],
   "source": [
    "def add(username, password, a, b):\n",
    "    if username in users and users[username] == password:\n",
    "        print('Authenticated')\n",
    "        return a+b\n",
    "    else:\n",
    "        print('Not Authenticated')"
   ]
  },
  {
   "cell_type": "code",
   "execution_count": 14,
   "id": "7c9406cc",
   "metadata": {},
   "outputs": [
    {
     "name": "stdout",
     "output_type": "stream",
     "text": [
      "Authenticated\n"
     ]
    },
    {
     "data": {
      "text/plain": [
       "3"
      ]
     },
     "execution_count": 14,
     "metadata": {},
     "output_type": "execute_result"
    }
   ],
   "source": [
    "add('Abhijeet','password', 1, 2)"
   ]
  },
  {
   "cell_type": "code",
   "execution_count": 15,
   "id": "89dd1385",
   "metadata": {},
   "outputs": [],
   "source": [
    "def add(a, b):\n",
    "    return a+b"
   ]
  },
  {
   "cell_type": "code",
   "execution_count": 16,
   "id": "d2de85d3",
   "metadata": {},
   "outputs": [
    {
     "name": "stdout",
     "output_type": "stream",
     "text": [
      "Authenticated\n",
      "3\n"
     ]
    }
   ],
   "source": [
    "show('Abhijeet','password', 1, 2)"
   ]
  },
  {
   "cell_type": "code",
   "execution_count": 17,
   "id": "9f3df5ce",
   "metadata": {},
   "outputs": [
    {
     "data": {
      "text/plain": [
       "4"
      ]
     },
     "execution_count": 17,
     "metadata": {},
     "output_type": "execute_result"
    }
   ],
   "source": [
    "add(1, 3)          # By adding add to show doesnt changes property of add its is still callable without username and pass"
   ]
  },
  {
   "cell_type": "code",
   "execution_count": 18,
   "id": "29de1e13",
   "metadata": {},
   "outputs": [],
   "source": [
    "def login_requ(f):\n",
    "    def wrapper(username, password, *args, **kwargs):\n",
    "        if username in users and users[username] == password:\n",
    "            f(*args, **kwargs)\n",
    "                \n",
    "        else:\n",
    "            print('Not Authenticated')\n",
    "            \n",
    "    return wrapper"
   ]
  },
  {
   "cell_type": "code",
   "execution_count": 19,
   "id": "8ff48c76",
   "metadata": {},
   "outputs": [],
   "source": [
    "def add(a, b):\n",
    "    print(a+b) "
   ]
  },
  {
   "cell_type": "code",
   "execution_count": 20,
   "id": "e1fd0934",
   "metadata": {},
   "outputs": [],
   "source": [
    "prot_add = login_requ(add)"
   ]
  },
  {
   "cell_type": "code",
   "execution_count": 21,
   "id": "494164f7",
   "metadata": {},
   "outputs": [
    {
     "name": "stdout",
     "output_type": "stream",
     "text": [
      "55\n"
     ]
    }
   ],
   "source": [
    "prot_add('Abhijeet', 'password', 22, 33)"
   ]
  },
  {
   "cell_type": "code",
   "execution_count": 22,
   "id": "83f336b9",
   "metadata": {},
   "outputs": [
    {
     "name": "stdout",
     "output_type": "stream",
     "text": [
      "<function login_requ.<locals>.wrapper at 0x000001951B139820>\n"
     ]
    }
   ],
   "source": [
    "print(prot_add)"
   ]
  },
  {
   "cell_type": "code",
   "execution_count": 23,
   "id": "7738fe64",
   "metadata": {},
   "outputs": [
    {
     "name": "stdout",
     "output_type": "stream",
     "text": [
      "3\n"
     ]
    }
   ],
   "source": [
    "add(1, 2)"
   ]
  },
  {
   "cell_type": "code",
   "execution_count": 24,
   "id": "4f508af6",
   "metadata": {},
   "outputs": [],
   "source": [
    "add = login_requ(add)"
   ]
  },
  {
   "cell_type": "code",
   "execution_count": 28,
   "id": "b203f7dd",
   "metadata": {},
   "outputs": [
    {
     "name": "stdout",
     "output_type": "stream",
     "text": [
      "12\n"
     ]
    }
   ],
   "source": [
    "add('Abhijeet', 'password', 10, 2)"
   ]
  },
  {
   "cell_type": "code",
   "execution_count": 29,
   "id": "a9b487a5",
   "metadata": {},
   "outputs": [],
   "source": [
    "def add(a, b):\n",
    "    print(a+b)\n",
    "    \n",
    "add = login_requ(add)"
   ]
  },
  {
   "cell_type": "code",
   "execution_count": 30,
   "id": "5a06f7e5",
   "metadata": {},
   "outputs": [],
   "source": [
    "@login_requ\n",
    "def add(a, b):\n",
    "    print(a+b)"
   ]
  },
  {
   "cell_type": "code",
   "execution_count": 31,
   "id": "14d65aa8",
   "metadata": {},
   "outputs": [
    {
     "name": "stdout",
     "output_type": "stream",
     "text": [
      "11\n"
     ]
    }
   ],
   "source": [
    "add('Mohit', '12345678', 2, 9)"
   ]
  },
  {
   "cell_type": "code",
   "execution_count": 32,
   "id": "fb093a66",
   "metadata": {},
   "outputs": [
    {
     "name": "stdout",
     "output_type": "stream",
     "text": [
      "Not Authenticated\n"
     ]
    }
   ],
   "source": [
    "add(2, 9)"
   ]
  },
  {
   "cell_type": "code",
   "execution_count": null,
   "id": "55bb3191",
   "metadata": {},
   "outputs": [],
   "source": []
  }
 ],
 "metadata": {
  "kernelspec": {
   "display_name": "Python 3 (ipykernel)",
   "language": "python",
   "name": "python3"
  },
  "language_info": {
   "codemirror_mode": {
    "name": "ipython",
    "version": 3
   },
   "file_extension": ".py",
   "mimetype": "text/x-python",
   "name": "python",
   "nbconvert_exporter": "python",
   "pygments_lexer": "ipython3",
   "version": "3.8.10"
  }
 },
 "nbformat": 4,
 "nbformat_minor": 5
}
