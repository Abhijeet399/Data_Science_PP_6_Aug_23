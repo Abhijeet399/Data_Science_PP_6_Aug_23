{
 "cells": [
  {
   "cell_type": "code",
   "execution_count": 1,
   "id": "3af9e86b",
   "metadata": {},
   "outputs": [],
   "source": [
    "var = 1 # initialise var"
   ]
  },
  {
   "cell_type": "code",
   "execution_count": 2,
   "id": "1c4cd32c",
   "metadata": {},
   "outputs": [
    {
     "data": {
      "text/plain": [
       "1"
      ]
     },
     "execution_count": 2,
     "metadata": {},
     "output_type": "execute_result"
    }
   ],
   "source": [
    "var"
   ]
  },
  {
   "cell_type": "code",
   "execution_count": 3,
   "id": "afbe9cae",
   "metadata": {},
   "outputs": [
    {
     "ename": "NameError",
     "evalue": "name 'x' is not defined",
     "output_type": "error",
     "traceback": [
      "\u001b[1;31m---------------------------------------------------------------------------\u001b[0m",
      "\u001b[1;31mNameError\u001b[0m                                 Traceback (most recent call last)",
      "Cell \u001b[1;32mIn[3], line 1\u001b[0m\n\u001b[1;32m----> 1\u001b[0m \u001b[43mx\u001b[49m\n",
      "\u001b[1;31mNameError\u001b[0m: name 'x' is not defined"
     ]
    }
   ],
   "source": [
    "x"
   ]
  },
  {
   "cell_type": "code",
   "execution_count": 4,
   "id": "b28438a2",
   "metadata": {},
   "outputs": [],
   "source": [
    "var = 100 # update var"
   ]
  },
  {
   "cell_type": "code",
   "execution_count": 5,
   "id": "0275a110",
   "metadata": {},
   "outputs": [
    {
     "data": {
      "text/plain": [
       "100"
      ]
     },
     "execution_count": 5,
     "metadata": {},
     "output_type": "execute_result"
    }
   ],
   "source": [
    "var"
   ]
  },
  {
   "cell_type": "code",
   "execution_count": 6,
   "id": "05bce31f",
   "metadata": {},
   "outputs": [],
   "source": [
    "x = -1"
   ]
  },
  {
   "cell_type": "code",
   "execution_count": 7,
   "id": "fcc0f4fa",
   "metadata": {},
   "outputs": [
    {
     "data": {
      "text/plain": [
       "-1"
      ]
     },
     "execution_count": 7,
     "metadata": {},
     "output_type": "execute_result"
    }
   ],
   "source": [
    "x"
   ]
  },
  {
   "cell_type": "code",
   "execution_count": 8,
   "id": "5813069a",
   "metadata": {},
   "outputs": [
    {
     "data": {
      "text/plain": [
       "-1"
      ]
     },
     "execution_count": 8,
     "metadata": {},
     "output_type": "execute_result"
    }
   ],
   "source": [
    "x"
   ]
  },
  {
   "cell_type": "code",
   "execution_count": 9,
   "id": "924638f3",
   "metadata": {},
   "outputs": [],
   "source": [
    "pi = 3.14"
   ]
  },
  {
   "cell_type": "code",
   "execution_count": 10,
   "id": "141263c0",
   "metadata": {},
   "outputs": [],
   "source": [
    "weight = 90.00"
   ]
  },
  {
   "cell_type": "code",
   "execution_count": 11,
   "id": "14f81781",
   "metadata": {},
   "outputs": [],
   "source": [
    "name = 'Abhijeet'"
   ]
  },
  {
   "cell_type": "code",
   "execution_count": 12,
   "id": "df10ef3f",
   "metadata": {},
   "outputs": [
    {
     "data": {
      "text/plain": [
       "'Abhijeet'"
      ]
     },
     "execution_count": 12,
     "metadata": {},
     "output_type": "execute_result"
    }
   ],
   "source": [
    "name"
   ]
  },
  {
   "cell_type": "code",
   "execution_count": 13,
   "id": "cd9b935b",
   "metadata": {},
   "outputs": [],
   "source": [
    "how_is_the_day = \"It's a good day\""
   ]
  },
  {
   "cell_type": "code",
   "execution_count": 14,
   "id": "42942954",
   "metadata": {},
   "outputs": [
    {
     "data": {
      "text/plain": [
       "'Abhijeet'"
      ]
     },
     "execution_count": 14,
     "metadata": {},
     "output_type": "execute_result"
    }
   ],
   "source": [
    "name"
   ]
  },
  {
   "cell_type": "code",
   "execution_count": 15,
   "id": "18c54aa8",
   "metadata": {},
   "outputs": [],
   "source": [
    "name = 'Abhijeet'"
   ]
  },
  {
   "cell_type": "code",
   "execution_count": 16,
   "id": "94bc98c6",
   "metadata": {},
   "outputs": [],
   "source": [
    "del var"
   ]
  },
  {
   "cell_type": "code",
   "execution_count": 17,
   "id": "948554b1",
   "metadata": {},
   "outputs": [
    {
     "data": {
      "text/plain": [
       "'Abhijeet'"
      ]
     },
     "execution_count": 17,
     "metadata": {},
     "output_type": "execute_result"
    }
   ],
   "source": [
    "name"
   ]
  },
  {
   "cell_type": "code",
   "execution_count": 18,
   "id": "f0e954ef",
   "metadata": {},
   "outputs": [],
   "source": [
    "boolean = True"
   ]
  },
  {
   "cell_type": "code",
   "execution_count": 19,
   "id": "9d7342df",
   "metadata": {},
   "outputs": [
    {
     "data": {
      "text/plain": [
       "True"
      ]
     },
     "execution_count": 19,
     "metadata": {},
     "output_type": "execute_result"
    }
   ],
   "source": [
    "boolean"
   ]
  },
  {
   "cell_type": "markdown",
   "id": "12bbb1fd",
   "metadata": {},
   "source": [
    "# Functions"
   ]
  },
  {
   "cell_type": "code",
   "execution_count": 20,
   "id": "03c3e4b6",
   "metadata": {},
   "outputs": [
    {
     "name": "stdout",
     "output_type": "stream",
     "text": [
      "Hello World!\n"
     ]
    }
   ],
   "source": [
    "print('Hello World!')"
   ]
  },
  {
   "cell_type": "code",
   "execution_count": 21,
   "id": "ec3f0de6",
   "metadata": {},
   "outputs": [],
   "source": [
    "print?"
   ]
  },
  {
   "cell_type": "code",
   "execution_count": 22,
   "id": "7a318eab",
   "metadata": {},
   "outputs": [
    {
     "name": "stdout",
     "output_type": "stream",
     "text": [
      "Hello bhai kya haal hai-->mast bhai tu bta?-->mai bdia tu kidhar hai?BYE BYEMai bhai ghumne aya hu?-->Tu kaha hai?\n"
     ]
    }
   ],
   "source": [
    "print('Hello bhai kya haal hai', 'mast bhai tu bta?', 'mai bdia tu kidhar hai?', end='BYE BYE', sep='-->')\n",
    "print('Mai bhai ghumne aya hu?', 'Tu kaha hai?',sep='-->')"
   ]
  },
  {
   "cell_type": "code",
   "execution_count": 23,
   "id": "11f5d9b6",
   "metadata": {},
   "outputs": [
    {
     "name": "stdout",
     "output_type": "stream",
     "text": [
      "684385455435 3541345 -2145521 1.2525\n"
     ]
    }
   ],
   "source": [
    "print(684385455435, 3541345, -2145521, 1.2525)"
   ]
  },
  {
   "cell_type": "code",
   "execution_count": 24,
   "id": "3d384f41",
   "metadata": {},
   "outputs": [
    {
     "name": "stdout",
     "output_type": "stream",
     "text": [
      "var\n"
     ]
    }
   ],
   "source": [
    "print('var')"
   ]
  },
  {
   "cell_type": "code",
   "execution_count": 25,
   "id": "450fe936",
   "metadata": {},
   "outputs": [
    {
     "name": "stdout",
     "output_type": "stream",
     "text": [
      "Abhijeet\n"
     ]
    }
   ],
   "source": [
    "print(name)"
   ]
  },
  {
   "cell_type": "code",
   "execution_count": 26,
   "id": "ad22148d",
   "metadata": {},
   "outputs": [
    {
     "data": {
      "text/plain": [
       "bool"
      ]
     },
     "execution_count": 26,
     "metadata": {},
     "output_type": "execute_result"
    }
   ],
   "source": [
    "type(boolean)"
   ]
  },
  {
   "cell_type": "markdown",
   "id": "9c0e668e",
   "metadata": {},
   "source": [
    "Callability\n",
    " - helps in calling a function"
   ]
  },
  {
   "cell_type": "code",
   "execution_count": 27,
   "id": "c707daeb",
   "metadata": {},
   "outputs": [],
   "source": [
    "def temp():\n",
    "    print('Hello world')"
   ]
  },
  {
   "cell_type": "code",
   "execution_count": 28,
   "id": "df5fa281",
   "metadata": {},
   "outputs": [
    {
     "name": "stdout",
     "output_type": "stream",
     "text": [
      "<function temp at 0x000001974D4358B0>\n"
     ]
    }
   ],
   "source": [
    "print(temp)"
   ]
  },
  {
   "cell_type": "code",
   "execution_count": 29,
   "id": "16003030",
   "metadata": {},
   "outputs": [],
   "source": [
    "var = temp"
   ]
  },
  {
   "cell_type": "code",
   "execution_count": 30,
   "id": "829ca720",
   "metadata": {},
   "outputs": [
    {
     "name": "stdout",
     "output_type": "stream",
     "text": [
      "Hello world\n"
     ]
    }
   ],
   "source": [
    "var()"
   ]
  },
  {
   "cell_type": "code",
   "execution_count": 31,
   "id": "4adef02b",
   "metadata": {},
   "outputs": [],
   "source": [
    "var = '2.5'"
   ]
  },
  {
   "cell_type": "code",
   "execution_count": 32,
   "id": "a56a3882",
   "metadata": {},
   "outputs": [
    {
     "name": "stdout",
     "output_type": "stream",
     "text": [
      "2.5\n"
     ]
    }
   ],
   "source": [
    "print(var)"
   ]
  },
  {
   "cell_type": "code",
   "execution_count": 33,
   "id": "681843b0",
   "metadata": {},
   "outputs": [
    {
     "data": {
      "text/plain": [
       "str"
      ]
     },
     "execution_count": 33,
     "metadata": {},
     "output_type": "execute_result"
    }
   ],
   "source": [
    "type(var)"
   ]
  },
  {
   "cell_type": "code",
   "execution_count": 34,
   "id": "f4add182",
   "metadata": {},
   "outputs": [],
   "source": [
    "var = temp"
   ]
  },
  {
   "cell_type": "code",
   "execution_count": 35,
   "id": "4d4573e9",
   "metadata": {},
   "outputs": [
    {
     "data": {
      "text/plain": [
       "function"
      ]
     },
     "execution_count": 35,
     "metadata": {},
     "output_type": "execute_result"
    }
   ],
   "source": [
    "type(var)"
   ]
  },
  {
   "cell_type": "code",
   "execution_count": 36,
   "id": "3ee3a1aa",
   "metadata": {},
   "outputs": [
    {
     "name": "stdout",
     "output_type": "stream",
     "text": [
      "<function temp at 0x000001974D4358B0>\n"
     ]
    }
   ],
   "source": [
    "print(var)"
   ]
  },
  {
   "cell_type": "code",
   "execution_count": 39,
   "id": "8a2ee67d",
   "metadata": {},
   "outputs": [
    {
     "data": {
      "text/plain": [
       "str"
      ]
     },
     "execution_count": 39,
     "metadata": {},
     "output_type": "execute_result"
    }
   ],
   "source": [
    "type(\"3\")"
   ]
  },
  {
   "cell_type": "code",
   "execution_count": 40,
   "id": "53379a90",
   "metadata": {},
   "outputs": [],
   "source": [
    "temp = print"
   ]
  },
  {
   "cell_type": "code",
   "execution_count": 44,
   "id": "d3848b38",
   "metadata": {},
   "outputs": [
    {
     "name": "stdout",
     "output_type": "stream",
     "text": [
      "<built-in function print>\n"
     ]
    }
   ],
   "source": [
    "print(temp)"
   ]
  },
  {
   "cell_type": "code",
   "execution_count": 45,
   "id": "5385e2d8",
   "metadata": {},
   "outputs": [
    {
     "data": {
      "text/plain": [
       "1749275053648"
      ]
     },
     "execution_count": 45,
     "metadata": {},
     "output_type": "execute_result"
    }
   ],
   "source": [
    "id(temp)"
   ]
  },
  {
   "cell_type": "code",
   "execution_count": 46,
   "id": "6fca2f55",
   "metadata": {},
   "outputs": [
    {
     "name": "stdout",
     "output_type": "stream",
     "text": [
      "Hello\n"
     ]
    }
   ],
   "source": [
    "temp('Hello')"
   ]
  },
  {
   "cell_type": "code",
   "execution_count": 136,
   "id": "8fc9012b",
   "metadata": {},
   "outputs": [],
   "source": [
    "def apna_function():\n",
    "    print(\"Hello World\")\n",
    "#     print(var)"
   ]
  },
  {
   "cell_type": "code",
   "execution_count": 137,
   "id": "25f9f1d1",
   "metadata": {},
   "outputs": [
    {
     "name": "stdout",
     "output_type": "stream",
     "text": [
      "<function apna_function at 0x000001974E35BE50>\n"
     ]
    }
   ],
   "source": [
    "print(apna_function)"
   ]
  },
  {
   "cell_type": "code",
   "execution_count": 138,
   "id": "971cade2",
   "metadata": {},
   "outputs": [],
   "source": [
    "temp = apna_function"
   ]
  },
  {
   "cell_type": "code",
   "execution_count": 139,
   "id": "4d475913",
   "metadata": {},
   "outputs": [
    {
     "name": "stdout",
     "output_type": "stream",
     "text": [
      "<function apna_function at 0x000001974E35BE50>\n"
     ]
    }
   ],
   "source": [
    "print(temp)"
   ]
  },
  {
   "cell_type": "code",
   "execution_count": 140,
   "id": "e680e984",
   "metadata": {},
   "outputs": [
    {
     "name": "stdout",
     "output_type": "stream",
     "text": [
      "Hello World\n",
      "None\n"
     ]
    }
   ],
   "source": [
    "print(temp())"
   ]
  },
  {
   "cell_type": "code",
   "execution_count": 85,
   "id": "96d14182",
   "metadata": {},
   "outputs": [],
   "source": [
    "def pehla_function(name):\n",
    "    print(\"Hello! My name is:\", name)"
   ]
  },
  {
   "cell_type": "code",
   "execution_count": 101,
   "id": "8e258d10",
   "metadata": {},
   "outputs": [
    {
     "name": "stdout",
     "output_type": "stream",
     "text": [
      "Hello! My name is: Abhijeet\n"
     ]
    }
   ],
   "source": [
    "pehla_function('Abhijeet')"
   ]
  },
  {
   "cell_type": "code",
   "execution_count": 104,
   "id": "83c6349f",
   "metadata": {},
   "outputs": [],
   "source": [
    "def dusra_function(name1, name2):\n",
    "    print(\"Hello! Names are:\", name1, name2)"
   ]
  },
  {
   "cell_type": "code",
   "execution_count": 106,
   "id": "1e7ed9db",
   "metadata": {},
   "outputs": [
    {
     "name": "stdout",
     "output_type": "stream",
     "text": [
      "Hello! Names are: Abhijeet Shivam\n"
     ]
    }
   ],
   "source": [
    "dusra_function('Abhijeet', 'Shivam')"
   ]
  },
  {
   "cell_type": "code",
   "execution_count": 124,
   "id": "200dcf2b",
   "metadata": {},
   "outputs": [],
   "source": [
    "def teesra_function(name):\n",
    "    print('Hello! My name is:', name)\n",
    "    return name"
   ]
  },
  {
   "cell_type": "code",
   "execution_count": 125,
   "id": "98a1e71e",
   "metadata": {},
   "outputs": [
    {
     "name": "stdout",
     "output_type": "stream",
     "text": [
      "Hello! My name is: Shivam\n"
     ]
    }
   ],
   "source": [
    "name = teesra_function('Shivam')"
   ]
  },
  {
   "cell_type": "code",
   "execution_count": 126,
   "id": "a703bcf2",
   "metadata": {},
   "outputs": [
    {
     "data": {
      "text/plain": [
       "'Shivam'"
      ]
     },
     "execution_count": 126,
     "metadata": {},
     "output_type": "execute_result"
    }
   ],
   "source": [
    "name"
   ]
  },
  {
   "cell_type": "code",
   "execution_count": 128,
   "id": "f60faf28",
   "metadata": {},
   "outputs": [],
   "source": [
    "def chotha_function(name1, name2):\n",
    "    print(\"Hello! Names are:\", name1, name2)\n",
    "    return name1, name2"
   ]
  },
  {
   "cell_type": "code",
   "execution_count": 134,
   "id": "a449c4b4",
   "metadata": {},
   "outputs": [
    {
     "name": "stdout",
     "output_type": "stream",
     "text": [
      "Hello! Names are: Shivam 4\n"
     ]
    }
   ],
   "source": [
    "name1, name2 = chotha_function('Shivam', 4)"
   ]
  },
  {
   "cell_type": "code",
   "execution_count": 135,
   "id": "6e4149cd",
   "metadata": {},
   "outputs": [
    {
     "name": "stdout",
     "output_type": "stream",
     "text": [
      "Shivam 4\n"
     ]
    }
   ],
   "source": [
    "print(name1, name2)"
   ]
  },
  {
   "cell_type": "code",
   "execution_count": 144,
   "id": "88a0535f",
   "metadata": {},
   "outputs": [],
   "source": [
    "def panch_function():\n",
    "    print('Hello World!')\n",
    "    return 1, 2, 3"
   ]
  },
  {
   "cell_type": "code",
   "execution_count": 145,
   "id": "b4f479e4",
   "metadata": {},
   "outputs": [
    {
     "name": "stdout",
     "output_type": "stream",
     "text": [
      "Hello World!\n"
     ]
    }
   ],
   "source": [
    "one, two, three = panch_function()"
   ]
  },
  {
   "cell_type": "code",
   "execution_count": 146,
   "id": "c5541e44",
   "metadata": {},
   "outputs": [
    {
     "name": "stdout",
     "output_type": "stream",
     "text": [
      "1 2 3\n"
     ]
    }
   ],
   "source": [
    "print(one, two, three)"
   ]
  },
  {
   "cell_type": "markdown",
   "id": "bbbf5c4b",
   "metadata": {},
   "source": [
    "Types of argument:\n",
    "- Positional Argument\n",
    "- Default Arguemnt\n",
    "- Variable length Argument"
   ]
  },
  {
   "cell_type": "code",
   "execution_count": 179,
   "id": "583d0c95",
   "metadata": {},
   "outputs": [],
   "source": [
    "# Positional Arguments\n",
    "\n",
    "def calculator(a, b):\n",
    "    print(a + b)\n",
    "    print(a, b)\n",
    "    return a+b, a-b, a*b, a/b"
   ]
  },
  {
   "cell_type": "code",
   "execution_count": 180,
   "id": "78821a30",
   "metadata": {},
   "outputs": [
    {
     "name": "stdout",
     "output_type": "stream",
     "text": [
      "30\n",
      "10 20\n"
     ]
    },
    {
     "data": {
      "text/plain": [
       "(30, -10, 200, 0.5)"
      ]
     },
     "execution_count": 180,
     "metadata": {},
     "output_type": "execute_result"
    }
   ],
   "source": [
    "calculator(10, 20)"
   ]
  },
  {
   "cell_type": "code",
   "execution_count": 183,
   "id": "83d8d891",
   "metadata": {},
   "outputs": [],
   "source": [
    "# Default Arguments\n",
    "\n",
    "def calculator(a, b, c = 1):\n",
    "    print(a + b + c)\n",
    "    return a + b + c, a+b, b+c, c+a"
   ]
  },
  {
   "cell_type": "code",
   "execution_count": 184,
   "id": "27557ed1",
   "metadata": {},
   "outputs": [
    {
     "name": "stdout",
     "output_type": "stream",
     "text": [
      "6\n"
     ]
    },
    {
     "data": {
      "text/plain": [
       "(6, 3, 5, 4)"
      ]
     },
     "execution_count": 184,
     "metadata": {},
     "output_type": "execute_result"
    }
   ],
   "source": [
    "calculator(1, 2, 3)"
   ]
  },
  {
   "cell_type": "code",
   "execution_count": 185,
   "id": "3aff3ed6",
   "metadata": {},
   "outputs": [
    {
     "name": "stdout",
     "output_type": "stream",
     "text": [
      "51\n"
     ]
    },
    {
     "data": {
      "text/plain": [
       "(51, 50, 31, 21)"
      ]
     },
     "execution_count": 185,
     "metadata": {},
     "output_type": "execute_result"
    }
   ],
   "source": [
    "calculator(20, 30)"
   ]
  },
  {
   "cell_type": "code",
   "execution_count": 213,
   "id": "f1c851f8",
   "metadata": {},
   "outputs": [],
   "source": [
    "def multiply(b, c, a = 2):\n",
    "    print(a*b*c)"
   ]
  },
  {
   "cell_type": "code",
   "execution_count": 214,
   "id": "1001d616",
   "metadata": {},
   "outputs": [
    {
     "name": "stdout",
     "output_type": "stream",
     "text": [
      "6\n"
     ]
    }
   ],
   "source": [
    "multiply(1, 2, 3)"
   ]
  },
  {
   "cell_type": "code",
   "execution_count": 227,
   "id": "23f838ec",
   "metadata": {},
   "outputs": [
    {
     "name": "stdout",
     "output_type": "stream",
     "text": [
      "Enter a number2\n"
     ]
    }
   ],
   "source": [
    "var = int(input('Enter a number'))"
   ]
  },
  {
   "cell_type": "code",
   "execution_count": 230,
   "id": "aad53e1e",
   "metadata": {},
   "outputs": [
    {
     "data": {
      "text/plain": [
       "(2, int)"
      ]
     },
     "execution_count": 230,
     "metadata": {},
     "output_type": "execute_result"
    }
   ],
   "source": [
    "var, type(var)"
   ]
  },
  {
   "cell_type": "code",
   "execution_count": 231,
   "id": "91603ff1",
   "metadata": {},
   "outputs": [
    {
     "name": "stdout",
     "output_type": "stream",
     "text": [
      "4\n"
     ]
    }
   ],
   "source": [
    "multiply(var, 1)"
   ]
  },
  {
   "cell_type": "code",
   "execution_count": 232,
   "id": "1d1ab5eb",
   "metadata": {},
   "outputs": [
    {
     "data": {
      "text/plain": [
       "2.0"
      ]
     },
     "execution_count": 232,
     "metadata": {},
     "output_type": "execute_result"
    }
   ],
   "source": [
    "22/11"
   ]
  },
  {
   "cell_type": "code",
   "execution_count": 234,
   "id": "6f6fd16c",
   "metadata": {},
   "outputs": [
    {
     "name": "stdout",
     "output_type": "stream",
     "text": [
      "Enter a number3\n"
     ]
    }
   ],
   "source": [
    "var = float(input('Enter a number'))"
   ]
  },
  {
   "cell_type": "code",
   "execution_count": 236,
   "id": "384a1578",
   "metadata": {},
   "outputs": [
    {
     "data": {
      "text/plain": [
       "(float, 3.0)"
      ]
     },
     "execution_count": 236,
     "metadata": {},
     "output_type": "execute_result"
    }
   ],
   "source": [
    "type(var), var"
   ]
  },
  {
   "cell_type": "code",
   "execution_count": 237,
   "id": "459e06e3",
   "metadata": {},
   "outputs": [
    {
     "name": "stdout",
     "output_type": "stream",
     "text": [
      "Enter NameAbhijeet\n"
     ]
    }
   ],
   "source": [
    "name = input('Enter Name')"
   ]
  },
  {
   "cell_type": "code",
   "execution_count": 239,
   "id": "1256ddcf",
   "metadata": {},
   "outputs": [
    {
     "name": "stdout",
     "output_type": "stream",
     "text": [
      "3.0\n"
     ]
    }
   ],
   "source": [
    "print(float('3'))"
   ]
  },
  {
   "cell_type": "markdown",
   "id": "1e4d617c",
   "metadata": {},
   "source": [
    "# Conditional Statements"
   ]
  },
  {
   "cell_type": "code",
   "execution_count": 240,
   "id": "9adcb153",
   "metadata": {},
   "outputs": [],
   "source": [
    "# If\n",
    "# Else\n",
    "# Elif"
   ]
  },
  {
   "cell_type": "code",
   "execution_count": 242,
   "id": "5787b9d6",
   "metadata": {},
   "outputs": [
    {
     "data": {
      "text/plain": [
       "True"
      ]
     },
     "execution_count": 242,
     "metadata": {},
     "output_type": "execute_result"
    }
   ],
   "source": [
    "var == 3.0"
   ]
  },
  {
   "cell_type": "code",
   "execution_count": 253,
   "id": "11ce380d",
   "metadata": {},
   "outputs": [
    {
     "name": "stdout",
     "output_type": "stream",
     "text": [
      "2\n"
     ]
    }
   ],
   "source": [
    "if int(input()) == 3:\n",
    "    print('hello world')"
   ]
  },
  {
   "cell_type": "code",
   "execution_count": 257,
   "id": "0820a072",
   "metadata": {},
   "outputs": [
    {
     "name": "stdout",
     "output_type": "stream",
     "text": [
      "3\n",
      "hello world\n"
     ]
    }
   ],
   "source": [
    "if int(input()) >= 3:\n",
    "    print('hello world')"
   ]
  },
  {
   "cell_type": "code",
   "execution_count": 259,
   "id": "a5072b76",
   "metadata": {},
   "outputs": [
    {
     "name": "stdout",
     "output_type": "stream",
     "text": [
      "2\n",
      "hello world\n"
     ]
    }
   ],
   "source": [
    "if int(input()) != 3:\n",
    "    print('hello world')"
   ]
  },
  {
   "cell_type": "code",
   "execution_count": null,
   "id": "2d3e95e4",
   "metadata": {},
   "outputs": [],
   "source": []
  }
 ],
 "metadata": {
  "kernelspec": {
   "display_name": "Python 3 (ipykernel)",
   "language": "python",
   "name": "python3"
  },
  "language_info": {
   "codemirror_mode": {
    "name": "ipython",
    "version": 3
   },
   "file_extension": ".py",
   "mimetype": "text/x-python",
   "name": "python",
   "nbconvert_exporter": "python",
   "pygments_lexer": "ipython3",
   "version": "3.8.10"
  }
 },
 "nbformat": 4,
 "nbformat_minor": 5
}
