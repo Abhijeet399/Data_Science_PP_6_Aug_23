{
 "cells": [
  {
   "cell_type": "code",
   "execution_count": 3,
   "id": "8a185bea",
   "metadata": {},
   "outputs": [],
   "source": [
    "# !pip install numpy"
   ]
  },
  {
   "cell_type": "code",
   "execution_count": 2,
   "id": "706c1cf0",
   "metadata": {},
   "outputs": [],
   "source": [
    "import numpy as np"
   ]
  },
  {
   "cell_type": "code",
   "execution_count": 4,
   "id": "d7325d81",
   "metadata": {},
   "outputs": [],
   "source": [
    "a = [[1, 2, 3], [1, 2, 3]]"
   ]
  },
  {
   "cell_type": "code",
   "execution_count": 13,
   "id": "6145e059",
   "metadata": {},
   "outputs": [],
   "source": [
    "a = np.array([1, 2, 3, 4, 5])"
   ]
  },
  {
   "cell_type": "code",
   "execution_count": 14,
   "id": "ae7bc5f1",
   "metadata": {},
   "outputs": [
    {
     "data": {
      "text/plain": [
       "(5,)"
      ]
     },
     "execution_count": 14,
     "metadata": {},
     "output_type": "execute_result"
    }
   ],
   "source": [
    "a.shape"
   ]
  },
  {
   "cell_type": "code",
   "execution_count": 15,
   "id": "21fb9c2b",
   "metadata": {},
   "outputs": [],
   "source": [
    "b = np.array([[1], \n",
    "              [2], \n",
    "              [3], \n",
    "              [4], \n",
    "              [5]])"
   ]
  },
  {
   "cell_type": "code",
   "execution_count": 16,
   "id": "04e8c85a",
   "metadata": {},
   "outputs": [
    {
     "data": {
      "text/plain": [
       "(5, 1)"
      ]
     },
     "execution_count": 16,
     "metadata": {},
     "output_type": "execute_result"
    }
   ],
   "source": [
    "b.shape"
   ]
  },
  {
   "cell_type": "code",
   "execution_count": 20,
   "id": "6cfe831c",
   "metadata": {},
   "outputs": [],
   "source": [
    "zero = np.zeros((3, 3), dtype = 'int')"
   ]
  },
  {
   "cell_type": "code",
   "execution_count": 21,
   "id": "7be2a379",
   "metadata": {},
   "outputs": [
    {
     "data": {
      "text/plain": [
       "array([[0, 0, 0],\n",
       "       [0, 0, 0],\n",
       "       [0, 0, 0]])"
      ]
     },
     "execution_count": 21,
     "metadata": {},
     "output_type": "execute_result"
    }
   ],
   "source": [
    "zero"
   ]
  },
  {
   "cell_type": "code",
   "execution_count": 23,
   "id": "9b5f147f",
   "metadata": {},
   "outputs": [],
   "source": [
    "zeros = np.zeros_like(zero)"
   ]
  },
  {
   "cell_type": "code",
   "execution_count": 24,
   "id": "42292dd9",
   "metadata": {},
   "outputs": [
    {
     "data": {
      "text/plain": [
       "array([[0, 0, 0],\n",
       "       [0, 0, 0],\n",
       "       [0, 0, 0]])"
      ]
     },
     "execution_count": 24,
     "metadata": {},
     "output_type": "execute_result"
    }
   ],
   "source": [
    "zeros"
   ]
  },
  {
   "cell_type": "code",
   "execution_count": 25,
   "id": "e090f923",
   "metadata": {},
   "outputs": [
    {
     "data": {
      "text/plain": [
       "array([[1., 1.],\n",
       "       [1., 1.],\n",
       "       [1., 1.],\n",
       "       [1., 1.],\n",
       "       [1., 1.]])"
      ]
     },
     "execution_count": 25,
     "metadata": {},
     "output_type": "execute_result"
    }
   ],
   "source": [
    "np.ones((5, 2))"
   ]
  },
  {
   "cell_type": "code",
   "execution_count": 30,
   "id": "d58e220d",
   "metadata": {},
   "outputs": [
    {
     "data": {
      "text/plain": [
       "array([[4.25, 4.25, 4.25, 4.25, 4.25],\n",
       "       [4.25, 4.25, 4.25, 4.25, 4.25]])"
      ]
     },
     "execution_count": 30,
     "metadata": {},
     "output_type": "execute_result"
    }
   ],
   "source": [
    "np.full((2, 5), 4.25)"
   ]
  },
  {
   "cell_type": "code",
   "execution_count": 27,
   "id": "1827909f",
   "metadata": {},
   "outputs": [
    {
     "data": {
      "text/plain": [
       "array([[1., 0., 0.],\n",
       "       [0., 1., 0.],\n",
       "       [0., 0., 1.]])"
      ]
     },
     "execution_count": 27,
     "metadata": {},
     "output_type": "execute_result"
    }
   ],
   "source": [
    "np.eye(3)"
   ]
  },
  {
   "cell_type": "code",
   "execution_count": 31,
   "id": "de2ff8b5",
   "metadata": {},
   "outputs": [],
   "source": [
    "ran_init = np.random.random((3, 3))"
   ]
  },
  {
   "cell_type": "code",
   "execution_count": 32,
   "id": "6c4b6537",
   "metadata": {},
   "outputs": [
    {
     "data": {
      "text/plain": [
       "array([[0.54556267, 0.79111574, 0.78300689],\n",
       "       [0.85292096, 0.16794099, 0.64270445],\n",
       "       [0.16210384, 0.4948175 , 0.79552279]])"
      ]
     },
     "execution_count": 32,
     "metadata": {},
     "output_type": "execute_result"
    }
   ],
   "source": [
    "ran_init"
   ]
  },
  {
   "cell_type": "code",
   "execution_count": 36,
   "id": "36edea23",
   "metadata": {},
   "outputs": [
    {
     "data": {
      "text/plain": [
       "array([[85, 45, 47],\n",
       "       [38, 68,  0],\n",
       "       [33, 41, 28]])"
      ]
     },
     "execution_count": 36,
     "metadata": {},
     "output_type": "execute_result"
    }
   ],
   "source": [
    "np.random.randint(0, 100, (3, 3))"
   ]
  },
  {
   "cell_type": "code",
   "execution_count": 38,
   "id": "1004d3cf",
   "metadata": {},
   "outputs": [
    {
     "data": {
      "text/plain": [
       "array([[-0.07292586,  1.69391703, -0.57051832],\n",
       "       [ 0.06909233, -0.60607062, -0.69044078],\n",
       "       [ 0.2296109 , -0.32484838,  0.34928475]])"
      ]
     },
     "execution_count": 38,
     "metadata": {},
     "output_type": "execute_result"
    }
   ],
   "source": [
    "np.random.randn(3, 3)"
   ]
  },
  {
   "cell_type": "code",
   "execution_count": 40,
   "id": "76c0aad6",
   "metadata": {},
   "outputs": [
    {
     "data": {
      "text/plain": [
       "array([[0.60362022, 0.63368165],\n",
       "       [0.51083576, 0.82694058]])"
      ]
     },
     "execution_count": 40,
     "metadata": {},
     "output_type": "execute_result"
    }
   ],
   "source": [
    "np.random.rand(2, 2)"
   ]
  },
  {
   "cell_type": "code",
   "execution_count": 42,
   "id": "da07dc4c",
   "metadata": {},
   "outputs": [],
   "source": [
    "var1 = np.array([[1, 2], \n",
    "                 [3, 4]])\n",
    "var2 = np.array([[5, 6], \n",
    "                 [7, 8]])"
   ]
  },
  {
   "cell_type": "code",
   "execution_count": 43,
   "id": "879f2dd7",
   "metadata": {},
   "outputs": [
    {
     "data": {
      "text/plain": [
       "numpy.ndarray"
      ]
     },
     "execution_count": 43,
     "metadata": {},
     "output_type": "execute_result"
    }
   ],
   "source": [
    "type(var1)"
   ]
  },
  {
   "cell_type": "code",
   "execution_count": 44,
   "id": "243621c6",
   "metadata": {},
   "outputs": [
    {
     "name": "stdout",
     "output_type": "stream",
     "text": [
      "[[ 6  8]\n",
      " [10 12]]\n",
      "[[-4 -4]\n",
      " [-4 -4]]\n"
     ]
    }
   ],
   "source": [
    "print(var1 + var2)\n",
    "print(var1 - var2)"
   ]
  },
  {
   "cell_type": "code",
   "execution_count": 45,
   "id": "278fc37a",
   "metadata": {},
   "outputs": [
    {
     "data": {
      "text/plain": [
       "array([[ 5, 12],\n",
       "       [21, 32]])"
      ]
     },
     "execution_count": 45,
     "metadata": {},
     "output_type": "execute_result"
    }
   ],
   "source": [
    "var1 * var2"
   ]
  },
  {
   "cell_type": "code",
   "execution_count": 48,
   "id": "3776ac9d",
   "metadata": {},
   "outputs": [
    {
     "data": {
      "text/plain": [
       "array([[19, 22],\n",
       "       [43, 50]])"
      ]
     },
     "execution_count": 48,
     "metadata": {},
     "output_type": "execute_result"
    }
   ],
   "source": [
    "var1 @ var2"
   ]
  },
  {
   "cell_type": "code",
   "execution_count": 50,
   "id": "497e9520",
   "metadata": {},
   "outputs": [
    {
     "name": "stdout",
     "output_type": "stream",
     "text": [
      "[[ 6  8]\n",
      " [10 12]]\n",
      "[[-4 -4]\n",
      " [-4 -4]]\n"
     ]
    }
   ],
   "source": [
    "print(np.add(var1, var2))\n",
    "print(np.subtract(var1, var2))"
   ]
  },
  {
   "cell_type": "code",
   "execution_count": 51,
   "id": "531cfa38",
   "metadata": {},
   "outputs": [
    {
     "data": {
      "text/plain": [
       "array([[19, 22],\n",
       "       [43, 50]])"
      ]
     },
     "execution_count": 51,
     "metadata": {},
     "output_type": "execute_result"
    }
   ],
   "source": [
    "np.matmul(var1, var2)"
   ]
  },
  {
   "cell_type": "code",
   "execution_count": 52,
   "id": "6e552887",
   "metadata": {},
   "outputs": [
    {
     "data": {
      "text/plain": [
       "array([[19, 22],\n",
       "       [43, 50]])"
      ]
     },
     "execution_count": 52,
     "metadata": {},
     "output_type": "execute_result"
    }
   ],
   "source": [
    "np.dot(var1, var2)"
   ]
  },
  {
   "cell_type": "code",
   "execution_count": 57,
   "id": "cf6ce65d",
   "metadata": {},
   "outputs": [
    {
     "data": {
      "text/plain": [
       "array([ 32, 485])"
      ]
     },
     "execution_count": 57,
     "metadata": {},
     "output_type": "execute_result"
    }
   ],
   "source": [
    "np.dot([[1, 2, 3], [6, 85, 6]], [4, 5, 6])"
   ]
  },
  {
   "cell_type": "code",
   "execution_count": 85,
   "id": "1783044a",
   "metadata": {},
   "outputs": [],
   "source": [
    "var3 = np.random.randint(10, 100, (3, 3, 2))"
   ]
  },
  {
   "cell_type": "code",
   "execution_count": 91,
   "id": "5c0c5492",
   "metadata": {},
   "outputs": [
    {
     "data": {
      "text/plain": [
       "array([[[25, 96],\n",
       "        [23, 74],\n",
       "        [36, 10]],\n",
       "\n",
       "       [[12, 94],\n",
       "        [32, 68],\n",
       "        [18, 54]],\n",
       "\n",
       "       [[57, 67],\n",
       "        [86, 56],\n",
       "        [50, 84]]])"
      ]
     },
     "execution_count": 91,
     "metadata": {},
     "output_type": "execute_result"
    }
   ],
   "source": [
    "var3"
   ]
  },
  {
   "cell_type": "code",
   "execution_count": 92,
   "id": "7a050898",
   "metadata": {},
   "outputs": [
    {
     "data": {
      "text/plain": [
       "array([[121,  97,  46],\n",
       "       [106, 100,  72],\n",
       "       [124, 142, 134]])"
      ]
     },
     "execution_count": 92,
     "metadata": {},
     "output_type": "execute_result"
    }
   ],
   "source": [
    "np.sum(var3, axis = 2)"
   ]
  },
  {
   "cell_type": "code",
   "execution_count": 93,
   "id": "6a4041ea",
   "metadata": {},
   "outputs": [
    {
     "data": {
      "text/plain": [
       "(array([[1, 2],\n",
       "        [3, 4]]),\n",
       " array([[5, 6],\n",
       "        [7, 8]]))"
      ]
     },
     "execution_count": 93,
     "metadata": {},
     "output_type": "execute_result"
    }
   ],
   "source": [
    "var1, var2"
   ]
  },
  {
   "cell_type": "code",
   "execution_count": 116,
   "id": "9559ce87",
   "metadata": {},
   "outputs": [
    {
     "data": {
      "text/plain": [
       "array([[[1, 2],\n",
       "        [5, 6]],\n",
       "\n",
       "       [[3, 4],\n",
       "        [7, 8]]])"
      ]
     },
     "execution_count": 116,
     "metadata": {},
     "output_type": "execute_result"
    }
   ],
   "source": [
    "np.stack((var1, var2), axis = 1)"
   ]
  },
  {
   "cell_type": "code",
   "execution_count": 117,
   "id": "f2e02ec7",
   "metadata": {},
   "outputs": [
    {
     "data": {
      "text/plain": [
       "array([[1, 2, 5, 6],\n",
       "       [3, 4, 7, 8]])"
      ]
     },
     "execution_count": 117,
     "metadata": {},
     "output_type": "execute_result"
    }
   ],
   "source": [
    "np.hstack((var1, var2))"
   ]
  },
  {
   "cell_type": "code",
   "execution_count": 118,
   "id": "db07af2f",
   "metadata": {},
   "outputs": [
    {
     "data": {
      "text/plain": [
       "array([[1, 2],\n",
       "       [3, 4],\n",
       "       [5, 6],\n",
       "       [7, 8]])"
      ]
     },
     "execution_count": 118,
     "metadata": {},
     "output_type": "execute_result"
    }
   ],
   "source": [
    "np.vstack((var1, var2))"
   ]
  },
  {
   "cell_type": "code",
   "execution_count": 121,
   "id": "127a0d3f",
   "metadata": {},
   "outputs": [
    {
     "data": {
      "text/plain": [
       "(3, 3, 2)"
      ]
     },
     "execution_count": 121,
     "metadata": {},
     "output_type": "execute_result"
    }
   ],
   "source": [
    "var3.shape"
   ]
  },
  {
   "cell_type": "code",
   "execution_count": 138,
   "id": "6f7ce085",
   "metadata": {},
   "outputs": [
    {
     "data": {
      "text/plain": [
       "array([[[[25],\n",
       "         [96]],\n",
       "\n",
       "        [[23],\n",
       "         [74]],\n",
       "\n",
       "        [[36],\n",
       "         [10]]],\n",
       "\n",
       "\n",
       "       [[[12],\n",
       "         [94]],\n",
       "\n",
       "        [[32],\n",
       "         [68]],\n",
       "\n",
       "        [[18],\n",
       "         [54]]],\n",
       "\n",
       "\n",
       "       [[[57],\n",
       "         [67]],\n",
       "\n",
       "        [[86],\n",
       "         [56]],\n",
       "\n",
       "        [[50],\n",
       "         [84]]]])"
      ]
     },
     "execution_count": 138,
     "metadata": {},
     "output_type": "execute_result"
    }
   ],
   "source": [
    "var3.reshape((3, 3, 2, 1))"
   ]
  },
  {
   "cell_type": "code",
   "execution_count": 140,
   "id": "750ea7eb",
   "metadata": {},
   "outputs": [
    {
     "data": {
      "text/plain": [
       "array([20, 23, 26, 29, 32, 35, 38])"
      ]
     },
     "execution_count": 140,
     "metadata": {},
     "output_type": "execute_result"
    }
   ],
   "source": [
    "np.arange(20, 40, 3)"
   ]
  },
  {
   "cell_type": "code",
   "execution_count": 141,
   "id": "35d5cdbb",
   "metadata": {},
   "outputs": [
    {
     "data": {
      "text/plain": [
       "array([[-0.40768622,  1.02136527,  0.72170057],\n",
       "       [ 0.30412095, -1.11543048,  0.30754428],\n",
       "       [-0.47741015,  1.4820956 , -1.19054155]])"
      ]
     },
     "execution_count": 141,
     "metadata": {},
     "output_type": "execute_result"
    }
   ],
   "source": [
    "np.random.randn(3, 3)"
   ]
  },
  {
   "cell_type": "code",
   "execution_count": 151,
   "id": "070340eb",
   "metadata": {},
   "outputs": [
    {
     "name": "stdout",
     "output_type": "stream",
     "text": [
      "[[ 0.88389311  0.19586502  0.35753652]\n",
      " [-2.34326191 -1.08483259  0.55969629]\n",
      " [ 0.93946935 -0.97848104  0.50309684]]\n"
     ]
    }
   ],
   "source": [
    "np.random.seed(20)\n",
    "print(np.random.randn(3, 3))"
   ]
  },
  {
   "cell_type": "code",
   "execution_count": 154,
   "id": "3839c2a6",
   "metadata": {},
   "outputs": [
    {
     "data": {
      "text/plain": [
       "array([[[25, 96],\n",
       "        [23, 74],\n",
       "        [36, 10]],\n",
       "\n",
       "       [[12, 94],\n",
       "        [32, 68],\n",
       "        [18, 54]],\n",
       "\n",
       "       [[57, 67],\n",
       "        [86, 56],\n",
       "        [50, 84]]])"
      ]
     },
     "execution_count": 154,
     "metadata": {},
     "output_type": "execute_result"
    }
   ],
   "source": [
    "var3"
   ]
  },
  {
   "cell_type": "code",
   "execution_count": 155,
   "id": "9f2537f8",
   "metadata": {},
   "outputs": [
    {
     "data": {
      "text/plain": [
       "array([1, 2, 3, 4, 5])"
      ]
     },
     "execution_count": 155,
     "metadata": {},
     "output_type": "execute_result"
    }
   ],
   "source": [
    "a"
   ]
  },
  {
   "cell_type": "code",
   "execution_count": 157,
   "id": "b67c3b31",
   "metadata": {},
   "outputs": [
    {
     "data": {
      "text/plain": [
       "0"
      ]
     },
     "execution_count": 157,
     "metadata": {},
     "output_type": "execute_result"
    }
   ],
   "source": [
    "np.argmin(a)"
   ]
  },
  {
   "cell_type": "code",
   "execution_count": 158,
   "id": "b472dcae",
   "metadata": {},
   "outputs": [
    {
     "data": {
      "text/plain": [
       "4"
      ]
     },
     "execution_count": 158,
     "metadata": {},
     "output_type": "execute_result"
    }
   ],
   "source": [
    "np.argmax(a)"
   ]
  },
  {
   "cell_type": "code",
   "execution_count": 161,
   "id": "6e5093ab",
   "metadata": {},
   "outputs": [],
   "source": [
    "a = [1,32,3,2,4,1,2,5,45,2,14,4,56]"
   ]
  },
  {
   "cell_type": "code",
   "execution_count": 163,
   "id": "0fd1b658",
   "metadata": {},
   "outputs": [
    {
     "data": {
      "text/plain": [
       "(array([ 1,  2,  3,  4,  5, 14, 32, 45, 56]),\n",
       " array([2, 3, 1, 2, 1, 1, 1, 1, 1], dtype=int64))"
      ]
     },
     "execution_count": 163,
     "metadata": {},
     "output_type": "execute_result"
    }
   ],
   "source": [
    "np.unique(a, return_counts = True)"
   ]
  },
  {
   "cell_type": "code",
   "execution_count": 164,
   "id": "11ab234f",
   "metadata": {},
   "outputs": [
    {
     "data": {
      "text/plain": [
       "array([[[25, 96],\n",
       "        [23, 74],\n",
       "        [36, 10]],\n",
       "\n",
       "       [[12, 94],\n",
       "        [32, 68],\n",
       "        [18, 54]],\n",
       "\n",
       "       [[57, 67],\n",
       "        [86, 56],\n",
       "        [50, 84]]])"
      ]
     },
     "execution_count": 164,
     "metadata": {},
     "output_type": "execute_result"
    }
   ],
   "source": [
    "var3"
   ]
  },
  {
   "cell_type": "code",
   "execution_count": 169,
   "id": "50212999",
   "metadata": {},
   "outputs": [
    {
     "data": {
      "text/plain": [
       "array([[60.5, 48.5, 23. ],\n",
       "       [53. , 50. , 36. ],\n",
       "       [62. , 71. , 67. ]])"
      ]
     },
     "execution_count": 169,
     "metadata": {},
     "output_type": "execute_result"
    }
   ],
   "source": [
    "np.mean(var3, axis = -1)"
   ]
  },
  {
   "cell_type": "code",
   "execution_count": null,
   "id": "2bf62c2d",
   "metadata": {},
   "outputs": [],
   "source": []
  }
 ],
 "metadata": {
  "kernelspec": {
   "display_name": "Python 3 (ipykernel)",
   "language": "python",
   "name": "python3"
  },
  "language_info": {
   "codemirror_mode": {
    "name": "ipython",
    "version": 3
   },
   "file_extension": ".py",
   "mimetype": "text/x-python",
   "name": "python",
   "nbconvert_exporter": "python",
   "pygments_lexer": "ipython3",
   "version": "3.8.10"
  }
 },
 "nbformat": 4,
 "nbformat_minor": 5
}
