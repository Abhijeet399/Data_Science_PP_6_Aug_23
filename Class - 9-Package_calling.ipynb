{
 "cells": [
  {
   "cell_type": "code",
   "execution_count": 1,
   "id": "06caf5a5",
   "metadata": {
    "scrolled": true
   },
   "outputs": [],
   "source": [
    "from Mathematics import *"
   ]
  },
  {
   "cell_type": "code",
   "execution_count": 2,
   "id": "7616766c",
   "metadata": {},
   "outputs": [
    {
     "name": "stdout",
     "output_type": "stream",
     "text": [
      "-30\n"
     ]
    }
   ],
   "source": [
    "print(calculator.subtract(10, 40))"
   ]
  },
  {
   "cell_type": "code",
   "execution_count": 3,
   "id": "33c9617b",
   "metadata": {},
   "outputs": [],
   "source": [
    "# calculator.subtract?"
   ]
  },
  {
   "cell_type": "code",
   "execution_count": 4,
   "id": "5058c879",
   "metadata": {},
   "outputs": [
    {
     "ename": "NameError",
     "evalue": "name 'temp_complex' is not defined",
     "output_type": "error",
     "traceback": [
      "\u001b[1;31m---------------------------------------------------------------------------\u001b[0m",
      "\u001b[1;31mNameError\u001b[0m                                 Traceback (most recent call last)",
      "Cell \u001b[1;32mIn[4], line 1\u001b[0m\n\u001b[1;32m----> 1\u001b[0m \u001b[38;5;28mprint\u001b[39m(\u001b[43mtemp_complex\u001b[49m\u001b[38;5;241m.\u001b[39mexponential(\u001b[38;5;241m1\u001b[39m, \u001b[38;5;241m2\u001b[39m))\n",
      "\u001b[1;31mNameError\u001b[0m: name 'temp_complex' is not defined"
     ]
    }
   ],
   "source": [
    "print(temp_complex.exponential(1, 2))"
   ]
  },
  {
   "cell_type": "code",
   "execution_count": 6,
   "id": "c437af3c",
   "metadata": {},
   "outputs": [],
   "source": [
    "import numpy"
   ]
  },
  {
   "cell_type": "code",
   "execution_count": 8,
   "id": "99779a61",
   "metadata": {},
   "outputs": [],
   "source": [
    "numpy?"
   ]
  },
  {
   "cell_type": "code",
   "execution_count": null,
   "id": "a11aa083",
   "metadata": {},
   "outputs": [],
   "source": []
  }
 ],
 "metadata": {
  "kernelspec": {
   "display_name": "Python 3 (ipykernel)",
   "language": "python",
   "name": "python3"
  },
  "language_info": {
   "codemirror_mode": {
    "name": "ipython",
    "version": 3
   },
   "file_extension": ".py",
   "mimetype": "text/x-python",
   "name": "python",
   "nbconvert_exporter": "python",
   "pygments_lexer": "ipython3",
   "version": "3.8.10"
  }
 },
 "nbformat": 4,
 "nbformat_minor": 5
}
