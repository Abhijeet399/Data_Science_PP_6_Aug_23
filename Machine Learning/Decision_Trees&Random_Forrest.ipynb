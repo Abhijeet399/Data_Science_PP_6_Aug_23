{
 "cells": [
  {
   "cell_type": "code",
   "execution_count": 1,
   "id": "9f72ca6c",
   "metadata": {},
   "outputs": [],
   "source": [
    "# !pip uninstall pandas\n",
    "# !pip install pandas==1.3.0"
   ]
  },
  {
   "cell_type": "code",
   "execution_count": 2,
   "id": "c8e4e77a",
   "metadata": {},
   "outputs": [],
   "source": [
    "import numpy as np\n",
    "import pandas as pd\n",
    "import matplotlib.pyplot as plt"
   ]
  },
  {
   "cell_type": "code",
   "execution_count": 3,
   "id": "5e7c5aa4",
   "metadata": {},
   "outputs": [],
   "source": [
    "data = pd.read_csv('C:/Users/bhatt/OneDrive/Desktop/whisper-main/Titanic_Dataset/train.csv')"
   ]
  },
  {
   "cell_type": "code",
   "execution_count": 4,
   "id": "c05cc75f",
   "metadata": {},
   "outputs": [
    {
     "data": {
      "text/html": [
       "<div>\n",
       "<style scoped>\n",
       "    .dataframe tbody tr th:only-of-type {\n",
       "        vertical-align: middle;\n",
       "    }\n",
       "\n",
       "    .dataframe tbody tr th {\n",
       "        vertical-align: top;\n",
       "    }\n",
       "\n",
       "    .dataframe thead th {\n",
       "        text-align: right;\n",
       "    }\n",
       "</style>\n",
       "<table border=\"1\" class=\"dataframe\">\n",
       "  <thead>\n",
       "    <tr style=\"text-align: right;\">\n",
       "      <th></th>\n",
       "      <th>PassengerId</th>\n",
       "      <th>Survived</th>\n",
       "      <th>Pclass</th>\n",
       "      <th>Name</th>\n",
       "      <th>Sex</th>\n",
       "      <th>Age</th>\n",
       "      <th>SibSp</th>\n",
       "      <th>Parch</th>\n",
       "      <th>Ticket</th>\n",
       "      <th>Fare</th>\n",
       "      <th>Cabin</th>\n",
       "      <th>Embarked</th>\n",
       "    </tr>\n",
       "  </thead>\n",
       "  <tbody>\n",
       "    <tr>\n",
       "      <th>0</th>\n",
       "      <td>1</td>\n",
       "      <td>0</td>\n",
       "      <td>3</td>\n",
       "      <td>Braund, Mr. Owen Harris</td>\n",
       "      <td>male</td>\n",
       "      <td>22.0</td>\n",
       "      <td>1</td>\n",
       "      <td>0</td>\n",
       "      <td>A/5 21171</td>\n",
       "      <td>7.2500</td>\n",
       "      <td>NaN</td>\n",
       "      <td>S</td>\n",
       "    </tr>\n",
       "    <tr>\n",
       "      <th>1</th>\n",
       "      <td>2</td>\n",
       "      <td>1</td>\n",
       "      <td>1</td>\n",
       "      <td>Cumings, Mrs. John Bradley (Florence Briggs Th...</td>\n",
       "      <td>female</td>\n",
       "      <td>38.0</td>\n",
       "      <td>1</td>\n",
       "      <td>0</td>\n",
       "      <td>PC 17599</td>\n",
       "      <td>71.2833</td>\n",
       "      <td>C85</td>\n",
       "      <td>C</td>\n",
       "    </tr>\n",
       "    <tr>\n",
       "      <th>2</th>\n",
       "      <td>3</td>\n",
       "      <td>1</td>\n",
       "      <td>3</td>\n",
       "      <td>Heikkinen, Miss. Laina</td>\n",
       "      <td>female</td>\n",
       "      <td>26.0</td>\n",
       "      <td>0</td>\n",
       "      <td>0</td>\n",
       "      <td>STON/O2. 3101282</td>\n",
       "      <td>7.9250</td>\n",
       "      <td>NaN</td>\n",
       "      <td>S</td>\n",
       "    </tr>\n",
       "    <tr>\n",
       "      <th>3</th>\n",
       "      <td>4</td>\n",
       "      <td>1</td>\n",
       "      <td>1</td>\n",
       "      <td>Futrelle, Mrs. Jacques Heath (Lily May Peel)</td>\n",
       "      <td>female</td>\n",
       "      <td>35.0</td>\n",
       "      <td>1</td>\n",
       "      <td>0</td>\n",
       "      <td>113803</td>\n",
       "      <td>53.1000</td>\n",
       "      <td>C123</td>\n",
       "      <td>S</td>\n",
       "    </tr>\n",
       "    <tr>\n",
       "      <th>4</th>\n",
       "      <td>5</td>\n",
       "      <td>0</td>\n",
       "      <td>3</td>\n",
       "      <td>Allen, Mr. William Henry</td>\n",
       "      <td>male</td>\n",
       "      <td>35.0</td>\n",
       "      <td>0</td>\n",
       "      <td>0</td>\n",
       "      <td>373450</td>\n",
       "      <td>8.0500</td>\n",
       "      <td>NaN</td>\n",
       "      <td>S</td>\n",
       "    </tr>\n",
       "  </tbody>\n",
       "</table>\n",
       "</div>"
      ],
      "text/plain": [
       "   PassengerId  Survived  Pclass  \\\n",
       "0            1         0       3   \n",
       "1            2         1       1   \n",
       "2            3         1       3   \n",
       "3            4         1       1   \n",
       "4            5         0       3   \n",
       "\n",
       "                                                Name     Sex   Age  SibSp  \\\n",
       "0                            Braund, Mr. Owen Harris    male  22.0      1   \n",
       "1  Cumings, Mrs. John Bradley (Florence Briggs Th...  female  38.0      1   \n",
       "2                             Heikkinen, Miss. Laina  female  26.0      0   \n",
       "3       Futrelle, Mrs. Jacques Heath (Lily May Peel)  female  35.0      1   \n",
       "4                           Allen, Mr. William Henry    male  35.0      0   \n",
       "\n",
       "   Parch            Ticket     Fare Cabin Embarked  \n",
       "0      0         A/5 21171   7.2500   NaN        S  \n",
       "1      0          PC 17599  71.2833   C85        C  \n",
       "2      0  STON/O2. 3101282   7.9250   NaN        S  \n",
       "3      0            113803  53.1000  C123        S  \n",
       "4      0            373450   8.0500   NaN        S  "
      ]
     },
     "execution_count": 4,
     "metadata": {},
     "output_type": "execute_result"
    }
   ],
   "source": [
    "data.head()"
   ]
  },
  {
   "cell_type": "code",
   "execution_count": 5,
   "id": "75a87ab7",
   "metadata": {},
   "outputs": [
    {
     "name": "stdout",
     "output_type": "stream",
     "text": [
      "<class 'pandas.core.frame.DataFrame'>\n",
      "RangeIndex: 891 entries, 0 to 890\n",
      "Data columns (total 12 columns):\n",
      " #   Column       Non-Null Count  Dtype  \n",
      "---  ------       --------------  -----  \n",
      " 0   PassengerId  891 non-null    int64  \n",
      " 1   Survived     891 non-null    int64  \n",
      " 2   Pclass       891 non-null    int64  \n",
      " 3   Name         891 non-null    object \n",
      " 4   Sex          891 non-null    object \n",
      " 5   Age          714 non-null    float64\n",
      " 6   SibSp        891 non-null    int64  \n",
      " 7   Parch        891 non-null    int64  \n",
      " 8   Ticket       891 non-null    object \n",
      " 9   Fare         891 non-null    float64\n",
      " 10  Cabin        204 non-null    object \n",
      " 11  Embarked     889 non-null    object \n",
      "dtypes: float64(2), int64(5), object(5)\n",
      "memory usage: 83.7+ KB\n"
     ]
    }
   ],
   "source": [
    "data.info()"
   ]
  },
  {
   "cell_type": "code",
   "execution_count": 6,
   "id": "8f464d97",
   "metadata": {},
   "outputs": [],
   "source": [
    "cols_dropped = ['PassengerId', 'Name', 'Ticket', 'Cabin']"
   ]
  },
  {
   "cell_type": "code",
   "execution_count": 7,
   "id": "c64e7240",
   "metadata": {},
   "outputs": [],
   "source": [
    "data = data.drop(cols_dropped, axis = 1)"
   ]
  },
  {
   "cell_type": "code",
   "execution_count": 8,
   "id": "f71b8a2f",
   "metadata": {},
   "outputs": [
    {
     "data": {
      "text/html": [
       "<div>\n",
       "<style scoped>\n",
       "    .dataframe tbody tr th:only-of-type {\n",
       "        vertical-align: middle;\n",
       "    }\n",
       "\n",
       "    .dataframe tbody tr th {\n",
       "        vertical-align: top;\n",
       "    }\n",
       "\n",
       "    .dataframe thead th {\n",
       "        text-align: right;\n",
       "    }\n",
       "</style>\n",
       "<table border=\"1\" class=\"dataframe\">\n",
       "  <thead>\n",
       "    <tr style=\"text-align: right;\">\n",
       "      <th></th>\n",
       "      <th>Survived</th>\n",
       "      <th>Pclass</th>\n",
       "      <th>Sex</th>\n",
       "      <th>Age</th>\n",
       "      <th>SibSp</th>\n",
       "      <th>Parch</th>\n",
       "      <th>Fare</th>\n",
       "      <th>Embarked</th>\n",
       "    </tr>\n",
       "  </thead>\n",
       "  <tbody>\n",
       "    <tr>\n",
       "      <th>0</th>\n",
       "      <td>0</td>\n",
       "      <td>3</td>\n",
       "      <td>male</td>\n",
       "      <td>22.0</td>\n",
       "      <td>1</td>\n",
       "      <td>0</td>\n",
       "      <td>7.2500</td>\n",
       "      <td>S</td>\n",
       "    </tr>\n",
       "    <tr>\n",
       "      <th>1</th>\n",
       "      <td>1</td>\n",
       "      <td>1</td>\n",
       "      <td>female</td>\n",
       "      <td>38.0</td>\n",
       "      <td>1</td>\n",
       "      <td>0</td>\n",
       "      <td>71.2833</td>\n",
       "      <td>C</td>\n",
       "    </tr>\n",
       "    <tr>\n",
       "      <th>2</th>\n",
       "      <td>1</td>\n",
       "      <td>3</td>\n",
       "      <td>female</td>\n",
       "      <td>26.0</td>\n",
       "      <td>0</td>\n",
       "      <td>0</td>\n",
       "      <td>7.9250</td>\n",
       "      <td>S</td>\n",
       "    </tr>\n",
       "    <tr>\n",
       "      <th>3</th>\n",
       "      <td>1</td>\n",
       "      <td>1</td>\n",
       "      <td>female</td>\n",
       "      <td>35.0</td>\n",
       "      <td>1</td>\n",
       "      <td>0</td>\n",
       "      <td>53.1000</td>\n",
       "      <td>S</td>\n",
       "    </tr>\n",
       "    <tr>\n",
       "      <th>4</th>\n",
       "      <td>0</td>\n",
       "      <td>3</td>\n",
       "      <td>male</td>\n",
       "      <td>35.0</td>\n",
       "      <td>0</td>\n",
       "      <td>0</td>\n",
       "      <td>8.0500</td>\n",
       "      <td>S</td>\n",
       "    </tr>\n",
       "  </tbody>\n",
       "</table>\n",
       "</div>"
      ],
      "text/plain": [
       "   Survived  Pclass     Sex   Age  SibSp  Parch     Fare Embarked\n",
       "0         0       3    male  22.0      1      0   7.2500        S\n",
       "1         1       1  female  38.0      1      0  71.2833        C\n",
       "2         1       3  female  26.0      0      0   7.9250        S\n",
       "3         1       1  female  35.0      1      0  53.1000        S\n",
       "4         0       3    male  35.0      0      0   8.0500        S"
      ]
     },
     "execution_count": 8,
     "metadata": {},
     "output_type": "execute_result"
    }
   ],
   "source": [
    "data.head()"
   ]
  },
  {
   "cell_type": "code",
   "execution_count": 9,
   "id": "db58515a",
   "metadata": {},
   "outputs": [],
   "source": [
    "from sklearn.preprocessing import LabelEncoder"
   ]
  },
  {
   "cell_type": "code",
   "execution_count": 10,
   "id": "50755171",
   "metadata": {},
   "outputs": [],
   "source": [
    "label_enc = LabelEncoder()\n",
    "\n",
    "data['Sex'] = label_enc.fit_transform(data['Sex'])"
   ]
  },
  {
   "cell_type": "code",
   "execution_count": 11,
   "id": "41c68492",
   "metadata": {},
   "outputs": [],
   "source": [
    "data['Embarked'] = label_enc.fit_transform(data['Embarked'])"
   ]
  },
  {
   "cell_type": "code",
   "execution_count": 12,
   "id": "079c7692",
   "metadata": {},
   "outputs": [
    {
     "data": {
      "text/html": [
       "<div>\n",
       "<style scoped>\n",
       "    .dataframe tbody tr th:only-of-type {\n",
       "        vertical-align: middle;\n",
       "    }\n",
       "\n",
       "    .dataframe tbody tr th {\n",
       "        vertical-align: top;\n",
       "    }\n",
       "\n",
       "    .dataframe thead th {\n",
       "        text-align: right;\n",
       "    }\n",
       "</style>\n",
       "<table border=\"1\" class=\"dataframe\">\n",
       "  <thead>\n",
       "    <tr style=\"text-align: right;\">\n",
       "      <th></th>\n",
       "      <th>Survived</th>\n",
       "      <th>Pclass</th>\n",
       "      <th>Sex</th>\n",
       "      <th>Age</th>\n",
       "      <th>SibSp</th>\n",
       "      <th>Parch</th>\n",
       "      <th>Fare</th>\n",
       "      <th>Embarked</th>\n",
       "    </tr>\n",
       "  </thead>\n",
       "  <tbody>\n",
       "    <tr>\n",
       "      <th>0</th>\n",
       "      <td>0</td>\n",
       "      <td>3</td>\n",
       "      <td>1</td>\n",
       "      <td>22.0</td>\n",
       "      <td>1</td>\n",
       "      <td>0</td>\n",
       "      <td>7.2500</td>\n",
       "      <td>2</td>\n",
       "    </tr>\n",
       "    <tr>\n",
       "      <th>1</th>\n",
       "      <td>1</td>\n",
       "      <td>1</td>\n",
       "      <td>0</td>\n",
       "      <td>38.0</td>\n",
       "      <td>1</td>\n",
       "      <td>0</td>\n",
       "      <td>71.2833</td>\n",
       "      <td>0</td>\n",
       "    </tr>\n",
       "    <tr>\n",
       "      <th>2</th>\n",
       "      <td>1</td>\n",
       "      <td>3</td>\n",
       "      <td>0</td>\n",
       "      <td>26.0</td>\n",
       "      <td>0</td>\n",
       "      <td>0</td>\n",
       "      <td>7.9250</td>\n",
       "      <td>2</td>\n",
       "    </tr>\n",
       "    <tr>\n",
       "      <th>3</th>\n",
       "      <td>1</td>\n",
       "      <td>1</td>\n",
       "      <td>0</td>\n",
       "      <td>35.0</td>\n",
       "      <td>1</td>\n",
       "      <td>0</td>\n",
       "      <td>53.1000</td>\n",
       "      <td>2</td>\n",
       "    </tr>\n",
       "    <tr>\n",
       "      <th>4</th>\n",
       "      <td>0</td>\n",
       "      <td>3</td>\n",
       "      <td>1</td>\n",
       "      <td>35.0</td>\n",
       "      <td>0</td>\n",
       "      <td>0</td>\n",
       "      <td>8.0500</td>\n",
       "      <td>2</td>\n",
       "    </tr>\n",
       "  </tbody>\n",
       "</table>\n",
       "</div>"
      ],
      "text/plain": [
       "   Survived  Pclass  Sex   Age  SibSp  Parch     Fare  Embarked\n",
       "0         0       3    1  22.0      1      0   7.2500         2\n",
       "1         1       1    0  38.0      1      0  71.2833         0\n",
       "2         1       3    0  26.0      0      0   7.9250         2\n",
       "3         1       1    0  35.0      1      0  53.1000         2\n",
       "4         0       3    1  35.0      0      0   8.0500         2"
      ]
     },
     "execution_count": 12,
     "metadata": {},
     "output_type": "execute_result"
    }
   ],
   "source": [
    "data.head()"
   ]
  },
  {
   "cell_type": "code",
   "execution_count": 13,
   "id": "d1718ff1",
   "metadata": {},
   "outputs": [],
   "source": [
    "data = data.fillna(data['Age'].mean())"
   ]
  },
  {
   "cell_type": "code",
   "execution_count": 14,
   "id": "ee194b42",
   "metadata": {},
   "outputs": [
    {
     "name": "stdout",
     "output_type": "stream",
     "text": [
      "<class 'pandas.core.frame.DataFrame'>\n",
      "RangeIndex: 891 entries, 0 to 890\n",
      "Data columns (total 8 columns):\n",
      " #   Column    Non-Null Count  Dtype  \n",
      "---  ------    --------------  -----  \n",
      " 0   Survived  891 non-null    int64  \n",
      " 1   Pclass    891 non-null    int64  \n",
      " 2   Sex       891 non-null    int32  \n",
      " 3   Age       891 non-null    float64\n",
      " 4   SibSp     891 non-null    int64  \n",
      " 5   Parch     891 non-null    int64  \n",
      " 6   Fare      891 non-null    float64\n",
      " 7   Embarked  891 non-null    int32  \n",
      "dtypes: float64(2), int32(2), int64(4)\n",
      "memory usage: 48.9 KB\n"
     ]
    }
   ],
   "source": [
    "data.info()"
   ]
  },
  {
   "cell_type": "code",
   "execution_count": 15,
   "id": "42d1f245",
   "metadata": {},
   "outputs": [],
   "source": [
    "input_col = ['Pclass', 'Sex', 'Age', 'SibSp', 'Parch', 'Fare','Embarked']\n",
    "output = ['Survived']\n",
    "\n",
    "X_data = data[input_col]\n",
    "Y_data = data[output]"
   ]
  },
  {
   "cell_type": "code",
   "execution_count": 16,
   "id": "029586f1",
   "metadata": {},
   "outputs": [
    {
     "data": {
      "text/plain": [
       "((891, 7), (891, 1))"
      ]
     },
     "execution_count": 16,
     "metadata": {},
     "output_type": "execute_result"
    }
   ],
   "source": [
    "X_data.shape, Y_data.shape"
   ]
  },
  {
   "cell_type": "code",
   "execution_count": 17,
   "id": "95e9a825",
   "metadata": {},
   "outputs": [],
   "source": [
    "def entropy(col):\n",
    "    favour = np.unique(col, return_counts = True)\n",
    "    N = col.shape[0]\n",
    "    ent_py = 0\n",
    "    for i in favour[1]:\n",
    "        prob = i/N\n",
    "        ent_py += -1 * (prob * np.log2(prob))\n",
    "    \n",
    "    return ent_py"
   ]
  },
  {
   "cell_type": "code",
   "execution_count": 18,
   "id": "54d8f448",
   "metadata": {},
   "outputs": [
    {
     "name": "stdout",
     "output_type": "stream",
     "text": [
      "(2, 2) [1 2] (2,)\n"
     ]
    }
   ],
   "source": [
    "a = np.array([[1,2], \n",
    "              [3,4]])\n",
    "print(a.shape, a[0], a[0].shape)"
   ]
  },
  {
   "cell_type": "code",
   "execution_count": 19,
   "id": "719171ab",
   "metadata": {},
   "outputs": [],
   "source": [
    "def divide_data(X_data, feat, value):\n",
    "    X_right = pd.DataFrame([], columns = X_data.columns)\n",
    "    X_left = pd.DataFrame([], columns = X_data.columns)\n",
    "#     X_right = []\n",
    "#     X_left = []\n",
    "    \n",
    "    for i in range(X_data.shape[0]):\n",
    "        val = X_data[feat].loc[i]\n",
    "        \n",
    "        if val >= value:\n",
    "#             X_right.append(X_data.loc[i])\n",
    "#             X_right = X_right.append(X_data.loc[i])\n",
    "            X_right = pd.concat([X_right, X_data.iloc[i: i + 1]])\n",
    "        else:\n",
    "#             X_left.append(X_data.loc[i])\n",
    "#             X_left = X_left.append(X_data.loc[i])\n",
    "            X_left = pd.concat([X_left, X_data.iloc[i: i + 1]])\n",
    "        \n",
    "#     return pd.DataFrame(X_left, columns=X_data.columns), pd.DataFrame(X_right, columns = X_data.columns)\n",
    "    return X_left, X_right"
   ]
  },
  {
   "cell_type": "code",
   "execution_count": 20,
   "id": "69c27e6f",
   "metadata": {},
   "outputs": [],
   "source": [
    "left, right = divide_data(data[:10], 'Sex', 0.5)"
   ]
  },
  {
   "cell_type": "code",
   "execution_count": 21,
   "id": "0cc95c59",
   "metadata": {},
   "outputs": [
    {
     "name": "stdout",
     "output_type": "stream",
     "text": [
      "(5, 8) (5, 8)\n"
     ]
    }
   ],
   "source": [
    "print(left.shape, right.shape)"
   ]
  },
  {
   "cell_type": "code",
   "execution_count": 22,
   "id": "a2c271c5",
   "metadata": {},
   "outputs": [
    {
     "name": "stdout",
     "output_type": "stream",
     "text": [
      "  Survived Pclass Sex   Age SibSp Parch     Fare Embarked\n",
      "1        1      1   0  38.0     1     0  71.2833        0\n",
      "2        1      3   0  26.0     0     0   7.9250        2\n",
      "3        1      1   0  35.0     1     0  53.1000        2\n",
      "8        1      3   0  27.0     0     2  11.1333        2\n",
      "9        1      2   0  14.0     1     0  30.0708        0\n",
      "  Survived Pclass Sex        Age SibSp Parch     Fare Embarked\n",
      "0        0      3   1  22.000000     1     0   7.2500        2\n",
      "4        0      3   1  35.000000     0     0   8.0500        2\n",
      "5        0      3   1  29.699118     0     0   8.4583        1\n",
      "6        0      1   1  54.000000     0     0  51.8625        2\n",
      "7        0      3   1   2.000000     3     1  21.0750        2\n"
     ]
    }
   ],
   "source": [
    "print(left)\n",
    "print(right)"
   ]
  },
  {
   "cell_type": "code",
   "execution_count": 23,
   "id": "1dce3401",
   "metadata": {},
   "outputs": [],
   "source": [
    "def info_gain(X_data, feat, value):\n",
    "    left, right = divide_data(X_data, feat, value)\n",
    "    \n",
    "    prob_l = left.shape[0]/X_data.shape[0]\n",
    "    prob_r = right.shape[0]/X_data.shape[0]\n",
    "    \n",
    "    i_gain = entropy(X_data.Survived) - (prob_l * entropy(left.Survived) + \n",
    "                                         prob_r * entropy(right.Survived))\n",
    "    return i_gain"
   ]
  },
  {
   "cell_type": "code",
   "execution_count": 24,
   "id": "9c5fe4bd",
   "metadata": {},
   "outputs": [
    {
     "name": "stdout",
     "output_type": "stream",
     "text": [
      "Pclass 0.07579362743608165\n",
      "Sex 0.2176601066606142\n",
      "Age 0.001158644038169343\n",
      "SibSp 0.009584541813400071\n",
      "Parch 0.015380754493137694\n",
      "Fare 0.042140692838995464\n",
      "Embarked 0.015909401384176403\n"
     ]
    }
   ],
   "source": [
    "for i in X_data.columns:\n",
    "    print(i, info_gain(data, i, data[i].mean()))"
   ]
  },
  {
   "cell_type": "code",
   "execution_count": 25,
   "id": "380a8e4a",
   "metadata": {},
   "outputs": [],
   "source": [
    "class Decision_Tree:\n",
    "    def __init__(self, depth = 0, max_depth = 7):\n",
    "        self.left = None\n",
    "        self.right = None\n",
    "        self.feat = None\n",
    "        self.value = None\n",
    "        self.max_depth = max_depth\n",
    "        self.depth = depth\n",
    "        self.target = None\n",
    "    \n",
    "    def train(self, X_train):\n",
    "        f = ['Pclass', 'Sex', 'Age', 'SibSp', 'Parch', 'Fare','Embarked']\n",
    "        i_gain = []\n",
    "        \n",
    "        for i in f:\n",
    "            i_gain.append(info_gain(X_train, i, X_train[i].mean()))\n",
    "            \n",
    "        self.feat = f[np.argmax(i_gain)]\n",
    "        self.value = X_train[self.feat].mean()\n",
    "        \n",
    "        data_left, data_right = divide_data(X_train, self.feat, self.value)\n",
    "        data_left = data_left.reset_index(drop = True)\n",
    "        data_right = data_right.reset_index(drop = True)\n",
    "        print('Making Tree with Feature:', self.feat, 'Depth:', self.depth)\n",
    "        \n",
    "        if data_left.shape[0] == 0 or data_right.shape[0] == 0:\n",
    "            if X_train.Survived.mean() >= 0.5:\n",
    "                self.target = 'Survived'\n",
    "            else:\n",
    "                self.target = 'Not Survived'\n",
    "            return 'Done Training'\n",
    "        \n",
    "        if self.depth >= self.max_depth:\n",
    "            if X_train.Survived.mean() >= 0.5:\n",
    "                self.target = 'Survived'\n",
    "            else:\n",
    "                self.target = 'Not Survived'\n",
    "            return 'Done Training'\n",
    "        \n",
    "        self.left = Decision_Tree(depth = self.depth + 1)\n",
    "        self.left.train(data_left)\n",
    "        \n",
    "        self.right = Decision_Tree(depth = self.depth + 1)\n",
    "        self.right.train(data_right)\n",
    "        \n",
    "        if X_train.Survived.mean() >= 0.5:\n",
    "            self.target = 'Survived'\n",
    "        else:\n",
    "            self.target = 'Not Survived'\n",
    "        return 'Done Training'\n",
    "    \n",
    "    def predict(self, test):\n",
    "        if test[self.feat] >= self.value:\n",
    "            if self.right is None:\n",
    "                return (self.target)\n",
    "            return self.right.predict(test)\n",
    "        else:\n",
    "            if self.left is None:\n",
    "                return (self.target)\n",
    "            return self.left.predict(test)"
   ]
  },
  {
   "cell_type": "code",
   "execution_count": 26,
   "id": "d96b9bea",
   "metadata": {},
   "outputs": [],
   "source": [
    "split = 0.8\n",
    "\n",
    "train_X = data[:int(split * data.shape[0])]\n",
    "test_X = data[int(split * data.shape[0]):]\n",
    "test_X = test_X.reset_index(drop = True)"
   ]
  },
  {
   "cell_type": "code",
   "execution_count": 27,
   "id": "3371ea0b",
   "metadata": {
    "scrolled": true
   },
   "outputs": [
    {
     "name": "stdout",
     "output_type": "stream",
     "text": [
      "Making Tree with Feature: Sex Depth: 0\n",
      "Making Tree with Feature: Pclass Depth: 1\n",
      "Making Tree with Feature: Embarked Depth: 2\n",
      "Making Tree with Feature: Age Depth: 3\n",
      "Making Tree with Feature: Pclass Depth: 4\n",
      "Making Tree with Feature: Pclass Depth: 5\n",
      "Making Tree with Feature: Pclass Depth: 5\n",
      "Making Tree with Feature: Age Depth: 4\n",
      "Making Tree with Feature: Pclass Depth: 5\n",
      "Making Tree with Feature: SibSp Depth: 5\n",
      "Making Tree with Feature: Fare Depth: 6\n",
      "Making Tree with Feature: Pclass Depth: 7\n",
      "Making Tree with Feature: Pclass Depth: 7\n",
      "Making Tree with Feature: Pclass Depth: 6\n",
      "Making Tree with Feature: Age Depth: 3\n",
      "Making Tree with Feature: SibSp Depth: 4\n",
      "Making Tree with Feature: Age Depth: 5\n",
      "Making Tree with Feature: Pclass Depth: 6\n",
      "Making Tree with Feature: Pclass Depth: 7\n",
      "Making Tree with Feature: Pclass Depth: 7\n",
      "Making Tree with Feature: Age Depth: 6\n",
      "Making Tree with Feature: Age Depth: 7\n",
      "Making Tree with Feature: Pclass Depth: 7\n",
      "Making Tree with Feature: SibSp Depth: 5\n",
      "Making Tree with Feature: Pclass Depth: 6\n",
      "Making Tree with Feature: Fare Depth: 7\n",
      "Making Tree with Feature: Age Depth: 7\n",
      "Making Tree with Feature: Pclass Depth: 6\n",
      "Making Tree with Feature: Pclass Depth: 7\n",
      "Making Tree with Feature: Pclass Depth: 7\n",
      "Making Tree with Feature: Pclass Depth: 4\n",
      "Making Tree with Feature: Pclass Depth: 5\n",
      "Making Tree with Feature: Age Depth: 5\n",
      "Making Tree with Feature: Age Depth: 6\n",
      "Making Tree with Feature: Pclass Depth: 7\n",
      "Making Tree with Feature: Age Depth: 7\n",
      "Making Tree with Feature: Pclass Depth: 6\n",
      "Making Tree with Feature: Embarked Depth: 2\n",
      "Making Tree with Feature: Fare Depth: 3\n",
      "Making Tree with Feature: Parch Depth: 4\n",
      "Making Tree with Feature: Embarked Depth: 5\n",
      "Making Tree with Feature: Pclass Depth: 6\n",
      "Making Tree with Feature: Fare Depth: 6\n",
      "Making Tree with Feature: Fare Depth: 7\n",
      "Making Tree with Feature: Fare Depth: 7\n",
      "Making Tree with Feature: Pclass Depth: 5\n",
      "Making Tree with Feature: Fare Depth: 4\n",
      "Making Tree with Feature: Fare Depth: 5\n",
      "Making Tree with Feature: Fare Depth: 6\n",
      "Making Tree with Feature: Pclass Depth: 7\n",
      "Making Tree with Feature: Pclass Depth: 7\n",
      "Making Tree with Feature: Parch Depth: 6\n",
      "Making Tree with Feature: Pclass Depth: 7\n",
      "Making Tree with Feature: Age Depth: 7\n",
      "Making Tree with Feature: Pclass Depth: 5\n",
      "Making Tree with Feature: Fare Depth: 3\n",
      "Making Tree with Feature: Fare Depth: 4\n",
      "Making Tree with Feature: Age Depth: 5\n",
      "Making Tree with Feature: Fare Depth: 6\n",
      "Making Tree with Feature: Fare Depth: 7\n",
      "Making Tree with Feature: Age Depth: 7\n",
      "Making Tree with Feature: SibSp Depth: 6\n",
      "Making Tree with Feature: Age Depth: 7\n",
      "Making Tree with Feature: Pclass Depth: 7\n",
      "Making Tree with Feature: SibSp Depth: 5\n",
      "Making Tree with Feature: Pclass Depth: 6\n",
      "Making Tree with Feature: Fare Depth: 6\n",
      "Making Tree with Feature: Age Depth: 7\n",
      "Making Tree with Feature: SibSp Depth: 7\n",
      "Making Tree with Feature: SibSp Depth: 4\n",
      "Making Tree with Feature: Fare Depth: 5\n",
      "Making Tree with Feature: SibSp Depth: 6\n",
      "Making Tree with Feature: Age Depth: 7\n",
      "Making Tree with Feature: Parch Depth: 7\n",
      "Making Tree with Feature: Parch Depth: 6\n",
      "Making Tree with Feature: Pclass Depth: 7\n",
      "Making Tree with Feature: Age Depth: 7\n",
      "Making Tree with Feature: SibSp Depth: 5\n",
      "Making Tree with Feature: Pclass Depth: 6\n",
      "Making Tree with Feature: Age Depth: 6\n",
      "Making Tree with Feature: Fare Depth: 7\n",
      "Making Tree with Feature: Pclass Depth: 7\n",
      "Making Tree with Feature: Fare Depth: 1\n",
      "Making Tree with Feature: Parch Depth: 2\n",
      "Making Tree with Feature: Age Depth: 3\n",
      "Making Tree with Feature: Embarked Depth: 4\n",
      "Making Tree with Feature: Fare Depth: 5\n",
      "Making Tree with Feature: Embarked Depth: 6\n",
      "Making Tree with Feature: Fare Depth: 7\n",
      "Making Tree with Feature: Age Depth: 7\n",
      "Making Tree with Feature: Age Depth: 6\n",
      "Making Tree with Feature: Age Depth: 7\n",
      "Making Tree with Feature: Age Depth: 7\n",
      "Making Tree with Feature: Age Depth: 5\n",
      "Making Tree with Feature: Fare Depth: 6\n",
      "Making Tree with Feature: SibSp Depth: 7\n",
      "Making Tree with Feature: Pclass Depth: 7\n",
      "Making Tree with Feature: SibSp Depth: 6\n",
      "Making Tree with Feature: Fare Depth: 7\n",
      "Making Tree with Feature: Pclass Depth: 7\n",
      "Making Tree with Feature: Embarked Depth: 4\n",
      "Making Tree with Feature: Pclass Depth: 5\n",
      "Making Tree with Feature: Pclass Depth: 6\n",
      "Making Tree with Feature: Pclass Depth: 6\n",
      "Making Tree with Feature: Fare Depth: 5\n",
      "Making Tree with Feature: Fare Depth: 6\n",
      "Making Tree with Feature: Pclass Depth: 7\n",
      "Making Tree with Feature: SibSp Depth: 7\n",
      "Making Tree with Feature: Pclass Depth: 6\n",
      "Making Tree with Feature: Age Depth: 7\n",
      "Making Tree with Feature: Age Depth: 7\n",
      "Making Tree with Feature: Age Depth: 3\n",
      "Making Tree with Feature: Age Depth: 4\n",
      "Making Tree with Feature: SibSp Depth: 5\n",
      "Making Tree with Feature: Pclass Depth: 6\n",
      "Making Tree with Feature: Pclass Depth: 7\n",
      "Making Tree with Feature: Pclass Depth: 7\n",
      "Making Tree with Feature: Pclass Depth: 6\n",
      "Making Tree with Feature: Age Depth: 5\n",
      "Making Tree with Feature: Pclass Depth: 6\n",
      "Making Tree with Feature: Pclass Depth: 6\n",
      "Making Tree with Feature: Pclass Depth: 7\n",
      "Making Tree with Feature: Pclass Depth: 7\n",
      "Making Tree with Feature: Embarked Depth: 4\n",
      "Making Tree with Feature: Age Depth: 5\n",
      "Making Tree with Feature: Pclass Depth: 6\n",
      "Making Tree with Feature: Pclass Depth: 6\n",
      "Making Tree with Feature: Pclass Depth: 5\n",
      "Making Tree with Feature: Pclass Depth: 6\n",
      "Making Tree with Feature: Pclass Depth: 6\n",
      "Making Tree with Feature: SibSp Depth: 2\n",
      "Making Tree with Feature: Age Depth: 3\n",
      "Making Tree with Feature: Embarked Depth: 4\n",
      "Making Tree with Feature: Pclass Depth: 5\n",
      "Making Tree with Feature: Age Depth: 6\n",
      "Making Tree with Feature: Fare Depth: 7\n",
      "Making Tree with Feature: Age Depth: 7\n",
      "Making Tree with Feature: Pclass Depth: 6\n",
      "Making Tree with Feature: Fare Depth: 5\n",
      "Making Tree with Feature: SibSp Depth: 6\n",
      "Making Tree with Feature: Age Depth: 7\n",
      "Making Tree with Feature: Pclass Depth: 7\n",
      "Making Tree with Feature: SibSp Depth: 6\n",
      "Making Tree with Feature: Parch Depth: 7\n",
      "Making Tree with Feature: Parch Depth: 7\n",
      "Making Tree with Feature: Embarked Depth: 4\n",
      "Making Tree with Feature: SibSp Depth: 5\n",
      "Making Tree with Feature: Age Depth: 6\n",
      "Making Tree with Feature: Parch Depth: 7\n",
      "Making Tree with Feature: Pclass Depth: 7\n",
      "Making Tree with Feature: Fare Depth: 6\n",
      "Making Tree with Feature: Pclass Depth: 7\n",
      "Making Tree with Feature: Fare Depth: 7\n",
      "Making Tree with Feature: Parch Depth: 5\n",
      "Making Tree with Feature: Age Depth: 6\n",
      "Making Tree with Feature: Pclass Depth: 7\n",
      "Making Tree with Feature: Age Depth: 7\n",
      "Making Tree with Feature: Pclass Depth: 6\n",
      "Making Tree with Feature: Pclass Depth: 7\n",
      "Making Tree with Feature: Pclass Depth: 7\n",
      "Making Tree with Feature: SibSp Depth: 3\n",
      "Making Tree with Feature: Embarked Depth: 4\n",
      "Making Tree with Feature: Pclass Depth: 5\n",
      "Making Tree with Feature: Pclass Depth: 6\n",
      "Making Tree with Feature: Pclass Depth: 6\n",
      "Making Tree with Feature: Pclass Depth: 5\n",
      "Making Tree with Feature: SibSp Depth: 6\n",
      "Making Tree with Feature: Pclass Depth: 7\n",
      "Making Tree with Feature: Pclass Depth: 7\n",
      "Making Tree with Feature: Parch Depth: 6\n",
      "Making Tree with Feature: Pclass Depth: 7\n",
      "Making Tree with Feature: Age Depth: 7\n",
      "Making Tree with Feature: Pclass Depth: 4\n"
     ]
    },
    {
     "data": {
      "text/plain": [
       "'Done Training'"
      ]
     },
     "execution_count": 27,
     "metadata": {},
     "output_type": "execute_result"
    }
   ],
   "source": [
    "dt = Decision_Tree(max_depth = 10)\n",
    "dt.train(train_X)"
   ]
  },
  {
   "cell_type": "code",
   "execution_count": 28,
   "id": "4d100887",
   "metadata": {},
   "outputs": [
    {
     "name": "stdout",
     "output_type": "stream",
     "text": [
      "Sex\n",
      "Pclass\n",
      "Fare\n",
      "Embarked\n",
      "Embarked\n"
     ]
    }
   ],
   "source": [
    "print(dt.feat)\n",
    "print(dt.left.feat)\n",
    "print(dt.right.feat)\n",
    "print(dt.left.left.feat)\n",
    "print(dt.left.right.feat)"
   ]
  },
  {
   "cell_type": "code",
   "execution_count": 29,
   "id": "cecffece",
   "metadata": {},
   "outputs": [],
   "source": [
    "pred = []\n",
    "\n",
    "for i in range(test_X.shape[0]):\n",
    "    output = dt.predict(test_X.loc[i])\n",
    "    if output == 'Not Survived':\n",
    "        pred.append(0)\n",
    "    else:\n",
    "        pred.append(1)"
   ]
  },
  {
   "cell_type": "code",
   "execution_count": 30,
   "id": "4c5e398d",
   "metadata": {
    "scrolled": true
   },
   "outputs": [
    {
     "data": {
      "text/plain": [
       "[0,\n",
       " 0,\n",
       " 0,\n",
       " 0,\n",
       " 1,\n",
       " 1,\n",
       " 0,\n",
       " 0,\n",
       " 1,\n",
       " 0,\n",
       " 0,\n",
       " 0,\n",
       " 0,\n",
       " 0,\n",
       " 1,\n",
       " 1,\n",
       " 0,\n",
       " 1,\n",
       " 1,\n",
       " 0,\n",
       " 0,\n",
       " 0,\n",
       " 0,\n",
       " 0,\n",
       " 0,\n",
       " 0,\n",
       " 0,\n",
       " 0,\n",
       " 1,\n",
       " 1,\n",
       " 1,\n",
       " 0,\n",
       " 0,\n",
       " 0,\n",
       " 0,\n",
       " 1,\n",
       " 0,\n",
       " 0,\n",
       " 1,\n",
       " 1,\n",
       " 0,\n",
       " 0,\n",
       " 1,\n",
       " 1,\n",
       " 0,\n",
       " 0,\n",
       " 0,\n",
       " 1,\n",
       " 0,\n",
       " 0,\n",
       " 0,\n",
       " 1,\n",
       " 0,\n",
       " 1,\n",
       " 0,\n",
       " 1,\n",
       " 0,\n",
       " 0,\n",
       " 0,\n",
       " 0,\n",
       " 1,\n",
       " 0,\n",
       " 1,\n",
       " 0,\n",
       " 0,\n",
       " 1,\n",
       " 0,\n",
       " 1,\n",
       " 1,\n",
       " 1,\n",
       " 1,\n",
       " 0,\n",
       " 0,\n",
       " 0,\n",
       " 1,\n",
       " 0,\n",
       " 1,\n",
       " 0,\n",
       " 0,\n",
       " 0,\n",
       " 0,\n",
       " 0,\n",
       " 0,\n",
       " 0,\n",
       " 1,\n",
       " 0,\n",
       " 0,\n",
       " 1,\n",
       " 0,\n",
       " 1,\n",
       " 1,\n",
       " 1,\n",
       " 0,\n",
       " 0,\n",
       " 0,\n",
       " 1,\n",
       " 0,\n",
       " 1,\n",
       " 0,\n",
       " 0,\n",
       " 0,\n",
       " 0,\n",
       " 0,\n",
       " 0,\n",
       " 1,\n",
       " 0,\n",
       " 0,\n",
       " 0,\n",
       " 1,\n",
       " 0,\n",
       " 0,\n",
       " 1,\n",
       " 0,\n",
       " 0,\n",
       " 1,\n",
       " 0,\n",
       " 0,\n",
       " 1,\n",
       " 0,\n",
       " 1,\n",
       " 0,\n",
       " 0,\n",
       " 0,\n",
       " 1,\n",
       " 0,\n",
       " 0,\n",
       " 1,\n",
       " 0,\n",
       " 0,\n",
       " 0,\n",
       " 1,\n",
       " 0,\n",
       " 0,\n",
       " 0,\n",
       " 0,\n",
       " 0,\n",
       " 1,\n",
       " 1,\n",
       " 0,\n",
       " 0,\n",
       " 1,\n",
       " 1,\n",
       " 1,\n",
       " 0,\n",
       " 1,\n",
       " 0,\n",
       " 1,\n",
       " 0,\n",
       " 0,\n",
       " 0,\n",
       " 1,\n",
       " 0,\n",
       " 0,\n",
       " 1,\n",
       " 1,\n",
       " 1,\n",
       " 0,\n",
       " 1,\n",
       " 0,\n",
       " 1,\n",
       " 0,\n",
       " 0,\n",
       " 1,\n",
       " 1,\n",
       " 0,\n",
       " 0,\n",
       " 0,\n",
       " 0,\n",
       " 1,\n",
       " 0,\n",
       " 0,\n",
       " 0,\n",
       " 0,\n",
       " 1,\n",
       " 0,\n",
       " 1,\n",
       " 1,\n",
       " 1,\n",
       " 0]"
      ]
     },
     "execution_count": 30,
     "metadata": {},
     "output_type": "execute_result"
    }
   ],
   "source": [
    "pred"
   ]
  },
  {
   "cell_type": "code",
   "execution_count": 31,
   "id": "a94583e8",
   "metadata": {},
   "outputs": [],
   "source": [
    "label = test_X['Survived']"
   ]
  },
  {
   "cell_type": "code",
   "execution_count": 32,
   "id": "1463a07a",
   "metadata": {},
   "outputs": [
    {
     "name": "stdout",
     "output_type": "stream",
     "text": [
      "1 0\n",
      "0 0\n",
      "0 0\n",
      "0 0\n",
      "1 1\n",
      "1 1\n",
      "0 0\n",
      "0 0\n",
      "1 1\n",
      "0 0\n",
      "0 0\n",
      "0 0\n",
      "1 0\n",
      "0 0\n",
      "1 1\n",
      "1 1\n",
      "0 0\n",
      "0 1\n",
      "1 1\n",
      "0 0\n",
      "0 0\n",
      "0 0\n",
      "0 0\n",
      "0 0\n",
      "0 0\n",
      "1 0\n",
      "0 0\n",
      "0 0\n",
      "1 1\n",
      "0 1\n",
      "1 1\n",
      "0 0\n",
      "1 0\n",
      "0 0\n",
      "0 0\n",
      "1 1\n",
      "0 0\n",
      "0 0\n",
      "1 1\n",
      "1 1\n",
      "0 0\n",
      "0 0\n",
      "1 1\n",
      "1 1\n",
      "0 0\n",
      "0 0\n",
      "0 0\n",
      "1 1\n",
      "0 0\n",
      "0 0\n",
      "1 0\n",
      "1 1\n",
      "0 0\n",
      "1 1\n",
      "0 0\n",
      "0 1\n",
      "0 0\n",
      "0 0\n",
      "0 0\n",
      "0 0\n",
      "0 1\n",
      "0 0\n",
      "1 1\n",
      "0 0\n",
      "0 0\n",
      "1 1\n",
      "0 0\n",
      "1 1\n",
      "1 1\n",
      "1 1\n",
      "0 1\n",
      "0 0\n",
      "0 0\n",
      "0 0\n",
      "1 1\n",
      "0 0\n",
      "1 1\n",
      "0 0\n",
      "0 0\n",
      "0 0\n",
      "0 0\n",
      "0 0\n",
      "0 0\n",
      "0 0\n",
      "1 1\n",
      "1 0\n",
      "0 0\n",
      "0 1\n",
      "0 0\n",
      "1 1\n",
      "1 1\n",
      "1 1\n",
      "1 0\n",
      "0 0\n",
      "0 0\n",
      "0 1\n",
      "0 0\n",
      "1 1\n",
      "0 0\n",
      "0 0\n",
      "0 0\n",
      "0 0\n",
      "0 0\n",
      "0 0\n",
      "0 1\n",
      "0 0\n",
      "0 0\n",
      "0 0\n",
      "1 1\n",
      "1 0\n",
      "0 0\n",
      "1 1\n",
      "0 0\n",
      "0 0\n",
      "0 1\n",
      "1 0\n",
      "1 0\n",
      "1 1\n",
      "1 0\n",
      "1 1\n",
      "0 0\n",
      "0 0\n",
      "0 0\n",
      "1 1\n",
      "0 0\n",
      "0 0\n",
      "1 1\n",
      "1 0\n",
      "0 0\n",
      "0 0\n",
      "1 1\n",
      "0 0\n",
      "0 0\n",
      "0 0\n",
      "0 0\n",
      "0 0\n",
      "0 1\n",
      "1 1\n",
      "0 0\n",
      "0 0\n",
      "0 1\n",
      "1 1\n",
      "0 1\n",
      "1 0\n",
      "1 1\n",
      "1 0\n",
      "1 1\n",
      "0 0\n",
      "0 0\n",
      "0 0\n",
      "1 1\n",
      "0 0\n",
      "0 0\n",
      "1 1\n",
      "1 1\n",
      "0 1\n",
      "0 0\n",
      "1 1\n",
      "0 0\n",
      "1 1\n",
      "0 0\n",
      "0 0\n",
      "1 1\n",
      "1 1\n",
      "0 0\n",
      "0 0\n",
      "0 0\n",
      "1 0\n",
      "1 1\n",
      "0 0\n",
      "0 0\n",
      "0 0\n",
      "0 0\n",
      "0 1\n",
      "0 0\n",
      "1 1\n",
      "0 1\n",
      "1 1\n",
      "0 0\n",
      "0.8324022346368715\n"
     ]
    }
   ],
   "source": [
    "corr = 0\n",
    "for i in range(label.shape[0]):\n",
    "    print(label[i], pred[i])\n",
    "    if label[i] == pred[i]:\n",
    "        corr+=1\n",
    "print(corr/label.shape[0])"
   ]
  },
  {
   "cell_type": "code",
   "execution_count": 33,
   "id": "3535654c",
   "metadata": {},
   "outputs": [],
   "source": [
    "from sklearn.tree import DecisionTreeClassifier"
   ]
  },
  {
   "cell_type": "code",
   "execution_count": 34,
   "id": "3b7d2587",
   "metadata": {},
   "outputs": [],
   "source": [
    "d_tree = DecisionTreeClassifier(criterion='entropy', max_depth=10)"
   ]
  },
  {
   "cell_type": "code",
   "execution_count": 35,
   "id": "15d2aabd",
   "metadata": {},
   "outputs": [
    {
     "data": {
      "text/plain": [
       "DecisionTreeClassifier(criterion='entropy', max_depth=10)"
      ]
     },
     "execution_count": 35,
     "metadata": {},
     "output_type": "execute_result"
    }
   ],
   "source": [
    "d_tree.fit(X_data, Y_data)"
   ]
  },
  {
   "cell_type": "code",
   "execution_count": 36,
   "id": "70424776",
   "metadata": {},
   "outputs": [
    {
     "data": {
      "text/plain": [
       "array([0, 0, 0, 0, 1, 1, 0, 0, 1, 0, 0, 0, 0, 0, 1, 1, 0, 0, 1, 0, 0, 0,\n",
       "       0, 0, 0, 0, 0, 0, 0, 0, 1, 0, 1, 0, 0, 1, 0, 0, 1, 1, 0, 0, 1, 1,\n",
       "       0, 0, 0, 1, 0, 0, 0, 1, 0, 1, 0, 1, 0, 0, 0, 0, 0, 0, 1, 0, 0, 1,\n",
       "       0, 1, 1, 1, 0, 0, 0, 0, 1, 0, 1, 0, 0, 0, 0, 0, 0, 0, 1, 0, 0, 0,\n",
       "       0, 1, 1, 1, 0, 0, 0, 0, 0, 1, 0, 0, 0, 0, 0, 0, 0, 0, 0, 0, 1, 0,\n",
       "       0, 1, 0, 0, 0, 1, 0, 1, 0, 1, 0, 0, 0, 1, 0, 0, 0, 0, 0, 0, 1, 0,\n",
       "       0, 0, 0, 0, 0, 1, 0, 0, 0, 1, 1, 1, 1, 1, 1, 0, 0, 0, 1, 0, 0, 1,\n",
       "       1, 0, 0, 1, 0, 1, 0, 0, 1, 1, 0, 0, 0, 1, 1, 0, 0, 0, 0, 0, 0, 1,\n",
       "       0, 0, 0], dtype=int64)"
      ]
     },
     "execution_count": 36,
     "metadata": {},
     "output_type": "execute_result"
    }
   ],
   "source": [
    "d_tree.predict(test_X[input_col])"
   ]
  },
  {
   "cell_type": "code",
   "execution_count": 37,
   "id": "6e4a72d8",
   "metadata": {},
   "outputs": [
    {
     "data": {
      "text/plain": [
       "0.9162011173184358"
      ]
     },
     "execution_count": 37,
     "metadata": {},
     "output_type": "execute_result"
    }
   ],
   "source": [
    "d_tree.score(test_X[input_col], test_X['Survived'])"
   ]
  },
  {
   "cell_type": "code",
   "execution_count": 38,
   "id": "126b1494",
   "metadata": {},
   "outputs": [],
   "source": [
    "DecisionTreeClassifier?"
   ]
  },
  {
   "cell_type": "code",
   "execution_count": 39,
   "id": "11a49100",
   "metadata": {},
   "outputs": [],
   "source": [
    "from sklearn import tree as dt\n",
    "import matplotlib.pyplot as plt"
   ]
  },
  {
   "cell_type": "code",
   "execution_count": 40,
   "id": "eca62a64",
   "metadata": {
    "scrolled": false
   },
   "outputs": [],
   "source": [
    "# fig, ax = plt.subplots(ncols=1, nrows=1, figsize = (200, 200))\n",
    "# dt.plot_tree(d_tree, filled=True)\n",
    "# plt.show()\n",
    "# fig.savefig('tree.png')"
   ]
  },
  {
   "cell_type": "markdown",
   "id": "d4cb1717",
   "metadata": {},
   "source": [
    "# Random Forrest"
   ]
  },
  {
   "cell_type": "code",
   "execution_count": 42,
   "id": "802bc0fb",
   "metadata": {},
   "outputs": [],
   "source": [
    "label = data['Survived']\n",
    "data.drop(['Survived'], axis = 1, inplace=True)"
   ]
  },
  {
   "cell_type": "code",
   "execution_count": 45,
   "id": "441d63c7",
   "metadata": {},
   "outputs": [],
   "source": [
    "data = data.values\n",
    "label = label.values"
   ]
  },
  {
   "cell_type": "code",
   "execution_count": 47,
   "id": "c596704c",
   "metadata": {},
   "outputs": [],
   "source": [
    "split = 0.8\n",
    "X_train = data[:int(split * data.shape[0]), :]\n",
    "X_test = data[int(split * data.shape[0]):, :]\n",
    "Y_train = label[:int(split * data.shape[0])]\n",
    "Y_test = label[int(split * data.shape[0]):]"
   ]
  },
  {
   "cell_type": "code",
   "execution_count": 48,
   "id": "89f90132",
   "metadata": {},
   "outputs": [
    {
     "name": "stdout",
     "output_type": "stream",
     "text": [
      "(179, 7) (179,) (712, 7) (712,)\n"
     ]
    }
   ],
   "source": [
    "print(X_test.shape, Y_test.shape, X_train.shape, Y_train.shape)"
   ]
  },
  {
   "cell_type": "code",
   "execution_count": 49,
   "id": "99241a0b",
   "metadata": {},
   "outputs": [],
   "source": [
    "from sklearn.ensemble import RandomForestClassifier"
   ]
  },
  {
   "cell_type": "code",
   "execution_count": 56,
   "id": "c699b145",
   "metadata": {},
   "outputs": [],
   "source": [
    "rf = RandomForestClassifier(n_estimators = 10, criterion = 'entropy', max_depth = 10)"
   ]
  },
  {
   "cell_type": "code",
   "execution_count": 57,
   "id": "0774a6fb",
   "metadata": {},
   "outputs": [
    {
     "data": {
      "text/plain": [
       "RandomForestClassifier(criterion='entropy', max_depth=10, n_estimators=10)"
      ]
     },
     "execution_count": 57,
     "metadata": {},
     "output_type": "execute_result"
    }
   ],
   "source": [
    "rf.fit(X_train, Y_train)"
   ]
  },
  {
   "cell_type": "code",
   "execution_count": 58,
   "id": "ca4f47f3",
   "metadata": {},
   "outputs": [
    {
     "data": {
      "text/plain": [
       "0.8100558659217877"
      ]
     },
     "execution_count": 58,
     "metadata": {},
     "output_type": "execute_result"
    }
   ],
   "source": [
    "rf.score(X_test, Y_test)"
   ]
  },
  {
   "cell_type": "code",
   "execution_count": 104,
   "id": "2b5a12af",
   "metadata": {},
   "outputs": [
    {
     "name": "stdout",
     "output_type": "stream",
     "text": [
      "On: 99\r"
     ]
    }
   ],
   "source": [
    "acc_score = []\n",
    "\n",
    "for i in range(100):\n",
    "    rf = RandomForestClassifier(n_estimators = i+1, criterion = 'entropy', max_depth = 5)\n",
    "    rf.fit(X_train, Y_train)\n",
    "    acc_score.append(rf.score(X_test, Y_test))\n",
    "    print(f'On: {i}', end = '\\r')"
   ]
  },
  {
   "cell_type": "code",
   "execution_count": 105,
   "id": "2409ebc8",
   "metadata": {},
   "outputs": [
    {
     "data": {
      "text/plain": [
       "[<matplotlib.lines.Line2D at 0x1c4897b3700>]"
      ]
     },
     "execution_count": 105,
     "metadata": {},
     "output_type": "execute_result"
    },
    {
     "data": {
      "image/png": "[encoded data removed]",
      "text/plain": [
       "<Figure size 640x480 with 1 Axes>"
      ]
     },
     "metadata": {},
     "output_type": "display_data"
    }
   ],
   "source": [
    "plt.plot(acc_score)"
   ]
  },
  {
   "cell_type": "code",
   "execution_count": 106,
   "id": "002af851",
   "metadata": {},
   "outputs": [
    {
     "data": {
      "text/plain": [
       "69"
      ]
     },
     "execution_count": 106,
     "metadata": {},
     "output_type": "execute_result"
    }
   ],
   "source": [
    "np.argmax(acc_score)"
   ]
  },
  {
   "cell_type": "code",
   "execution_count": 107,
   "id": "2f1d8096",
   "metadata": {},
   "outputs": [
    {
     "name": "stdout",
     "output_type": "stream",
     "text": [
      "0.8659217877094972\n"
     ]
    }
   ],
   "source": [
    "rf = RandomForestClassifier(n_estimators = 70, criterion = 'entropy', max_depth = 10)\n",
    "rf.fit(X_train, Y_train)\n",
    "print(rf.score(X_test, Y_test))"
   ]
  },
  {
   "cell_type": "code",
   "execution_count": 108,
   "id": "cbd861e9",
   "metadata": {},
   "outputs": [
    {
     "name": "stdout",
     "output_type": "stream",
     "text": [
      "0.8268156424581006\n"
     ]
    }
   ],
   "source": [
    "rf = RandomForestClassifier(n_estimators = 5, criterion = 'entropy', max_depth = 10)\n",
    "rf.fit(X_train, Y_train)\n",
    "print(rf.score(X_test, Y_test))"
   ]
  },
  {
   "cell_type": "code",
   "execution_count": 110,
   "id": "4962aa7b",
   "metadata": {},
   "outputs": [],
   "source": [
    "import seaborn as sns"
   ]
  },
  {
   "cell_type": "code",
   "execution_count": 112,
   "id": "9ace8df4",
   "metadata": {},
   "outputs": [
    {
     "data": {
      "text/plain": [
       "<Axes: >"
      ]
     },
     "execution_count": 112,
     "metadata": {},
     "output_type": "execute_result"
    },
    {
     "data": {
      "image/png": "[encoded data removed]",
      "text/plain": [
       "<Figure size 640x480 with 2 Axes>"
      ]
     },
     "metadata": {},
     "output_type": "display_data"
    }
   ],
   "source": [
    "sns.heatmap(X_data.corr(), annot=True)"
   ]
  },
  {
   "cell_type": "code",
   "execution_count": null,
   "id": "1c82898e",
   "metadata": {},
   "outputs": [],
   "source": []
  }
 ],
 "metadata": {
  "kernelspec": {
   "display_name": "Python 3 (ipykernel)",
   "language": "python",
   "name": "python3"
  },
  "language_info": {
   "codemirror_mode": {
    "name": "ipython",
    "version": 3
   },
   "file_extension": ".py",
   "mimetype": "text/x-python",
   "name": "python",
   "nbconvert_exporter": "python",
   "pygments_lexer": "ipython3",
   "version": "3.8.10"
  }
 },
 "nbformat": 4,
 "nbformat_minor": 5
}
