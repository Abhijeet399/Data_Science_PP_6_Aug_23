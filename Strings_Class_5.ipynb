{
 "cells": [
  {
   "cell_type": "code",
   "execution_count": 1,
   "id": "892099fd",
   "metadata": {},
   "outputs": [
    {
     "name": "stdout",
     "output_type": "stream",
     "text": [
      "While 1\n",
      "Nested While 1\n",
      "Nested While 2\n",
      "Nested While 3\n",
      "Nested While 4\n",
      "Nested While 5\n",
      "While 2\n",
      "Nested While 1\n",
      "Nested While 2\n",
      "Nested While 3\n",
      "Nested While 4\n",
      "Nested While 5\n",
      "While 3\n",
      "Nested While 1\n",
      "Nested While 2\n",
      "Nested While 3\n",
      "Nested While 4\n",
      "Nested While 5\n"
     ]
    }
   ],
   "source": [
    "# Nested Loops\n",
    "count = 1\n",
    "while (count <=3):\n",
    "    count1 = 1\n",
    "    print('While', count)\n",
    "    while (count1 <=5):\n",
    "        print('Nested While', count1)\n",
    "        count1+=1\n",
    "    count+=1"
   ]
  },
  {
   "cell_type": "code",
   "execution_count": 2,
   "id": "2fe2827b",
   "metadata": {},
   "outputs": [],
   "source": [
    "# 1. Break\n",
    "# 2. Continue"
   ]
  },
  {
   "cell_type": "code",
   "execution_count": 4,
   "id": "0cb6d422",
   "metadata": {},
   "outputs": [
    {
     "name": "stdout",
     "output_type": "stream",
     "text": [
      "0\n",
      "1\n",
      "2\n"
     ]
    }
   ],
   "source": [
    "a = 0\n",
    "\n",
    "while (a<5):\n",
    "    print(a)\n",
    "    a+=1\n",
    "    if a == 3:\n",
    "        break"
   ]
  },
  {
   "cell_type": "code",
   "execution_count": 5,
   "id": "f7072b6c",
   "metadata": {},
   "outputs": [
    {
     "name": "stdout",
     "output_type": "stream",
     "text": [
      "While 1\n",
      "Nested While 1\n",
      "Nested While 2\n",
      "While 2\n",
      "Nested While 1\n",
      "Nested While 2\n",
      "While 3\n",
      "Nested While 1\n",
      "Nested While 2\n"
     ]
    }
   ],
   "source": [
    "# Nested Loops\n",
    "count = 1\n",
    "while (count <=3):\n",
    "    count1 = 1\n",
    "    print('While', count)\n",
    "    while (count1 <=5):\n",
    "        print('Nested While', count1)\n",
    "        if count1 == 2:\n",
    "            break\n",
    "        count1+=1\n",
    "    count+=1"
   ]
  },
  {
   "cell_type": "code",
   "execution_count": 154,
   "id": "10463080",
   "metadata": {},
   "outputs": [],
   "source": [
    "# # Nested Loops\n",
    "# count = 1\n",
    "# while (count <=3):\n",
    "#     count1 = 1\n",
    "#     print('While', count)\n",
    "#     while (count1 <=5):\n",
    "#         print('Nested While', count1)\n",
    "#         if count1 == 2:\n",
    "#             continue\n",
    "#         count1+=1\n",
    "#     count+=1"
   ]
  },
  {
   "cell_type": "code",
   "execution_count": 9,
   "id": "2028c32c",
   "metadata": {},
   "outputs": [
    {
     "name": "stdout",
     "output_type": "stream",
     "text": [
      "While 1\n",
      "Nested While 1\n",
      "Nested While 3\n",
      "Nested While 4\n",
      "Nested While 5\n",
      "Nested While 6\n",
      "While 2\n",
      "Nested While 1\n",
      "Nested While 3\n",
      "Nested While 4\n",
      "Nested While 5\n",
      "Nested While 6\n",
      "While 3\n",
      "Nested While 1\n",
      "Nested While 3\n",
      "Nested While 4\n",
      "Nested While 5\n",
      "Nested While 6\n"
     ]
    }
   ],
   "source": [
    "# Nested Loops\n",
    "count = 1\n",
    "while (count <= 3):\n",
    "    count1 = 0\n",
    "    print('While', count)\n",
    "    while (count1 <=5):\n",
    "        count1+=1\n",
    "        if count1 == 2:\n",
    "            continue\n",
    "        print('Nested While', count1)\n",
    "    count+=1"
   ]
  },
  {
   "cell_type": "code",
   "execution_count": 12,
   "id": "4bcc3d60",
   "metadata": {},
   "outputs": [
    {
     "name": "stdout",
     "output_type": "stream",
     "text": [
      "0\n",
      "1\n",
      "3\n",
      "4\n",
      "6\n",
      "7\n",
      "9\n"
     ]
    }
   ],
   "source": [
    "for i in range(10):\n",
    "    if i == 2 or i == 5 or i == 8:\n",
    "        continue\n",
    "    print(i)"
   ]
  },
  {
   "cell_type": "code",
   "execution_count": 29,
   "id": "e2965959",
   "metadata": {},
   "outputs": [
    {
     "name": "stdout",
     "output_type": "stream",
     "text": [
      "Enter a number97\n",
      "Prime Number\n"
     ]
    }
   ],
   "source": [
    "num = int(input('Enter a number'))\n",
    "\n",
    "# flag = False\n",
    "\n",
    "if num == 1:\n",
    "    print('Not prime not composite')\n",
    "elif num > 1:\n",
    "    for i in range(2, int(num/2)+1):\n",
    "        if (num%i == 0):\n",
    "#             flag = True\n",
    "            print('Composite Number')\n",
    "            break\n",
    "        \n",
    "        if (i == (int(num/2)+1 - 1)):\n",
    "            print('Prime Number')\n",
    "        \n",
    "#     if flag == False:\n",
    "#         print('Prime Number')\n",
    "#     else:\n",
    "#         print('Composite Number')"
   ]
  },
  {
   "cell_type": "code",
   "execution_count": 30,
   "id": "647a6d00",
   "metadata": {},
   "outputs": [],
   "source": [
    "# In built data types in Python:\n",
    "# String\n",
    "# Lists\n",
    "# Tupple\n",
    "# Dictionary \n",
    "# Set"
   ]
  },
  {
   "cell_type": "code",
   "execution_count": 33,
   "id": "cd5e7dbd",
   "metadata": {},
   "outputs": [
    {
     "name": "stdout",
     "output_type": "stream",
     "text": [
      "\"5\"\n"
     ]
    }
   ],
   "source": [
    "print('\"5\"')"
   ]
  },
  {
   "cell_type": "code",
   "execution_count": 42,
   "id": "eb184639",
   "metadata": {},
   "outputs": [
    {
     "name": "stdout",
     "output_type": "stream",
     "text": [
      "53\n"
     ]
    }
   ],
   "source": [
    "# American Standard of Code for Information Interchange\n",
    "\n",
    "print(ord('5'))"
   ]
  },
  {
   "cell_type": "code",
   "execution_count": 45,
   "id": "c8272dca",
   "metadata": {},
   "outputs": [
    {
     "name": "stdout",
     "output_type": "stream",
     "text": [
      "H e l l o   W o r l d ! "
     ]
    }
   ],
   "source": [
    "string = 'Hello World!'\n",
    "\n",
    "for i in string:\n",
    "    print(i, end=' ')"
   ]
  },
  {
   "cell_type": "code",
   "execution_count": 61,
   "id": "10576644",
   "metadata": {},
   "outputs": [
    {
     "name": "stdout",
     "output_type": "stream",
     "text": [
      "a\n"
     ]
    }
   ],
   "source": [
    "print(chr(97))"
   ]
  },
  {
   "cell_type": "code",
   "execution_count": 72,
   "id": "7c7d9644",
   "metadata": {},
   "outputs": [],
   "source": [
    "def to_upper(sentence):\n",
    "    for i in sentence:\n",
    "        print(chr(ord(i) - 32), end=' ')"
   ]
  },
  {
   "cell_type": "code",
   "execution_count": 73,
   "id": "efb12d73",
   "metadata": {},
   "outputs": [
    {
     "name": "stdout",
     "output_type": "stream",
     "text": [
      "H E L L O \u0000 M Y \u0000 N A M E \u0000 I S \u0000 A B H I J E E T "
     ]
    }
   ],
   "source": [
    "to_upper('hello my name is abhijeet')"
   ]
  },
  {
   "cell_type": "code",
   "execution_count": 75,
   "id": "13c9b89c",
   "metadata": {},
   "outputs": [],
   "source": [
    "def to_lower(sentence):\n",
    "    for i in sentence:\n",
    "        print(chr(ord(i) + 32), end=' ')"
   ]
  },
  {
   "cell_type": "code",
   "execution_count": 76,
   "id": "cdac6cf0",
   "metadata": {},
   "outputs": [
    {
     "name": "stdout",
     "output_type": "stream",
     "text": [
      "h e l l o "
     ]
    }
   ],
   "source": [
    "to_lower('HELLO')"
   ]
  },
  {
   "cell_type": "code",
   "execution_count": 77,
   "id": "871b3a6f",
   "metadata": {},
   "outputs": [
    {
     "name": "stdout",
     "output_type": "stream",
     "text": [
      "The value of var1 is: 1.0 and value of var2 is: 10\n"
     ]
    }
   ],
   "source": [
    "var1 = 1.0\n",
    "var2 = 10\n",
    "print('The value of var1 is:', var1, 'and value of var2 is:', var2)"
   ]
  },
  {
   "cell_type": "code",
   "execution_count": 79,
   "id": "4f1f4d63",
   "metadata": {},
   "outputs": [
    {
     "name": "stdout",
     "output_type": "stream",
     "text": [
      "The value of var1 is: 10 and value of var2 is: 1.0\n"
     ]
    }
   ],
   "source": [
    "print('The value of var1 is: {} and value of var2 is: {}'.format(var2, var1))"
   ]
  },
  {
   "cell_type": "code",
   "execution_count": 81,
   "id": "c2039bf0",
   "metadata": {},
   "outputs": [
    {
     "name": "stdout",
     "output_type": "stream",
     "text": [
      "The value of var1 is: 1.0 and value of var2 is: 10\n"
     ]
    }
   ],
   "source": [
    "print(f'The value of var1 is: {var1} and value of var2 is: {var2}')"
   ]
  },
  {
   "cell_type": "code",
   "execution_count": 83,
   "id": "535abed9",
   "metadata": {},
   "outputs": [
    {
     "name": "stdout",
     "output_type": "stream",
     "text": [
      "Enter?Yes \n",
      "Not Authenticated\n"
     ]
    }
   ],
   "source": [
    "if input('Enter?') == 'Yes':\n",
    "    print('Authenticated')\n",
    "else:\n",
    "    print('Not Authenticated')"
   ]
  },
  {
   "cell_type": "code",
   "execution_count": 89,
   "id": "d96404f0",
   "metadata": {},
   "outputs": [
    {
     "name": "stdout",
     "output_type": "stream",
     "text": [
      "Hello    \n",
      "Hello\n"
     ]
    }
   ],
   "source": [
    "print(input().strip())"
   ]
  },
  {
   "cell_type": "code",
   "execution_count": 91,
   "id": "62e8aa83",
   "metadata": {},
   "outputs": [
    {
     "name": "stdout",
     "output_type": "stream",
     "text": [
      "Enter?    Yes    \n",
      "Authenticated\n"
     ]
    }
   ],
   "source": [
    "if input('Enter?').strip() == 'Yes':\n",
    "    print('Authenticated')\n",
    "else:\n",
    "    print('Not Authenticated')"
   ]
  },
  {
   "cell_type": "code",
   "execution_count": 92,
   "id": "3974b9e9",
   "metadata": {},
   "outputs": [
    {
     "name": "stdout",
     "output_type": "stream",
     "text": [
      "Abhijeet Bhattacharya\n"
     ]
    }
   ],
   "source": [
    "string = '   Abhijeet Bhattacharya    '\n",
    "print(string.strip())"
   ]
  },
  {
   "cell_type": "code",
   "execution_count": 99,
   "id": "60bbce99",
   "metadata": {},
   "outputs": [
    {
     "name": "stdout",
     "output_type": "stream",
     "text": [
      "['Abhijeet', 'Bhattacharya']\n"
     ]
    }
   ],
   "source": [
    "string = 'Abhijeet Bhattacharya'\n",
    "print(string.split())"
   ]
  },
  {
   "cell_type": "code",
   "execution_count": 96,
   "id": "f5fc5fd5",
   "metadata": {},
   "outputs": [],
   "source": [
    "string.split?"
   ]
  },
  {
   "cell_type": "code",
   "execution_count": 103,
   "id": "425444de",
   "metadata": {},
   "outputs": [
    {
     "name": "stdout",
     "output_type": "stream",
     "text": [
      "['the', 'man', 'is', 'sleeping on', 'the', 'bench']\n"
     ]
    }
   ],
   "source": [
    "sentence = 'the_man_is_sleeping on_the_bench'\n",
    "print(sentence.split('_'))"
   ]
  },
  {
   "cell_type": "code",
   "execution_count": 106,
   "id": "be26245d",
   "metadata": {},
   "outputs": [],
   "source": [
    "string.strip?"
   ]
  },
  {
   "cell_type": "code",
   "execution_count": 107,
   "id": "1efe853d",
   "metadata": {},
   "outputs": [],
   "source": [
    "def to_strip(word):\n",
    "    temp = ''\n",
    "    for i in word:\n",
    "        if ord(i) == 32:\n",
    "            continue\n",
    "        else:\n",
    "            temp+=i\n",
    "    print(temp)"
   ]
  },
  {
   "cell_type": "code",
   "execution_count": 108,
   "id": "f4f5c180",
   "metadata": {},
   "outputs": [
    {
     "name": "stdout",
     "output_type": "stream",
     "text": [
      "Yes\n"
     ]
    }
   ],
   "source": [
    "to_strip('    Yes    ')"
   ]
  },
  {
   "cell_type": "code",
   "execution_count": 110,
   "id": "73517ab1",
   "metadata": {},
   "outputs": [
    {
     "name": "stdout",
     "output_type": "stream",
     "text": [
      "the_man_is_sleeping_on_the_bench\n"
     ]
    }
   ],
   "source": [
    "print(sentence.replace(' ', '_'))"
   ]
  },
  {
   "cell_type": "code",
   "execution_count": 112,
   "id": "eef8a8f9",
   "metadata": {},
   "outputs": [
    {
     "name": "stdout",
     "output_type": "stream",
     "text": [
      "the_man_is_sleeping_on_the_bench\n"
     ]
    }
   ],
   "source": [
    "sentence = sentence.replace(' ', '_')\n",
    "print(sentence)"
   ]
  },
  {
   "cell_type": "code",
   "execution_count": 115,
   "id": "81c4eba1",
   "metadata": {},
   "outputs": [
    {
     "name": "stdout",
     "output_type": "stream",
     "text": [
      "th!_man_is_sl!eping_on_the_bench\n"
     ]
    }
   ],
   "source": [
    "print(sentence.replace('e', '!', 2))"
   ]
  },
  {
   "cell_type": "code",
   "execution_count": 116,
   "id": "c2fa348e",
   "metadata": {},
   "outputs": [],
   "source": [
    "sentence.replace?"
   ]
  },
  {
   "cell_type": "code",
   "execution_count": 117,
   "id": "286f6866",
   "metadata": {},
   "outputs": [],
   "source": [
    "def to_replace(charecter, replace_chr, word):\n",
    "    temp = ''\n",
    "    for i in word:\n",
    "        if i == charecter:\n",
    "            temp += replace_chr\n",
    "        else:\n",
    "            temp += i\n",
    "    print(temp)"
   ]
  },
  {
   "cell_type": "code",
   "execution_count": 118,
   "id": "90454234",
   "metadata": {},
   "outputs": [
    {
     "name": "stdout",
     "output_type": "stream",
     "text": [
      "th!_man_is_sl!!ping_on_th!_b!nch\n"
     ]
    }
   ],
   "source": [
    "to_replace('e', '!', 'the_man_is_sleeping_on_the_bench')"
   ]
  },
  {
   "cell_type": "code",
   "execution_count": 120,
   "id": "6e54b5b9",
   "metadata": {},
   "outputs": [
    {
     "data": {
      "text/plain": [
       "5"
      ]
     },
     "execution_count": 120,
     "metadata": {},
     "output_type": "execute_result"
    }
   ],
   "source": [
    "sentence.count('e')"
   ]
  },
  {
   "cell_type": "code",
   "execution_count": 122,
   "id": "865dca7e",
   "metadata": {},
   "outputs": [
    {
     "data": {
      "text/plain": [
       "'THE_MAN_IS_SLEEPING_ON_THE_BENCH'"
      ]
     },
     "execution_count": 122,
     "metadata": {},
     "output_type": "execute_result"
    }
   ],
   "source": [
    "sentence.upper()"
   ]
  },
  {
   "cell_type": "code",
   "execution_count": 123,
   "id": "74dcee29",
   "metadata": {},
   "outputs": [
    {
     "data": {
      "text/plain": [
       "'the_man_is_sleeping_on_the_bench'"
      ]
     },
     "execution_count": 123,
     "metadata": {},
     "output_type": "execute_result"
    }
   ],
   "source": [
    "sentence.lower()"
   ]
  },
  {
   "cell_type": "code",
   "execution_count": 147,
   "id": "a56a2287",
   "metadata": {},
   "outputs": [
    {
     "name": "stdout",
     "output_type": "stream",
     "text": [
      "Enter authentication   Yes is my answer!  \n",
      "Not Authenticated\n",
      "Enter authenticationYes\n",
      "Authenticated\n"
     ]
    }
   ],
   "source": [
    "while 1:\n",
    "    \n",
    "    inp = input('Enter authentication').strip().lower()\n",
    "    \n",
    "    if inp == 'yes':\n",
    "        print('Authenticated')\n",
    "        break\n",
    "    else:\n",
    "        print('Not Authenticated')"
   ]
  },
  {
   "cell_type": "code",
   "execution_count": 146,
   "id": "994e072e",
   "metadata": {},
   "outputs": [
    {
     "data": {
      "text/plain": [
       "'the_man_is'"
      ]
     },
     "execution_count": 146,
     "metadata": {},
     "output_type": "execute_result"
    }
   ],
   "source": [
    "sentence[:10]"
   ]
  },
  {
   "cell_type": "code",
   "execution_count": 130,
   "id": "b709655c",
   "metadata": {},
   "outputs": [
    {
     "data": {
      "text/plain": [
       "'the_man_is_sleeping_on_the_bench'"
      ]
     },
     "execution_count": 130,
     "metadata": {},
     "output_type": "execute_result"
    }
   ],
   "source": [
    "sentence"
   ]
  },
  {
   "cell_type": "code",
   "execution_count": 144,
   "id": "7f1faeb0",
   "metadata": {},
   "outputs": [
    {
     "data": {
      "text/plain": [
       "'⬂'"
      ]
     },
     "execution_count": 144,
     "metadata": {},
     "output_type": "execute_result"
    }
   ],
   "source": [
    "chr(11010)"
   ]
  },
  {
   "cell_type": "code",
   "execution_count": 136,
   "id": "81f2f1b9",
   "metadata": {},
   "outputs": [
    {
     "data": {
      "text/plain": [
       "71"
      ]
     },
     "execution_count": 136,
     "metadata": {},
     "output_type": "execute_result"
    }
   ],
   "source": [
    "ord('G')"
   ]
  },
  {
   "cell_type": "code",
   "execution_count": 153,
   "id": "6ce38341",
   "metadata": {},
   "outputs": [
    {
     "name": "stdout",
     "output_type": "stream",
     "text": [
      "Enter authenticationyees   sakdj,bcskdjnjfc\n",
      "yees   sakdj,bcskdjnjfc\n",
      "Not Authenticated\n",
      "Enter authenticationYes\n",
      "yes\n",
      "yes\n",
      "Authenticated\n"
     ]
    }
   ],
   "source": [
    "while 1:\n",
    "    \n",
    "    inp = input('Enter authentication').strip().lower()\n",
    "    print(inp)\n",
    "    if inp[:3] == 'yes':\n",
    "        print(inp[:3])\n",
    "        print('Authenticated')\n",
    "        break\n",
    "    else:\n",
    "        print('Not Authenticated')"
   ]
  },
  {
   "cell_type": "markdown",
   "id": "3dea25e5",
   "metadata": {},
   "source": [
    "# LIST"
   ]
  },
  {
   "cell_type": "code",
   "execution_count": 155,
   "id": "68d936b9",
   "metadata": {},
   "outputs": [
    {
     "data": {
      "text/plain": [
       "'the_man_is_sleeping_on_the_bench'"
      ]
     },
     "execution_count": 155,
     "metadata": {},
     "output_type": "execute_result"
    }
   ],
   "source": [
    "sentence"
   ]
  },
  {
   "cell_type": "code",
   "execution_count": 161,
   "id": "9d50e40c",
   "metadata": {},
   "outputs": [],
   "source": [
    "def temp():\n",
    "    print('Hello')"
   ]
  },
  {
   "cell_type": "code",
   "execution_count": 344,
   "id": "9ff54b38",
   "metadata": {},
   "outputs": [
    {
     "name": "stdout",
     "output_type": "stream",
     "text": [
      "hi\n"
     ]
    }
   ],
   "source": [
    "student = ['1', 1, 1.0, True, sentence, temp, range, print('hi')]"
   ]
  },
  {
   "cell_type": "code",
   "execution_count": 345,
   "id": "fc105497",
   "metadata": {},
   "outputs": [
    {
     "name": "stdout",
     "output_type": "stream",
     "text": [
      "<class 'list'>\n"
     ]
    }
   ],
   "source": [
    "print(type(student))"
   ]
  },
  {
   "cell_type": "code",
   "execution_count": 346,
   "id": "decebe4d",
   "metadata": {},
   "outputs": [
    {
     "data": {
      "text/plain": [
       "1"
      ]
     },
     "execution_count": 346,
     "metadata": {},
     "output_type": "execute_result"
    }
   ],
   "source": [
    "student[1]"
   ]
  },
  {
   "cell_type": "code",
   "execution_count": 347,
   "id": "3c084dcf",
   "metadata": {},
   "outputs": [
    {
     "name": "stdout",
     "output_type": "stream",
     "text": [
      "<class 'range'>\n"
     ]
    }
   ],
   "source": [
    "print(student[-2])"
   ]
  },
  {
   "cell_type": "code",
   "execution_count": 348,
   "id": "8b012808",
   "metadata": {},
   "outputs": [
    {
     "ename": "TypeError",
     "evalue": "'NoneType' object is not callable",
     "output_type": "error",
     "traceback": [
      "\u001b[1;31m---------------------------------------------------------------------------\u001b[0m",
      "\u001b[1;31mTypeError\u001b[0m                                 Traceback (most recent call last)",
      "Cell \u001b[1;32mIn[348], line 1\u001b[0m\n\u001b[1;32m----> 1\u001b[0m \u001b[43mstudent\u001b[49m\u001b[43m[\u001b[49m\u001b[38;5;241;43m-\u001b[39;49m\u001b[38;5;241;43m1\u001b[39;49m\u001b[43m]\u001b[49m\u001b[43m(\u001b[49m\u001b[38;5;124;43m'\u001b[39;49m\u001b[38;5;124;43mHello\u001b[39;49m\u001b[38;5;124;43m'\u001b[39;49m\u001b[43m)\u001b[49m\n",
      "\u001b[1;31mTypeError\u001b[0m: 'NoneType' object is not callable"
     ]
    }
   ],
   "source": [
    "student[-1]('Hello')"
   ]
  },
  {
   "cell_type": "code",
   "execution_count": 349,
   "id": "beca7146",
   "metadata": {},
   "outputs": [
    {
     "name": "stdout",
     "output_type": "stream",
     "text": [
      "1 1 1.0 True the_man_is_sleeping_on_the_bench <function temp at 0x000002650D87F3A0> <class 'range'> None "
     ]
    }
   ],
   "source": [
    "for i in student:\n",
    "    print(i, end=' ')"
   ]
  },
  {
   "cell_type": "code",
   "execution_count": 350,
   "id": "3192210f",
   "metadata": {},
   "outputs": [
    {
     "data": {
      "text/plain": [
       "['1',\n",
       " 1,\n",
       " 1.0,\n",
       " True,\n",
       " 'the_man_is_sleeping_on_the_bench',\n",
       " <function __main__.temp()>,\n",
       " range,\n",
       " None]"
      ]
     },
     "execution_count": 350,
     "metadata": {},
     "output_type": "execute_result"
    }
   ],
   "source": [
    "student"
   ]
  },
  {
   "cell_type": "code",
   "execution_count": 351,
   "id": "4ee9f153",
   "metadata": {},
   "outputs": [],
   "source": [
    "student.append('Hello')"
   ]
  },
  {
   "cell_type": "code",
   "execution_count": 352,
   "id": "403cd957",
   "metadata": {},
   "outputs": [
    {
     "data": {
      "text/plain": [
       "['1',\n",
       " 1,\n",
       " 1.0,\n",
       " True,\n",
       " 'the_man_is_sleeping_on_the_bench',\n",
       " <function __main__.temp()>,\n",
       " range,\n",
       " None,\n",
       " 'Hello']"
      ]
     },
     "execution_count": 352,
     "metadata": {},
     "output_type": "execute_result"
    }
   ],
   "source": [
    "student"
   ]
  },
  {
   "cell_type": "code",
   "execution_count": 353,
   "id": "44f64035",
   "metadata": {},
   "outputs": [],
   "source": [
    "def to_split(word, delimiter):\n",
    "    temp = ''\n",
    "    sentence = []\n",
    "    for i in word:\n",
    "        if i == delimiter:\n",
    "            sentence.append(temp)\n",
    "            temp = ''\n",
    "        else:\n",
    "            temp += i\n",
    "    sentence.append(temp)\n",
    "    print(sentence)"
   ]
  },
  {
   "cell_type": "code",
   "execution_count": 354,
   "id": "4d100d9a",
   "metadata": {},
   "outputs": [
    {
     "name": "stdout",
     "output_type": "stream",
     "text": [
      "['the', 'man', 'is', 'sleeping', 'on', 'the', 'bench']\n"
     ]
    }
   ],
   "source": [
    "to_split(sentence, '_')"
   ]
  },
  {
   "cell_type": "code",
   "execution_count": 355,
   "id": "ff52640a",
   "metadata": {},
   "outputs": [],
   "source": [
    "student.append?"
   ]
  },
  {
   "cell_type": "code",
   "execution_count": 356,
   "id": "5a2846f7",
   "metadata": {},
   "outputs": [],
   "source": [
    "student.insert(0, 'hi')"
   ]
  },
  {
   "cell_type": "code",
   "execution_count": 357,
   "id": "41b4be50",
   "metadata": {},
   "outputs": [
    {
     "data": {
      "text/plain": [
       "['hi',\n",
       " '1',\n",
       " 1,\n",
       " 1.0,\n",
       " True,\n",
       " 'the_man_is_sleeping_on_the_bench',\n",
       " <function __main__.temp()>,\n",
       " range,\n",
       " None,\n",
       " 'Hello']"
      ]
     },
     "execution_count": 357,
     "metadata": {},
     "output_type": "execute_result"
    }
   ],
   "source": [
    "student"
   ]
  },
  {
   "cell_type": "code",
   "execution_count": 358,
   "id": "3a0f0fee",
   "metadata": {},
   "outputs": [
    {
     "name": "stdout",
     "output_type": "stream",
     "text": [
      "['Abhijeet', 'hi', '1', 1, 1.0, True, 'the_man_is_sleeping_on_the_bench', <function temp at 0x000002650D87F3A0>, <class 'range'>, None, 'Hello']\n"
     ]
    }
   ],
   "source": [
    "student.insert(0, 'Abhijeet')\n",
    "print(student)"
   ]
  },
  {
   "cell_type": "code",
   "execution_count": 359,
   "id": "f7dc7a1c",
   "metadata": {},
   "outputs": [
    {
     "name": "stdout",
     "output_type": "stream",
     "text": [
      "['hi', '1', 1, 1.0, True, 'the_man_is_sleeping_on_the_bench', <function temp at 0x000002650D87F3A0>, <class 'range'>, None, 'Hello']\n"
     ]
    }
   ],
   "source": [
    "student.pop(0)\n",
    "print(student)"
   ]
  },
  {
   "cell_type": "code",
   "execution_count": 360,
   "id": "d1b61326",
   "metadata": {},
   "outputs": [
    {
     "name": "stdout",
     "output_type": "stream",
     "text": [
      "Hello ['hi', '1', 1, 1.0, True, 'the_man_is_sleeping_on_the_bench', <function temp at 0x000002650D87F3A0>, <class 'range'>, None]\n"
     ]
    }
   ],
   "source": [
    "var = student.pop()\n",
    "print(var, student)"
   ]
  },
  {
   "cell_type": "code",
   "execution_count": 361,
   "id": "61201c1e",
   "metadata": {},
   "outputs": [
    {
     "data": {
      "text/plain": [
       "['hi',\n",
       " '1',\n",
       " 1,\n",
       " 1.0,\n",
       " True,\n",
       " 'the_man_is_sleeping_on_the_bench',\n",
       " <function __main__.temp()>,\n",
       " range,\n",
       " None]"
      ]
     },
     "execution_count": 361,
     "metadata": {},
     "output_type": "execute_result"
    }
   ],
   "source": [
    "student"
   ]
  },
  {
   "cell_type": "code",
   "execution_count": 362,
   "id": "873f8390",
   "metadata": {},
   "outputs": [],
   "source": [
    "def to_pop(student, index):\n",
    "#     student = []\n",
    "    var = student[index]\n",
    "    student.append(student[:index])\n",
    "    print(student)\n",
    "    student.append(student[(index + 1): -1])\n",
    "    print(student)\n",
    "    student = student[-2] + student[-1]\n",
    "    print(student)\n",
    "    return var"
   ]
  },
  {
   "cell_type": "code",
   "execution_count": 363,
   "id": "1a8bd47b",
   "metadata": {},
   "outputs": [
    {
     "name": "stdout",
     "output_type": "stream",
     "text": [
      "['hi', '1', 1, 1.0, True, 'the_man_is_sleeping_on_the_bench', <function temp at 0x000002650D87F3A0>, <class 'range'>, None, ['hi', '1', 1, 1.0, True]]\n",
      "['hi', '1', 1, 1.0, True, 'the_man_is_sleeping_on_the_bench', <function temp at 0x000002650D87F3A0>, <class 'range'>, None, ['hi', '1', 1, 1.0, True], [<function temp at 0x000002650D87F3A0>, <class 'range'>, None]]\n",
      "['hi', '1', 1, 1.0, True, <function temp at 0x000002650D87F3A0>, <class 'range'>, None]\n"
     ]
    },
    {
     "data": {
      "text/plain": [
       "'the_man_is_sleeping_on_the_bench'"
      ]
     },
     "execution_count": 363,
     "metadata": {},
     "output_type": "execute_result"
    }
   ],
   "source": [
    "to_pop(student, 5)"
   ]
  },
  {
   "cell_type": "code",
   "execution_count": 366,
   "id": "1be4037d",
   "metadata": {},
   "outputs": [],
   "source": [
    "student.reverse()"
   ]
  },
  {
   "cell_type": "code",
   "execution_count": 365,
   "id": "ab340fd0",
   "metadata": {},
   "outputs": [
    {
     "data": {
      "text/plain": [
       "[[<function __main__.temp()>, range, None],\n",
       " ['hi', '1', 1, 1.0, True],\n",
       " None,\n",
       " range,\n",
       " <function __main__.temp()>,\n",
       " 'the_man_is_sleeping_on_the_bench',\n",
       " True,\n",
       " 1.0,\n",
       " 1,\n",
       " '1',\n",
       " 'hi']"
      ]
     },
     "execution_count": 365,
     "metadata": {},
     "output_type": "execute_result"
    }
   ],
   "source": [
    "student"
   ]
  },
  {
   "cell_type": "markdown",
   "id": "e318e6e7",
   "metadata": {},
   "source": [
    "# Tupples"
   ]
  },
  {
   "cell_type": "code",
   "execution_count": 367,
   "id": "96a9081e",
   "metadata": {},
   "outputs": [],
   "source": [
    "tup = (1, 2, 3, '4', 1, 20.2, 11)"
   ]
  },
  {
   "cell_type": "code",
   "execution_count": 368,
   "id": "64ac86a5",
   "metadata": {},
   "outputs": [
    {
     "name": "stdout",
     "output_type": "stream",
     "text": [
      "1\n",
      "2\n",
      "3\n",
      "4\n",
      "1\n",
      "20.2\n",
      "11\n"
     ]
    }
   ],
   "source": [
    "for i in tup:\n",
    "    print(i)"
   ]
  },
  {
   "cell_type": "code",
   "execution_count": 375,
   "id": "01edc9b6",
   "metadata": {},
   "outputs": [
    {
     "data": {
      "text/plain": [
       "(1, 2, 3, '4', 1, 20.2, 11)"
      ]
     },
     "execution_count": 375,
     "metadata": {},
     "output_type": "execute_result"
    }
   ],
   "source": [
    "tup"
   ]
  },
  {
   "cell_type": "code",
   "execution_count": 376,
   "id": "626e3f5e",
   "metadata": {},
   "outputs": [],
   "source": [
    "def calculator(a, b):\n",
    "    return a+b, a-b, a*b, a/b"
   ]
  },
  {
   "cell_type": "code",
   "execution_count": 382,
   "id": "4e1085c8",
   "metadata": {},
   "outputs": [
    {
     "name": "stdout",
     "output_type": "stream",
     "text": [
      "(7, 3, 10, 2.5)\n"
     ]
    }
   ],
   "source": [
    "a = calculator(5, 2)\n",
    "print(a)"
   ]
  },
  {
   "cell_type": "code",
   "execution_count": 383,
   "id": "a9bd2bdb",
   "metadata": {},
   "outputs": [
    {
     "name": "stdout",
     "output_type": "stream",
     "text": [
      "[1, 2, 3, '4', 1, 20.2, 11]\n"
     ]
    }
   ],
   "source": [
    "print(list(tup))"
   ]
  },
  {
   "cell_type": "code",
   "execution_count": 387,
   "id": "6d1e7d23",
   "metadata": {},
   "outputs": [
    {
     "name": "stdout",
     "output_type": "stream",
     "text": [
      "(1, 2, 3, '4', 1, 20.2, 11, 'Hello', 'Hello')\n"
     ]
    }
   ],
   "source": [
    "tup = list(tup)\n",
    "tup.append('Hello')\n",
    "tup = tuple(tup)\n",
    "print(tup)"
   ]
  },
  {
   "cell_type": "markdown",
   "id": "af2a2832",
   "metadata": {},
   "source": [
    "# Dictionary"
   ]
  },
  {
   "cell_type": "code",
   "execution_count": 408,
   "id": "5ae293c7",
   "metadata": {},
   "outputs": [],
   "source": [
    "dictionary = {\n",
    "    '1': 'The first number of whole numbers',\n",
    "    2: 'The number 2',\n",
    "    3.0: 3,\n",
    "    4: print,\n",
    "    True: 2,\n",
    "    d:{\n",
    "        1: 'One',\n",
    "        2:'Two',\n",
    "        3:'Three'\n",
    "    }\n",
    "}"
   ]
  },
  {
   "cell_type": "code",
   "execution_count": 409,
   "id": "7e6e5353",
   "metadata": {},
   "outputs": [
    {
     "data": {
      "text/plain": [
       "{'1': 'The first number of whole numbers',\n",
       " 2: 'The number 2',\n",
       " 3.0: 3,\n",
       " 4: <function print>,\n",
       " True: 2,\n",
       " 2.5: {1: 'One', 2: 'Two', 3: 'Three'}}"
      ]
     },
     "execution_count": 409,
     "metadata": {},
     "output_type": "execute_result"
    }
   ],
   "source": [
    "dictionary"
   ]
  },
  {
   "cell_type": "code",
   "execution_count": 410,
   "id": "d54c541e",
   "metadata": {},
   "outputs": [
    {
     "name": "stdout",
     "output_type": "stream",
     "text": [
      "Hello\n"
     ]
    }
   ],
   "source": [
    "dictionary[4]('Hello')"
   ]
  },
  {
   "cell_type": "code",
   "execution_count": 416,
   "id": "9485d8e9",
   "metadata": {},
   "outputs": [
    {
     "name": "stdout",
     "output_type": "stream",
     "text": [
      "1 The first number of whole numbers\n",
      "2 The number 2\n",
      "3.0 3\n",
      "4 <built-in function print>\n",
      "True 2\n",
      "2.5 {1: 'One', 2: 'Two', 3: 'Three'}\n"
     ]
    }
   ],
   "source": [
    "for i in dictionary:\n",
    "    print(i, dictionary[i])"
   ]
  },
  {
   "cell_type": "code",
   "execution_count": 412,
   "id": "edc40110",
   "metadata": {},
   "outputs": [
    {
     "data": {
      "text/plain": [
       "dict_values(['The first number of whole numbers', 'The number 2', 3, <built-in function print>, 2, {1: 'One', 2: 'Two', 3: 'Three'}])"
      ]
     },
     "execution_count": 412,
     "metadata": {},
     "output_type": "execute_result"
    }
   ],
   "source": [
    "dictionary.values()"
   ]
  },
  {
   "cell_type": "code",
   "execution_count": 414,
   "id": "d045d019",
   "metadata": {},
   "outputs": [
    {
     "data": {
      "text/plain": [
       "dict_keys([1, 2, 3])"
      ]
     },
     "execution_count": 414,
     "metadata": {},
     "output_type": "execute_result"
    }
   ],
   "source": [
    "dictionary[d].keys()"
   ]
  },
  {
   "cell_type": "code",
   "execution_count": 415,
   "id": "1d6abaac",
   "metadata": {},
   "outputs": [
    {
     "data": {
      "text/plain": [
       "dict_keys(['1', 2, 3.0, 4, True, 2.5])"
      ]
     },
     "execution_count": 415,
     "metadata": {},
     "output_type": "execute_result"
    }
   ],
   "source": [
    "dictionary.keys()"
   ]
  },
  {
   "cell_type": "code",
   "execution_count": 417,
   "id": "040cc039",
   "metadata": {},
   "outputs": [
    {
     "data": {
      "text/plain": [
       "dict_items([('1', 'The first number of whole numbers'), (2, 'The number 2'), (3.0, 3), (4, <built-in function print>), (True, 2), (2.5, {1: 'One', 2: 'Two', 3: 'Three'})])"
      ]
     },
     "execution_count": 417,
     "metadata": {},
     "output_type": "execute_result"
    }
   ],
   "source": [
    "dictionary.items()"
   ]
  },
  {
   "cell_type": "code",
   "execution_count": 418,
   "id": "3724fec1",
   "metadata": {},
   "outputs": [
    {
     "name": "stdout",
     "output_type": "stream",
     "text": [
      "hello\n"
     ]
    }
   ],
   "source": [
    "if type(dictionary) == dict:\n",
    "    print(\"hello\")"
   ]
  },
  {
   "cell_type": "code",
   "execution_count": 429,
   "id": "3cdf32cf",
   "metadata": {},
   "outputs": [
    {
     "name": "stdout",
     "output_type": "stream",
     "text": [
      "('1', 'The first number of whole numbers')\n",
      "(2, 'The number 2')\n",
      "(3.0, 3)\n",
      "(4, <built-in function print>)\n",
      "(True, 2)\n",
      "(2.5, {1: 'One', 2: 'Two', 3: 'Three'})\n"
     ]
    }
   ],
   "source": [
    "values = []\n",
    "\n",
    "for i in dictionary.items():\n",
    "    print(i)\n",
    "    if type(i[1]) == dict:\n",
    "        for j in i[1]:\n",
    "            values.append(i[1][j])\n",
    "#         values.append(i[1].values())\n",
    "        continue\n",
    "    else:\n",
    "        values.append(i[1])"
   ]
  },
  {
   "cell_type": "code",
   "execution_count": 430,
   "id": "0f9bd349",
   "metadata": {},
   "outputs": [
    {
     "data": {
      "text/plain": [
       "['The first number of whole numbers',\n",
       " 'The number 2',\n",
       " 3,\n",
       " <function print>,\n",
       " 2,\n",
       " 'One',\n",
       " 'Two',\n",
       " 'Three']"
      ]
     },
     "execution_count": 430,
     "metadata": {},
     "output_type": "execute_result"
    }
   ],
   "source": [
    "values"
   ]
  },
  {
   "cell_type": "markdown",
   "id": "d3f0651b",
   "metadata": {},
   "source": [
    "# Sets"
   ]
  },
  {
   "cell_type": "code",
   "execution_count": 431,
   "id": "b9734e76",
   "metadata": {},
   "outputs": [],
   "source": [
    "a = []\n",
    "for i in range(20):\n",
    "    a.append(i)"
   ]
  },
  {
   "cell_type": "code",
   "execution_count": 432,
   "id": "d236a38a",
   "metadata": {},
   "outputs": [
    {
     "data": {
      "text/plain": [
       "[0, 1, 2, 3, 4, 5, 6, 7, 8, 9, 10, 11, 12, 13, 14, 15, 16, 17, 18, 19]"
      ]
     },
     "execution_count": 432,
     "metadata": {},
     "output_type": "execute_result"
    }
   ],
   "source": [
    "a"
   ]
  },
  {
   "cell_type": "code",
   "execution_count": 433,
   "id": "fa8a2ff8",
   "metadata": {},
   "outputs": [],
   "source": [
    "b = []\n",
    "for i in range(10, 30):\n",
    "    b.append(i)"
   ]
  },
  {
   "cell_type": "code",
   "execution_count": 434,
   "id": "2699f55a",
   "metadata": {},
   "outputs": [
    {
     "data": {
      "text/plain": [
       "[10,\n",
       " 11,\n",
       " 12,\n",
       " 13,\n",
       " 14,\n",
       " 15,\n",
       " 16,\n",
       " 17,\n",
       " 18,\n",
       " 19,\n",
       " 20,\n",
       " 21,\n",
       " 22,\n",
       " 23,\n",
       " 24,\n",
       " 25,\n",
       " 26,\n",
       " 27,\n",
       " 28,\n",
       " 29]"
      ]
     },
     "execution_count": 434,
     "metadata": {},
     "output_type": "execute_result"
    }
   ],
   "source": [
    "b"
   ]
  },
  {
   "cell_type": "code",
   "execution_count": 435,
   "id": "27c89f9c",
   "metadata": {},
   "outputs": [
    {
     "name": "stdout",
     "output_type": "stream",
     "text": [
      "<class 'list'> <class 'list'>\n"
     ]
    }
   ],
   "source": [
    "print(type(a), type(b))"
   ]
  },
  {
   "cell_type": "code",
   "execution_count": 436,
   "id": "db90e0bf",
   "metadata": {},
   "outputs": [
    {
     "name": "stdout",
     "output_type": "stream",
     "text": [
      "<class 'set'> <class 'set'>\n"
     ]
    }
   ],
   "source": [
    "print(type(set(a)), type(set(b)))"
   ]
  },
  {
   "cell_type": "code",
   "execution_count": 437,
   "id": "1ad77237",
   "metadata": {},
   "outputs": [
    {
     "name": "stdout",
     "output_type": "stream",
     "text": [
      "{10, 11, 12, 13, 14, 15, 16, 17, 18, 19}\n"
     ]
    }
   ],
   "source": [
    "print(set(a).intersection(b))"
   ]
  },
  {
   "cell_type": "code",
   "execution_count": 438,
   "id": "c56ab23f",
   "metadata": {},
   "outputs": [
    {
     "name": "stdout",
     "output_type": "stream",
     "text": [
      "{0, 1, 2, 3, 4, 5, 6, 7, 8, 9, 10, 11, 12, 13, 14, 15, 16, 17, 18, 19, 20, 21, 22, 23, 24, 25, 26, 27, 28, 29}\n"
     ]
    }
   ],
   "source": [
    "print(set(a).union(b))"
   ]
  },
  {
   "cell_type": "code",
   "execution_count": 439,
   "id": "8e58fb83",
   "metadata": {},
   "outputs": [
    {
     "name": "stdout",
     "output_type": "stream",
     "text": [
      "{0, 1, 2, 3, 4, 5, 6, 7, 8, 9, 10, 11, 12, 13, 14, 15, 16, 17, 18, 19}\n"
     ]
    }
   ],
   "source": [
    "print(set(a))"
   ]
  },
  {
   "cell_type": "code",
   "execution_count": 441,
   "id": "fb752bc1",
   "metadata": {},
   "outputs": [],
   "source": [
    "list_a_b = a + b"
   ]
  },
  {
   "cell_type": "code",
   "execution_count": 442,
   "id": "e562dabd",
   "metadata": {},
   "outputs": [
    {
     "data": {
      "text/plain": [
       "[0,\n",
       " 1,\n",
       " 2,\n",
       " 3,\n",
       " 4,\n",
       " 5,\n",
       " 6,\n",
       " 7,\n",
       " 8,\n",
       " 9,\n",
       " 10,\n",
       " 11,\n",
       " 12,\n",
       " 13,\n",
       " 14,\n",
       " 15,\n",
       " 16,\n",
       " 17,\n",
       " 18,\n",
       " 19,\n",
       " 10,\n",
       " 11,\n",
       " 12,\n",
       " 13,\n",
       " 14,\n",
       " 15,\n",
       " 16,\n",
       " 17,\n",
       " 18,\n",
       " 19,\n",
       " 20,\n",
       " 21,\n",
       " 22,\n",
       " 23,\n",
       " 24,\n",
       " 25,\n",
       " 26,\n",
       " 27,\n",
       " 28,\n",
       " 29]"
      ]
     },
     "execution_count": 442,
     "metadata": {},
     "output_type": "execute_result"
    }
   ],
   "source": [
    "list_a_b"
   ]
  },
  {
   "cell_type": "code",
   "execution_count": 443,
   "id": "a2e92155",
   "metadata": {},
   "outputs": [
    {
     "name": "stdout",
     "output_type": "stream",
     "text": [
      "{0, 1, 2, 3, 4, 5, 6, 7, 8, 9, 10, 11, 12, 13, 14, 15, 16, 17, 18, 19, 20, 21, 22, 23, 24, 25, 26, 27, 28, 29}\n"
     ]
    }
   ],
   "source": [
    "print(set(list_a_b))"
   ]
  },
  {
   "cell_type": "code",
   "execution_count": 444,
   "id": "d02d9e04",
   "metadata": {},
   "outputs": [
    {
     "name": "stdout",
     "output_type": "stream",
     "text": [
      "1 2.0 3 54 3 225\n"
     ]
    }
   ],
   "source": [
    "print(1, 2.0, 3, 54, 3, 225)"
   ]
  },
  {
   "cell_type": "code",
   "execution_count": 445,
   "id": "8c371a32",
   "metadata": {},
   "outputs": [],
   "source": [
    "print?"
   ]
  },
  {
   "cell_type": "markdown",
   "id": "f7273964",
   "metadata": {},
   "source": [
    "# Args and Kwargs"
   ]
  },
  {
   "cell_type": "code",
   "execution_count": 489,
   "id": "6741613b",
   "metadata": {},
   "outputs": [],
   "source": [
    "def adder(a, b, *args, c = 0, **kwargs):\n",
    "#     c = 0\n",
    "    print(a+b)\n",
    "    a = a+b\n",
    "    print(args)\n",
    "    print(kwargs)\n",
    "    for i in args:\n",
    "        a += i\n",
    "    print(a)\n",
    "    print(c)"
   ]
  },
  {
   "cell_type": "code",
   "execution_count": 490,
   "id": "ce5e73fd",
   "metadata": {},
   "outputs": [
    {
     "name": "stdout",
     "output_type": "stream",
     "text": [
      "10\n",
      "(1, 2, 3.5, 1)\n",
      "{}\n",
      "17.5\n",
      "212\n"
     ]
    }
   ],
   "source": [
    "adder(1, 9, 1, 2, 3.5, 1, c = 212)"
   ]
  },
  {
   "cell_type": "code",
   "execution_count": 492,
   "id": "0b622c90",
   "metadata": {},
   "outputs": [
    {
     "name": "stdout",
     "output_type": "stream",
     "text": [
      "10\n",
      "(1, 2, 3.5, 1, 212)\n",
      "{'name': 'adder dunction', 'functionality': 'Add'}\n",
      "229.5\n",
      "0\n"
     ]
    }
   ],
   "source": [
    "adder(1, 9, 1, 2, 3.5, 1, 212, name = 'adder dunction', functionality = 'Add')"
   ]
  },
  {
   "cell_type": "code",
   "execution_count": null,
   "id": "c01832c0",
   "metadata": {},
   "outputs": [],
   "source": []
  }
 ],
 "metadata": {
  "kernelspec": {
   "display_name": "Python 3 (ipykernel)",
   "language": "python",
   "name": "python3"
  },
  "language_info": {
   "codemirror_mode": {
    "name": "ipython",
    "version": 3
   },
   "file_extension": ".py",
   "mimetype": "text/x-python",
   "name": "python",
   "nbconvert_exporter": "python",
   "pygments_lexer": "ipython3",
   "version": "3.8.10"
  }
 },
 "nbformat": 4,
 "nbformat_minor": 5
}
